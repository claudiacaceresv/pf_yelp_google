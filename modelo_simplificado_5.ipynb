{
  "nbformat": 4,
  "nbformat_minor": 0,
  "metadata": {
    "colab": {
      "provenance": []
    },
    "kernelspec": {
      "name": "python3",
      "display_name": "Python 3"
    },
    "language_info": {
      "name": "python"
    }
  },
  "cells": [
    {
      "cell_type": "markdown",
      "source": [
        "# Se importan las librerias"
      ],
      "metadata": {
        "id": "Tn8yaY131ahU"
      }
    },
    {
      "cell_type": "code",
      "source": [
        "import pandas as pd\n",
        "import seaborn as sns\n",
        "from sklearn.neighbors import KernelDensity\n",
        "import numpy as np\n",
        "import matplotlib.pyplot as plt\n",
        "from mpl_toolkits.mplot3d import Axes3D\n",
        "from sklearn.preprocessing import MinMaxScaler\n",
        "from scipy.optimize import minimize\n",
        "import re\n",
        "from gensim.models import Word2Vec\n",
        "from nltk.tokenize import word_tokenize\n",
        "import warnings\n",
        "warnings.filterwarnings('ignore')\n",
        "import nltk\n",
        "from gensim.models import Word2Vec\n",
        "\n",
        "# Se descarga el recurso 'punkt' para tokenizar o separar palabras\n",
        "nltk.download('punkt')"
      ],
      "metadata": {
        "id": "kMRhYz0FcRP7",
        "colab": {
          "base_uri": "https://localhost:8080/"
        },
        "outputId": "fb3b39e8-73e9-4eb9-9f84-5cf9f5b897e8"
      },
      "execution_count": 1,
      "outputs": [
        {
          "output_type": "stream",
          "name": "stderr",
          "text": [
            "[nltk_data] Downloading package punkt to /root/nltk_data...\n",
            "[nltk_data]   Package punkt is already up-to-date!\n"
          ]
        },
        {
          "output_type": "execute_result",
          "data": {
            "text/plain": [
              "True"
            ]
          },
          "metadata": {},
          "execution_count": 1
        }
      ]
    },
    {
      "cell_type": "markdown",
      "source": [
        "# Se importa el archivo \"meta_google_miami.parquet\" que está asociado a 800 restaurantes de Miami filtrados"
      ],
      "metadata": {
        "id": "fFJOzTSp1e_a"
      }
    },
    {
      "cell_type": "code",
      "source": [
        "meta=pd.read_parquet(\"meta_google_miami.parquet\")"
      ],
      "metadata": {
        "id": "x5OJ-ajWUgtM"
      },
      "execution_count": 2,
      "outputs": []
    },
    {
      "cell_type": "markdown",
      "source": [
        "# Se importa el archivo \"data_filtrada.parquet\" que posee un gran conjunto de palabras útiles para entrenar el modelo"
      ],
      "metadata": {
        "id": "hvotsQtP2FOJ"
      }
    },
    {
      "cell_type": "code",
      "execution_count": 3,
      "metadata": {
        "id": "QplMcjSAbt3G"
      },
      "outputs": [],
      "source": [
        "meta_1=pd.read_parquet(\"data_filtrada.parquet\")"
      ]
    },
    {
      "cell_type": "markdown",
      "source": [
        "# Se guardan las categorías únicas"
      ],
      "metadata": {
        "id": "iRQvyDdkU9HT"
      }
    },
    {
      "cell_type": "code",
      "source": [
        "categorias_existentes = meta_1['category'].unique()"
      ],
      "metadata": {
        "id": "PMFApVNYsBb3"
      },
      "execution_count": 4,
      "outputs": []
    },
    {
      "cell_type": "markdown",
      "source": [
        "# Se utiliza el algoritmo KernelDensity que busca la densidad en la coordenadas de los restaurantes"
      ],
      "metadata": {
        "id": "b_AtIFEZdJ4M"
      }
    },
    {
      "cell_type": "code",
      "source": [
        "# Se obtienen las coordenadas de todos los restaurantes\n",
        "coordenadas = meta[['latitude', 'longitude']].values\n",
        "\n",
        "# Se inicializa el modelo de Kernel Density Estimation (KDE)\n",
        "kde = KernelDensity(bandwidth=0.01, metric='haversine')\n",
        "\n",
        "# Se ajusta el modelo a las coordenadas de los restaurantes\n",
        "kde.fit(np.radians(coordenadas))\n",
        "\n",
        "# Se calcula las densidades para todas las coordenadas de los restaurantes\n",
        "densidades = kde.score_samples(np.radians(coordenadas))\n",
        "\n",
        "# Se agregan la columna de densidad al DataFrame \"meta\"\n",
        "meta['densidad'] = densidades\n"
      ],
      "metadata": {
        "id": "NC_FStdXb1Xd"
      },
      "execution_count": 5,
      "outputs": []
    },
    {
      "cell_type": "markdown",
      "source": [
        "# Se muestran las categorías del dataset"
      ],
      "metadata": {
        "id": "S1iytctXXKop"
      }
    },
    {
      "cell_type": "code",
      "source": [
        "categorias_existentes"
      ],
      "metadata": {
        "id": "Xh25v2MO1Cdr",
        "colab": {
          "base_uri": "https://localhost:8080/"
        },
        "outputId": "16cb74cb-c29a-455b-c080-5c000192a906"
      },
      "execution_count": 6,
      "outputs": [
        {
          "output_type": "execute_result",
          "data": {
            "text/plain": [
              "array(['Korean restaurant', 'Restaurant',\n",
              "       'Bakery, Health food restaurant', ...,\n",
              "       'Bar & grill, Convenience store, Lottery retailer, Pizza delivery, Propane supplier, Sandwich shop',\n",
              "       'Brazilian restaurant, Bistro, Brazilian pastelaria, Diner, Fast food restaurant, Pub, Restaurant',\n",
              "       'Mexican restaurant, Bar, Pub, Restaurant'], dtype=object)"
            ]
          },
          "metadata": {},
          "execution_count": 6
        }
      ]
    },
    {
      "cell_type": "markdown",
      "source": [
        "# Se entrena un modelo de búsqueda de palabras similares llamado Word2Vec"
      ],
      "metadata": {
        "id": "CYFaDidCTKym"
      }
    },
    {
      "cell_type": "code",
      "source": [
        "# Se limpia las comas y espacios en blanco en las categorías antes de tokenizar\n",
        "categorias_limpio = [re.sub(r'[^\\w\\s]', '', category) for category in categorias_existentes]\n",
        "categorias_tokenizadas = [word_tokenize(category) for category in categorias_limpio]\n",
        "\n",
        "# Se entrena el modelo Word2Vec en las categorías tokenizadas\n",
        "model = Word2Vec(categorias_tokenizadas, vector_size=300, window=5, min_count=5, sg=0)"
      ],
      "metadata": {
        "id": "F_AeZIOQTJ4M"
      },
      "execution_count": 7,
      "outputs": []
    },
    {
      "cell_type": "markdown",
      "source": [
        "# Se guarda el modelo entrenado con el dataset"
      ],
      "metadata": {
        "id": "5d1bIWshVKO6"
      }
    },
    {
      "cell_type": "code",
      "source": [
        "model.save(\"modelo_word2vec.bin\")"
      ],
      "metadata": {
        "id": "ucBwqc_uRcpn"
      },
      "execution_count": 8,
      "outputs": []
    },
    {
      "cell_type": "markdown",
      "source": [
        "# Se prueba el algoritmo entrenado"
      ],
      "metadata": {
        "id": "q_HROv6MTZC3"
      }
    },
    {
      "cell_type": "code",
      "source": [
        "# Se obtiene la palabra ingresada por el usuario\n",
        "palabra = input(\"Ingresa una palabra: \")\n",
        "\n",
        "# Se limpia la palabra ingresada por el usuario\n",
        "palabra = re.sub(r'[^\\w\\s]', '', palabra)\n",
        "\n",
        "# Se entrena la palabra más cercana según la similitud del coseno\n",
        "try:\n",
        "    palabra_similar, similaridad = model.wv.most_similar(palabra, topn=1)[0]\n",
        "    print(f\"La palabra más cercana a '{palabra}' es '{palabra_similar}' con una similitud de coseno de {similaridad:.2f}\")\n",
        "\n",
        "    # Se filtra las categorías que contienen la palabra similar\n",
        "    categorias_con_palabra = [categoria for categoria in categorias_existentes if palabra_similar in categoria]\n",
        "    categorias_sin_palabra = [categoria for categoria in categorias_existentes if palabra_similar not in categoria]\n",
        "\n",
        "    # Se combina las dos listas de categorías, poniendo las categorías con la palabra al principio\n",
        "    categorias_filtradas = categorias_con_palabra + categorias_sin_palabra\n",
        "\n",
        "    # Se filtra el DataFrame 'meta' por las categorías encontradas\n",
        "\n",
        "    meta_filtro = meta[meta['category'].isin(categorias_con_palabra)]\n",
        "\n",
        "except KeyError:\n",
        "    print(f\"'{palabra}' no está en el vocabulario.\")\n"
      ],
      "metadata": {
        "id": "sopimuIN-uTg",
        "colab": {
          "base_uri": "https://localhost:8080/"
        },
        "outputId": "c74c2177-e69c-49ae-ba8b-b41dbcd2c0fb"
      },
      "execution_count": 9,
      "outputs": [
        {
          "output_type": "stream",
          "name": "stdout",
          "text": [
            "Ingresa una palabra: Italian\n",
            "La palabra más cercana a 'Italian' es 'Pizza' con una similitud de coseno de 0.75\n"
          ]
        }
      ]
    },
    {
      "cell_type": "markdown",
      "source": [
        "## Se utiliza el algoritmo entrenado para mostrar los restaurantes más recomendados, utilizando la optimización de una suma ponderada, que vincula las características \"densidad\" \"puntaje\" y \"número de reviews\" con el metodo del descenso del gradiente"
      ],
      "metadata": {
        "id": "JuF98vCY-vgm"
      }
    },
    {
      "cell_type": "markdown",
      "source": [
        "# Función a optimizar:"
      ],
      "metadata": {
        "id": "r-RKm5zV7lg0"
      }
    },
    {
      "cell_type": "markdown",
      "source": [
        "### puntuación restaurante = peso_puntaje * puntaje_normalizado + peso_densidad * densidad_normalizada + peso_nºreviews * nº_reviews_normalizado"
      ],
      "metadata": {
        "id": "Ov3apOGl6_3q"
      }
    },
    {
      "cell_type": "code",
      "source": [
        "# Pesos en el rango [0, 1]\n",
        "initial_weights = [0.25, 0.25, 0.25]  # Valores iniciales de los pesos\n",
        "\n",
        "# Se normalizan las columnas de puntuación, densidad y número de revisiones entre 0 y 1\n",
        "scaler = MinMaxScaler()\n",
        "meta_filtro['puntaje_normalizado'] = scaler.fit_transform(meta_filtro[['avg_rating']])\n",
        "meta_filtro['densidad_normalizada'] = scaler.fit_transform(meta_filtro[['densidad']])\n",
        "meta_filtro['num_of_reviews_normalizado'] = scaler.fit_transform(meta_filtro[['num_of_reviews']])\n",
        "\n",
        "# Se define la función objetivo para minimizar\n",
        "def objective_function(weights):\n",
        "    puntuacion_restaurante = (\n",
        "        weights[0] * meta_filtro['densidad_normalizada'] +\n",
        "        weights[1] * meta_filtro['puntaje_normalizado'] +\n",
        "        weights[2] * meta_filtro['num_of_reviews_normalizado']\n",
        "    )\n",
        "    return -puntuacion_restaurante.sum()\n",
        "\n",
        "# Devuelve la suma negativa de la puntuación total que es equivalente que es equivalente a haber buscado el máximo\n",
        "\n",
        "# Se definen las restricciones de los pesos (en este caso, todos estánr entre 0 y 1)\n",
        "constraints = [{'type': 'ineq', 'fun': lambda w: w[i]} for i in range(len(initial_weights))]\n",
        "\n",
        "# Se optimizan los pesos usando el algoritmo de Descenso del Gradiente\n",
        "result = minimize(objective_function, initial_weights, constraints=constraints)\n",
        "\n",
        "# Se obtienen los pesos optimizados\n",
        "optimized_weights = result.x\n",
        "\n",
        "# Se calcula la puntuacion_restaurante con los pesos optimizados\n",
        "meta_filtro['puntuacion_restaurante'] = (\n",
        "    optimized_weights[0] * meta_filtro['densidad_normalizada'] +\n",
        "    optimized_weights[1] * meta_filtro['puntaje_normalizado'] +\n",
        "    optimized_weights[2] * meta_filtro['num_of_reviews_normalizado']\n",
        ")\n",
        "\n",
        "# Ordena el DataFrame en función de la puntuación restaurante en orden decreciente\n",
        "meta_ordenado = meta_filtro.sort_values(by='puntuacion_restaurante', ascending=False)"
      ],
      "metadata": {
        "id": "bM1r7rnPxN24"
      },
      "execution_count": 10,
      "outputs": []
    },
    {
      "cell_type": "code",
      "source": [
        "meta_ordenado[[\"name\",\"category\"]].head()"
      ],
      "metadata": {
        "colab": {
          "base_uri": "https://localhost:8080/",
          "height": 206
        },
        "id": "65DgB6sk0liy",
        "outputId": "771b3504-a692-43ed-c995-e4d7f5f26072"
      },
      "execution_count": 11,
      "outputs": [
        {
          "output_type": "execute_result",
          "data": {
            "text/plain": [
              "                         name  \\\n",
              "107192          Sylvano Miami   \n",
              "130353           Wynwood Oven   \n",
              "131212   La Gozadera Brickell   \n",
              "95927        Urban Pizza Cafe   \n",
              "136654  Eleventh Street Pizza   \n",
              "\n",
              "                                                 category  \n",
              "107192  Restaurant, Family restaurant, Italian restaur...  \n",
              "130353     Italian restaurant, Pizza restaurant, Wine bar  \n",
              "131212  Bar & grill, Pizza delivery, Pizza restaurant,...  \n",
              "95927                                    Pizza restaurant  \n",
              "136654                       Restaurant, Pizza restaurant  "
            ],
            "text/html": [
              "\n",
              "  <div id=\"df-646ba81d-1d08-447f-b6e1-212a1f096b53\" class=\"colab-df-container\">\n",
              "    <div>\n",
              "<style scoped>\n",
              "    .dataframe tbody tr th:only-of-type {\n",
              "        vertical-align: middle;\n",
              "    }\n",
              "\n",
              "    .dataframe tbody tr th {\n",
              "        vertical-align: top;\n",
              "    }\n",
              "\n",
              "    .dataframe thead th {\n",
              "        text-align: right;\n",
              "    }\n",
              "</style>\n",
              "<table border=\"1\" class=\"dataframe\">\n",
              "  <thead>\n",
              "    <tr style=\"text-align: right;\">\n",
              "      <th></th>\n",
              "      <th>name</th>\n",
              "      <th>category</th>\n",
              "    </tr>\n",
              "  </thead>\n",
              "  <tbody>\n",
              "    <tr>\n",
              "      <th>107192</th>\n",
              "      <td>Sylvano Miami</td>\n",
              "      <td>Restaurant, Family restaurant, Italian restaur...</td>\n",
              "    </tr>\n",
              "    <tr>\n",
              "      <th>130353</th>\n",
              "      <td>Wynwood Oven</td>\n",
              "      <td>Italian restaurant, Pizza restaurant, Wine bar</td>\n",
              "    </tr>\n",
              "    <tr>\n",
              "      <th>131212</th>\n",
              "      <td>La Gozadera Brickell</td>\n",
              "      <td>Bar &amp; grill, Pizza delivery, Pizza restaurant,...</td>\n",
              "    </tr>\n",
              "    <tr>\n",
              "      <th>95927</th>\n",
              "      <td>Urban Pizza Cafe</td>\n",
              "      <td>Pizza restaurant</td>\n",
              "    </tr>\n",
              "    <tr>\n",
              "      <th>136654</th>\n",
              "      <td>Eleventh Street Pizza</td>\n",
              "      <td>Restaurant, Pizza restaurant</td>\n",
              "    </tr>\n",
              "  </tbody>\n",
              "</table>\n",
              "</div>\n",
              "    <div class=\"colab-df-buttons\">\n",
              "\n",
              "  <div class=\"colab-df-container\">\n",
              "    <button class=\"colab-df-convert\" onclick=\"convertToInteractive('df-646ba81d-1d08-447f-b6e1-212a1f096b53')\"\n",
              "            title=\"Convert this dataframe to an interactive table.\"\n",
              "            style=\"display:none;\">\n",
              "\n",
              "  <svg xmlns=\"http://www.w3.org/2000/svg\" height=\"24px\" viewBox=\"0 -960 960 960\">\n",
              "    <path d=\"M120-120v-720h720v720H120Zm60-500h600v-160H180v160Zm220 220h160v-160H400v160Zm0 220h160v-160H400v160ZM180-400h160v-160H180v160Zm440 0h160v-160H620v160ZM180-180h160v-160H180v160Zm440 0h160v-160H620v160Z\"/>\n",
              "  </svg>\n",
              "    </button>\n",
              "\n",
              "  <style>\n",
              "    .colab-df-container {\n",
              "      display:flex;\n",
              "      gap: 12px;\n",
              "    }\n",
              "\n",
              "    .colab-df-convert {\n",
              "      background-color: #E8F0FE;\n",
              "      border: none;\n",
              "      border-radius: 50%;\n",
              "      cursor: pointer;\n",
              "      display: none;\n",
              "      fill: #1967D2;\n",
              "      height: 32px;\n",
              "      padding: 0 0 0 0;\n",
              "      width: 32px;\n",
              "    }\n",
              "\n",
              "    .colab-df-convert:hover {\n",
              "      background-color: #E2EBFA;\n",
              "      box-shadow: 0px 1px 2px rgba(60, 64, 67, 0.3), 0px 1px 3px 1px rgba(60, 64, 67, 0.15);\n",
              "      fill: #174EA6;\n",
              "    }\n",
              "\n",
              "    .colab-df-buttons div {\n",
              "      margin-bottom: 4px;\n",
              "    }\n",
              "\n",
              "    [theme=dark] .colab-df-convert {\n",
              "      background-color: #3B4455;\n",
              "      fill: #D2E3FC;\n",
              "    }\n",
              "\n",
              "    [theme=dark] .colab-df-convert:hover {\n",
              "      background-color: #434B5C;\n",
              "      box-shadow: 0px 1px 3px 1px rgba(0, 0, 0, 0.15);\n",
              "      filter: drop-shadow(0px 1px 2px rgba(0, 0, 0, 0.3));\n",
              "      fill: #FFFFFF;\n",
              "    }\n",
              "  </style>\n",
              "\n",
              "    <script>\n",
              "      const buttonEl =\n",
              "        document.querySelector('#df-646ba81d-1d08-447f-b6e1-212a1f096b53 button.colab-df-convert');\n",
              "      buttonEl.style.display =\n",
              "        google.colab.kernel.accessAllowed ? 'block' : 'none';\n",
              "\n",
              "      async function convertToInteractive(key) {\n",
              "        const element = document.querySelector('#df-646ba81d-1d08-447f-b6e1-212a1f096b53');\n",
              "        const dataTable =\n",
              "          await google.colab.kernel.invokeFunction('convertToInteractive',\n",
              "                                                    [key], {});\n",
              "        if (!dataTable) return;\n",
              "\n",
              "        const docLinkHtml = 'Like what you see? Visit the ' +\n",
              "          '<a target=\"_blank\" href=https://colab.research.google.com/notebooks/data_table.ipynb>data table notebook</a>'\n",
              "          + ' to learn more about interactive tables.';\n",
              "        element.innerHTML = '';\n",
              "        dataTable['output_type'] = 'display_data';\n",
              "        await google.colab.output.renderOutput(dataTable, element);\n",
              "        const docLink = document.createElement('div');\n",
              "        docLink.innerHTML = docLinkHtml;\n",
              "        element.appendChild(docLink);\n",
              "      }\n",
              "    </script>\n",
              "  </div>\n",
              "\n",
              "\n",
              "<div id=\"df-e24964af-19ea-4565-9e0f-c76a45d1b8ac\">\n",
              "  <button class=\"colab-df-quickchart\" onclick=\"quickchart('df-e24964af-19ea-4565-9e0f-c76a45d1b8ac')\"\n",
              "            title=\"Suggest charts.\"\n",
              "            style=\"display:none;\">\n",
              "\n",
              "<svg xmlns=\"http://www.w3.org/2000/svg\" height=\"24px\"viewBox=\"0 0 24 24\"\n",
              "     width=\"24px\">\n",
              "    <g>\n",
              "        <path d=\"M19 3H5c-1.1 0-2 .9-2 2v14c0 1.1.9 2 2 2h14c1.1 0 2-.9 2-2V5c0-1.1-.9-2-2-2zM9 17H7v-7h2v7zm4 0h-2V7h2v10zm4 0h-2v-4h2v4z\"/>\n",
              "    </g>\n",
              "</svg>\n",
              "  </button>\n",
              "\n",
              "<style>\n",
              "  .colab-df-quickchart {\n",
              "      --bg-color: #E8F0FE;\n",
              "      --fill-color: #1967D2;\n",
              "      --hover-bg-color: #E2EBFA;\n",
              "      --hover-fill-color: #174EA6;\n",
              "      --disabled-fill-color: #AAA;\n",
              "      --disabled-bg-color: #DDD;\n",
              "  }\n",
              "\n",
              "  [theme=dark] .colab-df-quickchart {\n",
              "      --bg-color: #3B4455;\n",
              "      --fill-color: #D2E3FC;\n",
              "      --hover-bg-color: #434B5C;\n",
              "      --hover-fill-color: #FFFFFF;\n",
              "      --disabled-bg-color: #3B4455;\n",
              "      --disabled-fill-color: #666;\n",
              "  }\n",
              "\n",
              "  .colab-df-quickchart {\n",
              "    background-color: var(--bg-color);\n",
              "    border: none;\n",
              "    border-radius: 50%;\n",
              "    cursor: pointer;\n",
              "    display: none;\n",
              "    fill: var(--fill-color);\n",
              "    height: 32px;\n",
              "    padding: 0;\n",
              "    width: 32px;\n",
              "  }\n",
              "\n",
              "  .colab-df-quickchart:hover {\n",
              "    background-color: var(--hover-bg-color);\n",
              "    box-shadow: 0 1px 2px rgba(60, 64, 67, 0.3), 0 1px 3px 1px rgba(60, 64, 67, 0.15);\n",
              "    fill: var(--button-hover-fill-color);\n",
              "  }\n",
              "\n",
              "  .colab-df-quickchart-complete:disabled,\n",
              "  .colab-df-quickchart-complete:disabled:hover {\n",
              "    background-color: var(--disabled-bg-color);\n",
              "    fill: var(--disabled-fill-color);\n",
              "    box-shadow: none;\n",
              "  }\n",
              "\n",
              "  .colab-df-spinner {\n",
              "    border: 2px solid var(--fill-color);\n",
              "    border-color: transparent;\n",
              "    border-bottom-color: var(--fill-color);\n",
              "    animation:\n",
              "      spin 1s steps(1) infinite;\n",
              "  }\n",
              "\n",
              "  @keyframes spin {\n",
              "    0% {\n",
              "      border-color: transparent;\n",
              "      border-bottom-color: var(--fill-color);\n",
              "      border-left-color: var(--fill-color);\n",
              "    }\n",
              "    20% {\n",
              "      border-color: transparent;\n",
              "      border-left-color: var(--fill-color);\n",
              "      border-top-color: var(--fill-color);\n",
              "    }\n",
              "    30% {\n",
              "      border-color: transparent;\n",
              "      border-left-color: var(--fill-color);\n",
              "      border-top-color: var(--fill-color);\n",
              "      border-right-color: var(--fill-color);\n",
              "    }\n",
              "    40% {\n",
              "      border-color: transparent;\n",
              "      border-right-color: var(--fill-color);\n",
              "      border-top-color: var(--fill-color);\n",
              "    }\n",
              "    60% {\n",
              "      border-color: transparent;\n",
              "      border-right-color: var(--fill-color);\n",
              "    }\n",
              "    80% {\n",
              "      border-color: transparent;\n",
              "      border-right-color: var(--fill-color);\n",
              "      border-bottom-color: var(--fill-color);\n",
              "    }\n",
              "    90% {\n",
              "      border-color: transparent;\n",
              "      border-bottom-color: var(--fill-color);\n",
              "    }\n",
              "  }\n",
              "</style>\n",
              "\n",
              "  <script>\n",
              "    async function quickchart(key) {\n",
              "      const quickchartButtonEl =\n",
              "        document.querySelector('#' + key + ' button');\n",
              "      quickchartButtonEl.disabled = true;  // To prevent multiple clicks.\n",
              "      quickchartButtonEl.classList.add('colab-df-spinner');\n",
              "      try {\n",
              "        const charts = await google.colab.kernel.invokeFunction(\n",
              "            'suggestCharts', [key], {});\n",
              "      } catch (error) {\n",
              "        console.error('Error during call to suggestCharts:', error);\n",
              "      }\n",
              "      quickchartButtonEl.classList.remove('colab-df-spinner');\n",
              "      quickchartButtonEl.classList.add('colab-df-quickchart-complete');\n",
              "    }\n",
              "    (() => {\n",
              "      let quickchartButtonEl =\n",
              "        document.querySelector('#df-e24964af-19ea-4565-9e0f-c76a45d1b8ac button');\n",
              "      quickchartButtonEl.style.display =\n",
              "        google.colab.kernel.accessAllowed ? 'block' : 'none';\n",
              "    })();\n",
              "  </script>\n",
              "</div>\n",
              "    </div>\n",
              "  </div>\n"
            ]
          },
          "metadata": {},
          "execution_count": 11
        }
      ]
    },
    {
      "cell_type": "markdown",
      "source": [
        "# Se muestra el orden de importancia para cada característica"
      ],
      "metadata": {
        "id": "qdMzS6dIdcmB"
      }
    },
    {
      "cell_type": "code",
      "source": [
        "# Nombres de las características correspondientes\n",
        "nombres = ['densidad', 'puntaje_normalizado', 'num_of_reviews']\n",
        "\n",
        "# Crea un diccionario que asocie las características con sus pesos optimizados\n",
        "dic = {nombres[i]: optimized_weights[i] for i in range(len(nombres))}\n",
        "\n",
        "# Imprime el diccionario para ver el orden de importancia\n",
        "print(dic)"
      ],
      "metadata": {
        "colab": {
          "base_uri": "https://localhost:8080/"
        },
        "id": "8y4zXvusdijV",
        "outputId": "e7ddb566-29fa-4a81-d50d-ce3448cda069"
      },
      "execution_count": 12,
      "outputs": [
        {
          "output_type": "stream",
          "name": "stdout",
          "text": [
            "{'densidad': 1.7370461178588478e+33, 'puntaje_normalizado': 1.7653979774691302e+33, 'num_of_reviews': 3.9021748985970706e+32}\n"
          ]
        }
      ]
    },
    {
      "cell_type": "markdown",
      "source": [
        "# Es importante observar como el orden de iportancia de las características varía de acuerdo a la elección de palabra hecha por el usuario"
      ],
      "metadata": {
        "id": "ar8pl5p61ATW"
      }
    },
    {
      "cell_type": "markdown",
      "source": [
        "# Se corrobora la independencia de las características utilizadas. Esto es importante para descartar características que puedan estar de más y sesgar el modelo"
      ],
      "metadata": {
        "id": "Qn9hBNKOdrXT"
      }
    },
    {
      "cell_type": "code",
      "source": [
        "# Se calcula la matriz de correlación\n",
        "corr = meta_filtro[['densidad', 'puntaje_normalizado', 'num_of_reviews_normalizado']].corr()\n",
        "\n",
        "# Se crea un mapa de calor (heatmap) para visualizar la matriz de correlación\n",
        "plt.figure(figsize=(8, 6))\n",
        "sns.heatmap(corr, annot=True, cmap='coolwarm', linewidths=0.5)\n",
        "plt.title('Matriz de Correlación')\n",
        "plt.show()"
      ],
      "metadata": {
        "colab": {
          "base_uri": "https://localhost:8080/",
          "height": 735
        },
        "id": "OYM1juJCdvC1",
        "outputId": "ce6f6dfa-c7ee-423f-d919-23d0d07a8c36"
      },
      "execution_count": 13,
      "outputs": [
        {
          "output_type": "display_data",
          "data": {
            "text/plain": [
              "<Figure size 800x600 with 2 Axes>"
            ],
            "image/png": "[encoded data removed]"
          },
          "metadata": {}
        }
      ]
    },
    {
      "cell_type": "markdown",
      "source": [
        "# Se observa la correlación entre la puntuación de los restaurantes filtrados y cada característica usada"
      ],
      "metadata": {
        "id": "SZkROWR56mFL"
      }
    },
    {
      "cell_type": "code",
      "source": [
        "# Calcula las correlaciones entre \"puntuacion_restaurante\" y las tres columnas normalizadas\n",
        "correlation_puntaje = meta_filtro['puntuacion_restaurante'].corr(meta_filtro['puntaje_normalizado'])\n",
        "correlation_densidad = meta_filtro['puntuacion_restaurante'].corr(meta_filtro['densidad_normalizada'])\n",
        "correlation_reviews = meta_filtro['puntuacion_restaurante'].corr(meta_filtro['num_of_reviews_normalizado'])\n",
        "\n",
        "print(f\"Correlación entre Puntuación del Restaurante y Puntaje Normalizado: {correlation_puntaje}\")\n",
        "print(f\"Correlación entre Puntuación del Restaurante y Densidad Normalizada: {correlation_densidad}\")\n",
        "print(f\"Correlación entre Puntuación del Restaurante y Número de Reseñas Normalizado: {correlation_reviews}\")\n"
      ],
      "metadata": {
        "colab": {
          "base_uri": "https://localhost:8080/"
        },
        "id": "55_YQE-YcAsK",
        "outputId": "cec2674a-3e4a-4aed-c5a4-4150cfcc8f71"
      },
      "execution_count": 14,
      "outputs": [
        {
          "output_type": "stream",
          "name": "stdout",
          "text": [
            "Correlación entre Puntuación del Restaurante y Puntaje Normalizado: 0.5924951563625072\n",
            "Correlación entre Puntuación del Restaurante y Densidad Normalizada: 0.8702854100354688\n",
            "Correlación entre Puntuación del Restaurante y Número de Reseñas Normalizado: 0.031765463869659755\n"
          ]
        }
      ]
    }
  ]
}
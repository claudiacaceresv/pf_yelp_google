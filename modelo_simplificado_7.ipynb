{
  "nbformat": 4,
  "nbformat_minor": 0,
  "metadata": {
    "colab": {
      "provenance": []
    },
    "kernelspec": {
      "name": "python3",
      "display_name": "Python 3"
    },
    "language_info": {
      "name": "python"
    }
  },
  "cells": [
    {
      "cell_type": "markdown",
      "source": [
        "# Se importan las librerias"
      ],
      "metadata": {
        "id": "Tn8yaY131ahU"
      }
    },
    {
      "cell_type": "code",
      "source": [
        "import pandas as pd\n",
        "import seaborn as sns\n",
        "from sklearn.neighbors import KernelDensity\n",
        "import numpy as np\n",
        "import matplotlib.pyplot as plt\n",
        "from mpl_toolkits.mplot3d import Axes3D\n",
        "from sklearn.preprocessing import MinMaxScaler\n",
        "from scipy.optimize import minimize\n",
        "import re\n",
        "from gensim.models import Word2Vec\n",
        "from nltk.tokenize import word_tokenize\n",
        "import warnings\n",
        "warnings.filterwarnings('ignore')\n",
        "import nltk\n",
        "import folium\n",
        "from scipy import stats\n",
        "# Se descarga el recurso 'punkt' para tokenizar o separar palabras\n",
        "nltk.download('punkt')"
      ],
      "metadata": {
        "id": "kMRhYz0FcRP7",
        "colab": {
          "base_uri": "https://localhost:8080/"
        },
        "outputId": "c15984b3-2132-46ae-b153-7a844c812611"
      },
      "execution_count": 1,
      "outputs": [
        {
          "output_type": "stream",
          "name": "stderr",
          "text": [
            "[nltk_data] Downloading package punkt to /root/nltk_data...\n",
            "[nltk_data]   Package punkt is already up-to-date!\n"
          ]
        },
        {
          "output_type": "execute_result",
          "data": {
            "text/plain": [
              "True"
            ]
          },
          "metadata": {},
          "execution_count": 1
        }
      ]
    },
    {
      "cell_type": "markdown",
      "source": [
        "### Se importa el archivo \"Metadata ML.csv\" que está asociado a 1200 restaurantes de Miami filtrados"
      ],
      "metadata": {
        "id": "fFJOzTSp1e_a"
      }
    },
    {
      "cell_type": "code",
      "source": [
        "meta_2=pd.read_csv(\"Metadata ML.csv\")"
      ],
      "metadata": {
        "id": "A9aXhj4DTWlm"
      },
      "execution_count": 2,
      "outputs": []
    },
    {
      "cell_type": "markdown",
      "source": [
        "### Se importa el archivo \"Metadata.csv\" que se utilizará para medir el KPI 1"
      ],
      "metadata": {
        "id": "GIyTBtudX9xD"
      }
    },
    {
      "cell_type": "code",
      "source": [
        "meta=pd.read_csv(\"Metadata.csv\")"
      ],
      "metadata": {
        "id": "x5OJ-ajWUgtM"
      },
      "execution_count": 3,
      "outputs": []
    },
    {
      "cell_type": "code",
      "source": [
        "meta.head(2)"
      ],
      "metadata": {
        "colab": {
          "base_uri": "https://localhost:8080/",
          "height": 340
        },
        "id": "TPu7lA58eNip",
        "outputId": "4a4bff5d-0378-45e9-a8b8-5b6129f109fa"
      },
      "execution_count": 4,
      "outputs": [
        {
          "output_type": "execute_result",
          "data": {
            "text/plain": [
              "          local_name                                            address  \\\n",
              "0  La Pupusa Factory  La Pupusa Factory, 1947 W Flagler St, Miami, F...   \n",
              "1             Subway             Subway, 8352 Mills Dr, Miami, FL 33183   \n",
              "\n",
              "                                 gmap_id   latitude  longitude    category  \\\n",
              "0  0x88d9b6e36c859cb3:0xa9a5e651a22e92a3  25.772856 -80.227814  Restaurant   \n",
              "1  0x88d9c0c3a05a45df:0xb3d1f93ccfb2da60  25.689864 -80.388096  Restaurant   \n",
              "\n",
              "   avg_rating  num_of_reviews  apto_sillas_de_ruedas  atmosfera_agradable  \\\n",
              "0         3.3               8                      0                    0   \n",
              "1         3.4              26                      0                    0   \n",
              "\n",
              "   apto_grupos_grandes  solo_efectivo state   City  \n",
              "0                    0              0    FL  Miami  \n",
              "1                    0              0    FL  Miami  "
            ],
            "text/html": [
              "\n",
              "  <div id=\"df-972f9bec-5449-4f19-a61e-a8e0dfb36c4f\" class=\"colab-df-container\">\n",
              "    <div>\n",
              "<style scoped>\n",
              "    .dataframe tbody tr th:only-of-type {\n",
              "        vertical-align: middle;\n",
              "    }\n",
              "\n",
              "    .dataframe tbody tr th {\n",
              "        vertical-align: top;\n",
              "    }\n",
              "\n",
              "    .dataframe thead th {\n",
              "        text-align: right;\n",
              "    }\n",
              "</style>\n",
              "<table border=\"1\" class=\"dataframe\">\n",
              "  <thead>\n",
              "    <tr style=\"text-align: right;\">\n",
              "      <th></th>\n",
              "      <th>local_name</th>\n",
              "      <th>address</th>\n",
              "      <th>gmap_id</th>\n",
              "      <th>latitude</th>\n",
              "      <th>longitude</th>\n",
              "      <th>category</th>\n",
              "      <th>avg_rating</th>\n",
              "      <th>num_of_reviews</th>\n",
              "      <th>apto_sillas_de_ruedas</th>\n",
              "      <th>atmosfera_agradable</th>\n",
              "      <th>apto_grupos_grandes</th>\n",
              "      <th>solo_efectivo</th>\n",
              "      <th>state</th>\n",
              "      <th>City</th>\n",
              "    </tr>\n",
              "  </thead>\n",
              "  <tbody>\n",
              "    <tr>\n",
              "      <th>0</th>\n",
              "      <td>La Pupusa Factory</td>\n",
              "      <td>La Pupusa Factory, 1947 W Flagler St, Miami, F...</td>\n",
              "      <td>0x88d9b6e36c859cb3:0xa9a5e651a22e92a3</td>\n",
              "      <td>25.772856</td>\n",
              "      <td>-80.227814</td>\n",
              "      <td>Restaurant</td>\n",
              "      <td>3.3</td>\n",
              "      <td>8</td>\n",
              "      <td>0</td>\n",
              "      <td>0</td>\n",
              "      <td>0</td>\n",
              "      <td>0</td>\n",
              "      <td>FL</td>\n",
              "      <td>Miami</td>\n",
              "    </tr>\n",
              "    <tr>\n",
              "      <th>1</th>\n",
              "      <td>Subway</td>\n",
              "      <td>Subway, 8352 Mills Dr, Miami, FL 33183</td>\n",
              "      <td>0x88d9c0c3a05a45df:0xb3d1f93ccfb2da60</td>\n",
              "      <td>25.689864</td>\n",
              "      <td>-80.388096</td>\n",
              "      <td>Restaurant</td>\n",
              "      <td>3.4</td>\n",
              "      <td>26</td>\n",
              "      <td>0</td>\n",
              "      <td>0</td>\n",
              "      <td>0</td>\n",
              "      <td>0</td>\n",
              "      <td>FL</td>\n",
              "      <td>Miami</td>\n",
              "    </tr>\n",
              "  </tbody>\n",
              "</table>\n",
              "</div>\n",
              "    <div class=\"colab-df-buttons\">\n",
              "\n",
              "  <div class=\"colab-df-container\">\n",
              "    <button class=\"colab-df-convert\" onclick=\"convertToInteractive('df-972f9bec-5449-4f19-a61e-a8e0dfb36c4f')\"\n",
              "            title=\"Convert this dataframe to an interactive table.\"\n",
              "            style=\"display:none;\">\n",
              "\n",
              "  <svg xmlns=\"http://www.w3.org/2000/svg\" height=\"24px\" viewBox=\"0 -960 960 960\">\n",
              "    <path d=\"M120-120v-720h720v720H120Zm60-500h600v-160H180v160Zm220 220h160v-160H400v160Zm0 220h160v-160H400v160ZM180-400h160v-160H180v160Zm440 0h160v-160H620v160ZM180-180h160v-160H180v160Zm440 0h160v-160H620v160Z\"/>\n",
              "  </svg>\n",
              "    </button>\n",
              "\n",
              "  <style>\n",
              "    .colab-df-container {\n",
              "      display:flex;\n",
              "      gap: 12px;\n",
              "    }\n",
              "\n",
              "    .colab-df-convert {\n",
              "      background-color: #E8F0FE;\n",
              "      border: none;\n",
              "      border-radius: 50%;\n",
              "      cursor: pointer;\n",
              "      display: none;\n",
              "      fill: #1967D2;\n",
              "      height: 32px;\n",
              "      padding: 0 0 0 0;\n",
              "      width: 32px;\n",
              "    }\n",
              "\n",
              "    .colab-df-convert:hover {\n",
              "      background-color: #E2EBFA;\n",
              "      box-shadow: 0px 1px 2px rgba(60, 64, 67, 0.3), 0px 1px 3px 1px rgba(60, 64, 67, 0.15);\n",
              "      fill: #174EA6;\n",
              "    }\n",
              "\n",
              "    .colab-df-buttons div {\n",
              "      margin-bottom: 4px;\n",
              "    }\n",
              "\n",
              "    [theme=dark] .colab-df-convert {\n",
              "      background-color: #3B4455;\n",
              "      fill: #D2E3FC;\n",
              "    }\n",
              "\n",
              "    [theme=dark] .colab-df-convert:hover {\n",
              "      background-color: #434B5C;\n",
              "      box-shadow: 0px 1px 3px 1px rgba(0, 0, 0, 0.15);\n",
              "      filter: drop-shadow(0px 1px 2px rgba(0, 0, 0, 0.3));\n",
              "      fill: #FFFFFF;\n",
              "    }\n",
              "  </style>\n",
              "\n",
              "    <script>\n",
              "      const buttonEl =\n",
              "        document.querySelector('#df-972f9bec-5449-4f19-a61e-a8e0dfb36c4f button.colab-df-convert');\n",
              "      buttonEl.style.display =\n",
              "        google.colab.kernel.accessAllowed ? 'block' : 'none';\n",
              "\n",
              "      async function convertToInteractive(key) {\n",
              "        const element = document.querySelector('#df-972f9bec-5449-4f19-a61e-a8e0dfb36c4f');\n",
              "        const dataTable =\n",
              "          await google.colab.kernel.invokeFunction('convertToInteractive',\n",
              "                                                    [key], {});\n",
              "        if (!dataTable) return;\n",
              "\n",
              "        const docLinkHtml = 'Like what you see? Visit the ' +\n",
              "          '<a target=\"_blank\" href=https://colab.research.google.com/notebooks/data_table.ipynb>data table notebook</a>'\n",
              "          + ' to learn more about interactive tables.';\n",
              "        element.innerHTML = '';\n",
              "        dataTable['output_type'] = 'display_data';\n",
              "        await google.colab.output.renderOutput(dataTable, element);\n",
              "        const docLink = document.createElement('div');\n",
              "        docLink.innerHTML = docLinkHtml;\n",
              "        element.appendChild(docLink);\n",
              "      }\n",
              "    </script>\n",
              "  </div>\n",
              "\n",
              "\n",
              "<div id=\"df-e8698b50-d86b-45f0-ad62-8538f82e1587\">\n",
              "  <button class=\"colab-df-quickchart\" onclick=\"quickchart('df-e8698b50-d86b-45f0-ad62-8538f82e1587')\"\n",
              "            title=\"Suggest charts.\"\n",
              "            style=\"display:none;\">\n",
              "\n",
              "<svg xmlns=\"http://www.w3.org/2000/svg\" height=\"24px\"viewBox=\"0 0 24 24\"\n",
              "     width=\"24px\">\n",
              "    <g>\n",
              "        <path d=\"M19 3H5c-1.1 0-2 .9-2 2v14c0 1.1.9 2 2 2h14c1.1 0 2-.9 2-2V5c0-1.1-.9-2-2-2zM9 17H7v-7h2v7zm4 0h-2V7h2v10zm4 0h-2v-4h2v4z\"/>\n",
              "    </g>\n",
              "</svg>\n",
              "  </button>\n",
              "\n",
              "<style>\n",
              "  .colab-df-quickchart {\n",
              "      --bg-color: #E8F0FE;\n",
              "      --fill-color: #1967D2;\n",
              "      --hover-bg-color: #E2EBFA;\n",
              "      --hover-fill-color: #174EA6;\n",
              "      --disabled-fill-color: #AAA;\n",
              "      --disabled-bg-color: #DDD;\n",
              "  }\n",
              "\n",
              "  [theme=dark] .colab-df-quickchart {\n",
              "      --bg-color: #3B4455;\n",
              "      --fill-color: #D2E3FC;\n",
              "      --hover-bg-color: #434B5C;\n",
              "      --hover-fill-color: #FFFFFF;\n",
              "      --disabled-bg-color: #3B4455;\n",
              "      --disabled-fill-color: #666;\n",
              "  }\n",
              "\n",
              "  .colab-df-quickchart {\n",
              "    background-color: var(--bg-color);\n",
              "    border: none;\n",
              "    border-radius: 50%;\n",
              "    cursor: pointer;\n",
              "    display: none;\n",
              "    fill: var(--fill-color);\n",
              "    height: 32px;\n",
              "    padding: 0;\n",
              "    width: 32px;\n",
              "  }\n",
              "\n",
              "  .colab-df-quickchart:hover {\n",
              "    background-color: var(--hover-bg-color);\n",
              "    box-shadow: 0 1px 2px rgba(60, 64, 67, 0.3), 0 1px 3px 1px rgba(60, 64, 67, 0.15);\n",
              "    fill: var(--button-hover-fill-color);\n",
              "  }\n",
              "\n",
              "  .colab-df-quickchart-complete:disabled,\n",
              "  .colab-df-quickchart-complete:disabled:hover {\n",
              "    background-color: var(--disabled-bg-color);\n",
              "    fill: var(--disabled-fill-color);\n",
              "    box-shadow: none;\n",
              "  }\n",
              "\n",
              "  .colab-df-spinner {\n",
              "    border: 2px solid var(--fill-color);\n",
              "    border-color: transparent;\n",
              "    border-bottom-color: var(--fill-color);\n",
              "    animation:\n",
              "      spin 1s steps(1) infinite;\n",
              "  }\n",
              "\n",
              "  @keyframes spin {\n",
              "    0% {\n",
              "      border-color: transparent;\n",
              "      border-bottom-color: var(--fill-color);\n",
              "      border-left-color: var(--fill-color);\n",
              "    }\n",
              "    20% {\n",
              "      border-color: transparent;\n",
              "      border-left-color: var(--fill-color);\n",
              "      border-top-color: var(--fill-color);\n",
              "    }\n",
              "    30% {\n",
              "      border-color: transparent;\n",
              "      border-left-color: var(--fill-color);\n",
              "      border-top-color: var(--fill-color);\n",
              "      border-right-color: var(--fill-color);\n",
              "    }\n",
              "    40% {\n",
              "      border-color: transparent;\n",
              "      border-right-color: var(--fill-color);\n",
              "      border-top-color: var(--fill-color);\n",
              "    }\n",
              "    60% {\n",
              "      border-color: transparent;\n",
              "      border-right-color: var(--fill-color);\n",
              "    }\n",
              "    80% {\n",
              "      border-color: transparent;\n",
              "      border-right-color: var(--fill-color);\n",
              "      border-bottom-color: var(--fill-color);\n",
              "    }\n",
              "    90% {\n",
              "      border-color: transparent;\n",
              "      border-bottom-color: var(--fill-color);\n",
              "    }\n",
              "  }\n",
              "</style>\n",
              "\n",
              "  <script>\n",
              "    async function quickchart(key) {\n",
              "      const quickchartButtonEl =\n",
              "        document.querySelector('#' + key + ' button');\n",
              "      quickchartButtonEl.disabled = true;  // To prevent multiple clicks.\n",
              "      quickchartButtonEl.classList.add('colab-df-spinner');\n",
              "      try {\n",
              "        const charts = await google.colab.kernel.invokeFunction(\n",
              "            'suggestCharts', [key], {});\n",
              "      } catch (error) {\n",
              "        console.error('Error during call to suggestCharts:', error);\n",
              "      }\n",
              "      quickchartButtonEl.classList.remove('colab-df-spinner');\n",
              "      quickchartButtonEl.classList.add('colab-df-quickchart-complete');\n",
              "    }\n",
              "    (() => {\n",
              "      let quickchartButtonEl =\n",
              "        document.querySelector('#df-e8698b50-d86b-45f0-ad62-8538f82e1587 button');\n",
              "      quickchartButtonEl.style.display =\n",
              "        google.colab.kernel.accessAllowed ? 'block' : 'none';\n",
              "    })();\n",
              "  </script>\n",
              "</div>\n",
              "    </div>\n",
              "  </div>\n"
            ]
          },
          "metadata": {},
          "execution_count": 4
        }
      ]
    },
    {
      "cell_type": "markdown",
      "source": [
        "### Se importan los archivos \"data_filtrada.parquet\" y \"data_reviews.parquet\" que posee un gran conjunto de palabras útiles para entrenar el modelo"
      ],
      "metadata": {
        "id": "hvotsQtP2FOJ"
      }
    },
    {
      "cell_type": "code",
      "execution_count": 5,
      "metadata": {
        "id": "QplMcjSAbt3G"
      },
      "outputs": [],
      "source": [
        "meta_1=pd.read_parquet(\"data_filtrada.parquet\")"
      ]
    },
    {
      "cell_type": "code",
      "source": [
        "meta_3=pd.read_parquet(\"data_reviews.parquet\")"
      ],
      "metadata": {
        "id": "6ft4_1XAwpd3"
      },
      "execution_count": 6,
      "outputs": []
    },
    {
      "cell_type": "code",
      "source": [
        "meta_3.head(3)"
      ],
      "metadata": {
        "colab": {
          "base_uri": "https://localhost:8080/",
          "height": 196
        },
        "id": "bBDy37XLw70V",
        "outputId": "4f4edfa7-870c-44d0-d315-2be8ffaffbf3"
      },
      "execution_count": 7,
      "outputs": [
        {
          "output_type": "execute_result",
          "data": {
            "text/plain": [
              "        date  rating                                            opinion  \\\n",
              "0 2021-08-03       1  Update: Their “reply” to my review amounted to...   \n",
              "1 2020-07-18       5  He's a knowledgeable doctor but the way he run...   \n",
              "2 2021-04-19       5  The Husband and Wife are so nice and helpful. ...   \n",
              "\n",
              "                                                resp  \\\n",
              "0  {\"time\": 1627042799532, \"text\": \"Thank you for...   \n",
              "1  {\"time\": 1582464056733, \"text\": \"Thank you for...   \n",
              "2                                               None   \n",
              "\n",
              "                                 gmap_id  \n",
              "0  0x8893863ea87bd5dd:0x9383ebf973e74abb  \n",
              "1  0x8893863ea87bd5dd:0x9383ebf973e74abb  \n",
              "2  0x88c33f1c8e1f99a3:0x99b22c5bd258b3a7  "
            ],
            "text/html": [
              "\n",
              "  <div id=\"df-c221c1f8-fd9d-4ba3-974a-9a7becf175b4\" class=\"colab-df-container\">\n",
              "    <div>\n",
              "<style scoped>\n",
              "    .dataframe tbody tr th:only-of-type {\n",
              "        vertical-align: middle;\n",
              "    }\n",
              "\n",
              "    .dataframe tbody tr th {\n",
              "        vertical-align: top;\n",
              "    }\n",
              "\n",
              "    .dataframe thead th {\n",
              "        text-align: right;\n",
              "    }\n",
              "</style>\n",
              "<table border=\"1\" class=\"dataframe\">\n",
              "  <thead>\n",
              "    <tr style=\"text-align: right;\">\n",
              "      <th></th>\n",
              "      <th>date</th>\n",
              "      <th>rating</th>\n",
              "      <th>opinion</th>\n",
              "      <th>resp</th>\n",
              "      <th>gmap_id</th>\n",
              "    </tr>\n",
              "  </thead>\n",
              "  <tbody>\n",
              "    <tr>\n",
              "      <th>0</th>\n",
              "      <td>2021-08-03</td>\n",
              "      <td>1</td>\n",
              "      <td>Update: Their “reply” to my review amounted to...</td>\n",
              "      <td>{\"time\": 1627042799532, \"text\": \"Thank you for...</td>\n",
              "      <td>0x8893863ea87bd5dd:0x9383ebf973e74abb</td>\n",
              "    </tr>\n",
              "    <tr>\n",
              "      <th>1</th>\n",
              "      <td>2020-07-18</td>\n",
              "      <td>5</td>\n",
              "      <td>He's a knowledgeable doctor but the way he run...</td>\n",
              "      <td>{\"time\": 1582464056733, \"text\": \"Thank you for...</td>\n",
              "      <td>0x8893863ea87bd5dd:0x9383ebf973e74abb</td>\n",
              "    </tr>\n",
              "    <tr>\n",
              "      <th>2</th>\n",
              "      <td>2021-04-19</td>\n",
              "      <td>5</td>\n",
              "      <td>The Husband and Wife are so nice and helpful. ...</td>\n",
              "      <td>None</td>\n",
              "      <td>0x88c33f1c8e1f99a3:0x99b22c5bd258b3a7</td>\n",
              "    </tr>\n",
              "  </tbody>\n",
              "</table>\n",
              "</div>\n",
              "    <div class=\"colab-df-buttons\">\n",
              "\n",
              "  <div class=\"colab-df-container\">\n",
              "    <button class=\"colab-df-convert\" onclick=\"convertToInteractive('df-c221c1f8-fd9d-4ba3-974a-9a7becf175b4')\"\n",
              "            title=\"Convert this dataframe to an interactive table.\"\n",
              "            style=\"display:none;\">\n",
              "\n",
              "  <svg xmlns=\"http://www.w3.org/2000/svg\" height=\"24px\" viewBox=\"0 -960 960 960\">\n",
              "    <path d=\"M120-120v-720h720v720H120Zm60-500h600v-160H180v160Zm220 220h160v-160H400v160Zm0 220h160v-160H400v160ZM180-400h160v-160H180v160Zm440 0h160v-160H620v160ZM180-180h160v-160H180v160Zm440 0h160v-160H620v160Z\"/>\n",
              "  </svg>\n",
              "    </button>\n",
              "\n",
              "  <style>\n",
              "    .colab-df-container {\n",
              "      display:flex;\n",
              "      gap: 12px;\n",
              "    }\n",
              "\n",
              "    .colab-df-convert {\n",
              "      background-color: #E8F0FE;\n",
              "      border: none;\n",
              "      border-radius: 50%;\n",
              "      cursor: pointer;\n",
              "      display: none;\n",
              "      fill: #1967D2;\n",
              "      height: 32px;\n",
              "      padding: 0 0 0 0;\n",
              "      width: 32px;\n",
              "    }\n",
              "\n",
              "    .colab-df-convert:hover {\n",
              "      background-color: #E2EBFA;\n",
              "      box-shadow: 0px 1px 2px rgba(60, 64, 67, 0.3), 0px 1px 3px 1px rgba(60, 64, 67, 0.15);\n",
              "      fill: #174EA6;\n",
              "    }\n",
              "\n",
              "    .colab-df-buttons div {\n",
              "      margin-bottom: 4px;\n",
              "    }\n",
              "\n",
              "    [theme=dark] .colab-df-convert {\n",
              "      background-color: #3B4455;\n",
              "      fill: #D2E3FC;\n",
              "    }\n",
              "\n",
              "    [theme=dark] .colab-df-convert:hover {\n",
              "      background-color: #434B5C;\n",
              "      box-shadow: 0px 1px 3px 1px rgba(0, 0, 0, 0.15);\n",
              "      filter: drop-shadow(0px 1px 2px rgba(0, 0, 0, 0.3));\n",
              "      fill: #FFFFFF;\n",
              "    }\n",
              "  </style>\n",
              "\n",
              "    <script>\n",
              "      const buttonEl =\n",
              "        document.querySelector('#df-c221c1f8-fd9d-4ba3-974a-9a7becf175b4 button.colab-df-convert');\n",
              "      buttonEl.style.display =\n",
              "        google.colab.kernel.accessAllowed ? 'block' : 'none';\n",
              "\n",
              "      async function convertToInteractive(key) {\n",
              "        const element = document.querySelector('#df-c221c1f8-fd9d-4ba3-974a-9a7becf175b4');\n",
              "        const dataTable =\n",
              "          await google.colab.kernel.invokeFunction('convertToInteractive',\n",
              "                                                    [key], {});\n",
              "        if (!dataTable) return;\n",
              "\n",
              "        const docLinkHtml = 'Like what you see? Visit the ' +\n",
              "          '<a target=\"_blank\" href=https://colab.research.google.com/notebooks/data_table.ipynb>data table notebook</a>'\n",
              "          + ' to learn more about interactive tables.';\n",
              "        element.innerHTML = '';\n",
              "        dataTable['output_type'] = 'display_data';\n",
              "        await google.colab.output.renderOutput(dataTable, element);\n",
              "        const docLink = document.createElement('div');\n",
              "        docLink.innerHTML = docLinkHtml;\n",
              "        element.appendChild(docLink);\n",
              "      }\n",
              "    </script>\n",
              "  </div>\n",
              "\n",
              "\n",
              "<div id=\"df-cdbe8e83-a9a4-4ad9-a218-156b6737cd6e\">\n",
              "  <button class=\"colab-df-quickchart\" onclick=\"quickchart('df-cdbe8e83-a9a4-4ad9-a218-156b6737cd6e')\"\n",
              "            title=\"Suggest charts.\"\n",
              "            style=\"display:none;\">\n",
              "\n",
              "<svg xmlns=\"http://www.w3.org/2000/svg\" height=\"24px\"viewBox=\"0 0 24 24\"\n",
              "     width=\"24px\">\n",
              "    <g>\n",
              "        <path d=\"M19 3H5c-1.1 0-2 .9-2 2v14c0 1.1.9 2 2 2h14c1.1 0 2-.9 2-2V5c0-1.1-.9-2-2-2zM9 17H7v-7h2v7zm4 0h-2V7h2v10zm4 0h-2v-4h2v4z\"/>\n",
              "    </g>\n",
              "</svg>\n",
              "  </button>\n",
              "\n",
              "<style>\n",
              "  .colab-df-quickchart {\n",
              "      --bg-color: #E8F0FE;\n",
              "      --fill-color: #1967D2;\n",
              "      --hover-bg-color: #E2EBFA;\n",
              "      --hover-fill-color: #174EA6;\n",
              "      --disabled-fill-color: #AAA;\n",
              "      --disabled-bg-color: #DDD;\n",
              "  }\n",
              "\n",
              "  [theme=dark] .colab-df-quickchart {\n",
              "      --bg-color: #3B4455;\n",
              "      --fill-color: #D2E3FC;\n",
              "      --hover-bg-color: #434B5C;\n",
              "      --hover-fill-color: #FFFFFF;\n",
              "      --disabled-bg-color: #3B4455;\n",
              "      --disabled-fill-color: #666;\n",
              "  }\n",
              "\n",
              "  .colab-df-quickchart {\n",
              "    background-color: var(--bg-color);\n",
              "    border: none;\n",
              "    border-radius: 50%;\n",
              "    cursor: pointer;\n",
              "    display: none;\n",
              "    fill: var(--fill-color);\n",
              "    height: 32px;\n",
              "    padding: 0;\n",
              "    width: 32px;\n",
              "  }\n",
              "\n",
              "  .colab-df-quickchart:hover {\n",
              "    background-color: var(--hover-bg-color);\n",
              "    box-shadow: 0 1px 2px rgba(60, 64, 67, 0.3), 0 1px 3px 1px rgba(60, 64, 67, 0.15);\n",
              "    fill: var(--button-hover-fill-color);\n",
              "  }\n",
              "\n",
              "  .colab-df-quickchart-complete:disabled,\n",
              "  .colab-df-quickchart-complete:disabled:hover {\n",
              "    background-color: var(--disabled-bg-color);\n",
              "    fill: var(--disabled-fill-color);\n",
              "    box-shadow: none;\n",
              "  }\n",
              "\n",
              "  .colab-df-spinner {\n",
              "    border: 2px solid var(--fill-color);\n",
              "    border-color: transparent;\n",
              "    border-bottom-color: var(--fill-color);\n",
              "    animation:\n",
              "      spin 1s steps(1) infinite;\n",
              "  }\n",
              "\n",
              "  @keyframes spin {\n",
              "    0% {\n",
              "      border-color: transparent;\n",
              "      border-bottom-color: var(--fill-color);\n",
              "      border-left-color: var(--fill-color);\n",
              "    }\n",
              "    20% {\n",
              "      border-color: transparent;\n",
              "      border-left-color: var(--fill-color);\n",
              "      border-top-color: var(--fill-color);\n",
              "    }\n",
              "    30% {\n",
              "      border-color: transparent;\n",
              "      border-left-color: var(--fill-color);\n",
              "      border-top-color: var(--fill-color);\n",
              "      border-right-color: var(--fill-color);\n",
              "    }\n",
              "    40% {\n",
              "      border-color: transparent;\n",
              "      border-right-color: var(--fill-color);\n",
              "      border-top-color: var(--fill-color);\n",
              "    }\n",
              "    60% {\n",
              "      border-color: transparent;\n",
              "      border-right-color: var(--fill-color);\n",
              "    }\n",
              "    80% {\n",
              "      border-color: transparent;\n",
              "      border-right-color: var(--fill-color);\n",
              "      border-bottom-color: var(--fill-color);\n",
              "    }\n",
              "    90% {\n",
              "      border-color: transparent;\n",
              "      border-bottom-color: var(--fill-color);\n",
              "    }\n",
              "  }\n",
              "</style>\n",
              "\n",
              "  <script>\n",
              "    async function quickchart(key) {\n",
              "      const quickchartButtonEl =\n",
              "        document.querySelector('#' + key + ' button');\n",
              "      quickchartButtonEl.disabled = true;  // To prevent multiple clicks.\n",
              "      quickchartButtonEl.classList.add('colab-df-spinner');\n",
              "      try {\n",
              "        const charts = await google.colab.kernel.invokeFunction(\n",
              "            'suggestCharts', [key], {});\n",
              "      } catch (error) {\n",
              "        console.error('Error during call to suggestCharts:', error);\n",
              "      }\n",
              "      quickchartButtonEl.classList.remove('colab-df-spinner');\n",
              "      quickchartButtonEl.classList.add('colab-df-quickchart-complete');\n",
              "    }\n",
              "    (() => {\n",
              "      let quickchartButtonEl =\n",
              "        document.querySelector('#df-cdbe8e83-a9a4-4ad9-a218-156b6737cd6e button');\n",
              "      quickchartButtonEl.style.display =\n",
              "        google.colab.kernel.accessAllowed ? 'block' : 'none';\n",
              "    })();\n",
              "  </script>\n",
              "</div>\n",
              "    </div>\n",
              "  </div>\n"
            ]
          },
          "metadata": {},
          "execution_count": 7
        }
      ]
    },
    {
      "cell_type": "markdown",
      "source": [
        "### Se guardan las categorías únicas de cada dataset, por un lado las categorías del dataset a estudiar, y por oto lado las de los datasets de refuerzo, para entrenar mejor el algoritmo de reconocimiento de palabras"
      ],
      "metadata": {
        "id": "iRQvyDdkU9HT"
      }
    },
    {
      "cell_type": "code",
      "source": [
        "categorias_existentes = meta_1['category'].unique()"
      ],
      "metadata": {
        "id": "PMFApVNYsBb3"
      },
      "execution_count": 8,
      "outputs": []
    },
    {
      "cell_type": "code",
      "source": [
        "categorias_existentes_1 = meta_3['opinion'].unique()"
      ],
      "metadata": {
        "id": "V6e-JZyHwx7J"
      },
      "execution_count": 9,
      "outputs": []
    },
    {
      "cell_type": "code",
      "source": [
        "categorias_existentes_2 = meta['category'].unique()"
      ],
      "metadata": {
        "id": "iBlPZBsx5D8E"
      },
      "execution_count": 10,
      "outputs": []
    },
    {
      "cell_type": "code",
      "source": [
        "categorias_existentes_2"
      ],
      "metadata": {
        "colab": {
          "base_uri": "https://localhost:8080/"
        },
        "id": "vpk68yT5xu4L",
        "outputId": "3947e0e4-dd3d-4cb7-db34-902d31f35d4a"
      },
      "execution_count": 80,
      "outputs": [
        {
          "output_type": "execute_result",
          "data": {
            "text/plain": [
              "['Restaurant',\n",
              " 'Bar & grill',\n",
              " 'Cuban restaurant',\n",
              " 'Pizza restaurant',\n",
              " 'Chinese restaurant',\n",
              " 'Italian restaurant',\n",
              " 'Mexican restaurant',\n",
              " 'Seafood restaurant',\n",
              " 'American restaurant',\n",
              " 'Barbecue restaurant',\n",
              " 'Japanese restaurant',\n",
              " 'Fast food restaurant']"
            ]
          },
          "metadata": {},
          "execution_count": 80
        }
      ]
    },
    {
      "cell_type": "markdown",
      "source": [
        "### Se utiliza el algoritmo KernelDensity que busca la densidad en la coordenadas de los restaurantes"
      ],
      "metadata": {
        "id": "b_AtIFEZdJ4M"
      }
    },
    {
      "cell_type": "code",
      "source": [
        "# Se obtienen las coordenadas de todos los restaurantes\n",
        "coordenadas = meta[['latitude', 'longitude']].values\n",
        "\n",
        "# Se inicializa el modelo de Kernel Density Estimation (KDE)\n",
        "kde = KernelDensity(bandwidth=0.01, metric='haversine')\n",
        "\n",
        "# Se ajusta el modelo a las coordenadas de los restaurantes\n",
        "kde.fit(np.radians(coordenadas))\n",
        "\n",
        "# Se calcula las densidades para todas las coordenadas de los restaurantes\n",
        "densidades = kde.score_samples(np.radians(coordenadas))\n",
        "\n",
        "# Se agregan la columna de densidad al DataFrame \"meta\"\n",
        "meta['densidad'] = densidades\n"
      ],
      "metadata": {
        "id": "NC_FStdXb1Xd"
      },
      "execution_count": 11,
      "outputs": []
    },
    {
      "cell_type": "markdown",
      "source": [
        "### Se cambia el formato de la columna \"avg_rating\" a numérico"
      ],
      "metadata": {
        "id": "_B5a6VqePPwP"
      }
    },
    {
      "cell_type": "code",
      "source": [
        "meta['avg_rating'] = pd.to_numeric(meta['avg_rating'], errors='coerce')\n"
      ],
      "metadata": {
        "id": "bVZyPMJXPV93"
      },
      "execution_count": 12,
      "outputs": []
    },
    {
      "cell_type": "markdown",
      "source": [
        "### Se entrena un modelo de búsqueda de palabras similares llamado Word2Vec"
      ],
      "metadata": {
        "id": "CYFaDidCTKym"
      }
    },
    {
      "cell_type": "markdown",
      "source": [
        "Objetivo: Word2Vec Continuous Bag of Words (CBOW) ( arquitectura de red neuronal ) busca aprender representaciones vectoriales (vectores de palabras) a partir de un gran conjunto de textos.\n",
        "\n",
        "Proceso:\n",
        "\n",
        "- Representación One-Hot: Cada palabra se representa como un vector one-hot (todos ceros, excepto un uno en la posición correspondiente a la palabra).\n",
        "\n",
        "- Capa Oculta: Utiliza una capa oculta con pesos que se ajustan durante el entrenamiento. Estos pesos forman los vectores de palabras.\n",
        "\n",
        "- Predicción del Contexto: El modelo intenta predecir las palabras circundantes (contexto) a partir de una palabra central. Usa una función softmax para calcular las probabilidades de contexto.\n",
        "\n",
        "- Función de Pérdida: La función de pérdida se calcula en la capa de salida, que es la capa final del modelo CBOW. Se compara la predicción del modelo (las probabilidades de las palabras de contexto) con el contexto real del corpus (las palabras de contexto reales). La entropía cruzada es una medida comúnmente utilizada para calcular esta pérdida. La pérdida mide cuán bien se están realizando las predicciones en la capa de salida.\n",
        "\n",
        "- Optimización de los pesos: Se utiliza el algoritmo del descenso de gradiente, para ajustar los pesos de la capa oculta y mejorar la predicción.\n",
        "\n",
        "- Iteración: Repite el proceso con diferentes pares de palabras en el corpus para mejorar gradualmente las representaciones vectoriales de las palabras.\n",
        "\n",
        "\n",
        "\n",
        "\n",
        "\n"
      ],
      "metadata": {
        "id": "fs5r6TusWYw0"
      }
    },
    {
      "cell_type": "markdown",
      "source": [
        "### Se entrenan con palabras para los 3 datasets"
      ],
      "metadata": {
        "id": "2UBnfSVKcN7J"
      }
    },
    {
      "cell_type": "code",
      "source": [
        "# Primer conjunto de datos (categorias_tokenizadas)\n",
        "categorias_limpio = [re.sub(r'[^\\w\\s]', '', category) for category in categorias_existentes]\n",
        "categorias_tokenizadas = [word_tokenize(category) for category in categorias_limpio]\n",
        "\n",
        "# Segundo conjunto de datos (categorias_existentes_1)\n",
        "categorias_existentes_1 = [item for item in categorias_existentes_1 if isinstance(item, str)]  # Filtrar cadenas de texto\n",
        "categorias_limpio_1 = [re.sub(r'[^\\w\\s]', '', category) for category in categorias_existentes_1]\n",
        "categorias_tokenizadas_1 = [word_tokenize(category) for category in categorias_limpio_1]\n",
        "\n",
        "# Tercer conjunto de datos (categorias_existentes_3, este es el dataset a estudiar)\n",
        "categorias_existentes_2 = [item for item in categorias_existentes_2 if isinstance(item, str)]  # Filtrar cadenas de texto\n",
        "categorias_limpio_2 = [re.sub(r'[^\\w\\s]', '', category) for category in categorias_existentes_2]\n",
        "categorias_tokenizadas_2 = [word_tokenize(category) for category in categorias_limpio_2]\n",
        "\n",
        "# Se combinan todas las listas de listas de tokens\n",
        "todos_tokens = categorias_tokenizadas + categorias_tokenizadas_1 + categorias_tokenizadas_2\n",
        "\n",
        "# Se entrena el modelo Word2Vec en todos los tokens\n",
        "model = Word2Vec(todos_tokens, vector_size=300, window=5, min_count=5, sg=0)"
      ],
      "metadata": {
        "id": "F_AeZIOQTJ4M"
      },
      "execution_count": 15,
      "outputs": []
    },
    {
      "cell_type": "markdown",
      "source": [
        "**Aclaraciones:**\n",
        "- vector_size=300 es la cantida de neuronas que recibe la capa oculta.\n",
        "- windows = 5 significa que toma 5 palabras adyacentes para darle contexto para predecir la palabra central. En definitiva, el parámetro windows controla cuán lejos o cerca se buscan palabras para determinar el contexto de una palabra dada.\n",
        "- min_count=5 indica la cantidad de veces que deben aparecer las palabras que tomará el algoritmo como mínimo. Si hay menos no las incluye.\n",
        "- sg=0 es el tipo de modelo que se entrena, en este caso es Continuous Bag of Words (CBOW)"
      ],
      "metadata": {
        "id": "avbmX74jYuN7"
      }
    },
    {
      "cell_type": "markdown",
      "source": [
        "### Se guarda el modelo entrenado con el dataset"
      ],
      "metadata": {
        "id": "5d1bIWshVKO6"
      }
    },
    {
      "cell_type": "code",
      "source": [
        "model.save(\"modelo_word2vec.bin\")"
      ],
      "metadata": {
        "id": "ucBwqc_uRcpn"
      },
      "execution_count": 17,
      "outputs": []
    },
    {
      "cell_type": "code",
      "source": [
        "# Se carga el modelo y los archivos auxiliares\n",
        "# model = Word2Vec.load('modelo_word2vec.bin')\n",
        "# model.wv.vectors = model.wv.vectors.astype('float32') # se cambian a formato float32\n",
        "# model.wv.init_sims(replace=True)  # se normalizan para ahorrar memoria\n"
      ],
      "metadata": {
        "id": "WpTsOwDfARlb"
      },
      "execution_count": 32,
      "outputs": []
    },
    {
      "cell_type": "markdown",
      "source": [
        "### Se prueba el algoritmo entrenado"
      ],
      "metadata": {
        "id": "q_HROv6MTZC3"
      }
    },
    {
      "cell_type": "markdown",
      "source": [
        "**Aclaraciones:**\n",
        "- Se utiliza el modelo entrenado en los pasos anteriores\n",
        "- Una vez ingresada la palabra por el usuario, utiliza el método de similitud del coseno para hallar similaridades.\n",
        "- Además de filtrar por el reconocimiento del modelo, también se busca la palabra que el usuario ingresó literalmente, para favorecer la búsqueda.\n",
        "- Es ideal que por un lado se muestren los resultados de similitudes y relación presentadas por el algoritmo, así como también la búsqueda de la palabra que literalmente ingresó el usuario, para mejorar y personalizar la búsqueda."
      ],
      "metadata": {
        "id": "2SgdgC3Ycrss"
      }
    },
    {
      "cell_type": "code",
      "source": [
        "# Se obtiene la palabra ingresada por el usuario\n",
        "palabra = input(\"Ingresa una palabra: \")\n",
        "\n",
        "# Se limpia la palabra ingresada por el usuario\n",
        "palabra = re.sub(r'[^\\w\\s]', '', palabra)\n",
        "\n",
        "# Se entrena la palabra más cercana según la similitud del coseno\n",
        "try:\n",
        "    palabra_similar, similaridad = model.wv.most_similar(palabra, topn=1)[0]\n",
        "    print(f\"además de '{palabra}' se sugiere buscar '{palabra_similar}' con una similitud de coseno de {similaridad:.2f}\")\n",
        "\n",
        "    # Se filtra las categorías que contienen la palabra similar\n",
        "    categorias_con_palabra = [categoria for categoria in categorias_existentes if palabra_similar in categoria]\n",
        "\n",
        "    # Se filtra el DataFrame 'meta' por las categorías encontradas\n",
        "    meta_filtro = meta[meta['category'].isin(categorias_con_palabra)]\n",
        "\n",
        "    # También se filtra por restaurantes que contengan la palabra buscada en la columna 'category'\n",
        "    restaurantes_con_palabra = meta[meta['category'].str.contains(palabra, case=False)]\n",
        "\n",
        "    # Se concatena la palabra ingresada por el usuario a la lista de palabras similares\n",
        "    palabras_similares = [palabra_similar] if palabra_similar else []\n",
        "    palabras_similares.append(palabra)\n",
        "\n",
        "    # Se agrega la palabra literalmente ingresada por el usuario al DataFrame\n",
        "    palabra_df = pd.DataFrame({'category': [palabra]*len(restaurantes_con_palabra)})\n",
        "    meta_filtro = pd.concat([meta_filtro, restaurantes_con_palabra, palabra_df])\n",
        "\n",
        "except KeyError:\n",
        "    print(f\"'{palabra}' no se ha logrado encontrar alguna asociación con la palabra ingresada.\")\n"
      ],
      "metadata": {
        "id": "sopimuIN-uTg",
        "colab": {
          "base_uri": "https://localhost:8080/"
        },
        "outputId": "7ec3f82c-b7fa-47a3-c61d-c0696f9b41c6"
      },
      "execution_count": 91,
      "outputs": [
        {
          "output_type": "stream",
          "name": "stdout",
          "text": [
            "Ingresa una palabra: Mexican\n",
            "además de 'Mexican' se sugiere buscar 'mexican' con una similitud de coseno de 0.82\n"
          ]
        }
      ]
    },
    {
      "cell_type": "markdown",
      "source": [
        "**Funcionamiento del código:**\n",
        "- El usuario ingresa una palabra y se asegura de que esté limpia de caracteres no deseados.\n",
        "- Luego, utiliza el modelo de Word Embeddings (model.wv) para encontrar la palabra más cercana en términos de similitud de coseno a la palabra ingresada por el usuario.\n",
        "- Filtra las categorías que contienen la palabra similar encontrada.\n",
        "- Filtra el DataFrame meta por categorías relacionadas y también por restaurantes que contienen la palabra buscada en la columna 'category'.\n",
        "- Concatena la palabra similar encontrada y la palabra ingresada por el usuario a la lista de palabras similares.\n",
        "- Agrega la palabra ingresada por el usuario al DataFrame meta_filtro."
      ],
      "metadata": {
        "id": "phZUTvzt1bvp"
      }
    },
    {
      "cell_type": "markdown",
      "source": [
        "### **Ensamble**: Se utiliza el algoritmo entrenado para mostrar los restaurantes más recomendados, utilizando la optimización de una suma ponderada, que vincula las características \"densidad\" \"puntaje\" y \"número de reviews\" con el metodo del descenso del gradiente"
      ],
      "metadata": {
        "id": "JuF98vCY-vgm"
      }
    },
    {
      "cell_type": "markdown",
      "source": [
        "### **Función a optimizar**:"
      ],
      "metadata": {
        "id": "r-RKm5zV7lg0"
      }
    },
    {
      "cell_type": "markdown",
      "source": [
        "### puntuación restaurante = peso_puntaje * puntaje_normalizado + peso_densidad * densidad_normalizada + peso_nºreviews * nº_reviews_normalizado"
      ],
      "metadata": {
        "id": "Ov3apOGl6_3q"
      }
    },
    {
      "cell_type": "code",
      "source": [
        "# Pesos en el rango [0, 1]\n",
        "initial_weights = [0.25, 0.25, 0.25]  # Valores iniciales de los pesos\n",
        "\n",
        "# Se normalizan las columnas de puntuación, densidad y número de revisiones entre 0 y 1\n",
        "scaler = MinMaxScaler(feature_range=(0, 1))\n",
        "meta_filtro['puntaje_normalizado'] = scaler.fit_transform(meta_filtro[['avg_rating']])\n",
        "meta_filtro['densidad_normalizada'] = scaler.fit_transform(meta_filtro[['densidad']])\n",
        "meta_filtro['num_of_reviews_normalizado'] = scaler.fit_transform(meta_filtro[['num_of_reviews']])\n",
        "\n",
        "# Se define la función objetivo para minimizar\n",
        "def objective_function(weights):\n",
        "    puntuacion_restaurante = (\n",
        "        weights[0] * meta_filtro['densidad_normalizada'] +\n",
        "        weights[1] * meta_filtro['puntaje_normalizado'] +\n",
        "        weights[2] * meta_filtro['num_of_reviews_normalizado']\n",
        "    )\n",
        "    return -puntuacion_restaurante.sum()\n",
        "\n",
        "# Devuelve la suma negativa de la puntuación total que es equivalente que es equivalente a haber buscado la suma maxima positiva\n",
        "\n",
        "# Se definen las restricciones de los pesos (en este caso, positivos)\n",
        "constraints = [{'type': 'ineq', 'fun': lambda w: w[i]} for i in range(len(initial_weights))]\n",
        "\n",
        "# Se optimizan los pesos usando el algoritmo de Descenso del Gradiente\n",
        "result = minimize(objective_function, initial_weights, constraints=constraints)\n",
        "\n",
        "# Se obtienen los pesos optimizados\n",
        "optimized_weights = result.x\n",
        "\n",
        "# Se calcula la puntuacion_restaurante con los pesos optimizados\n",
        "meta_filtro['puntuacion_restaurante'] = (\n",
        "    optimized_weights[0] * meta_filtro['densidad_normalizada'] +\n",
        "    optimized_weights[1] * meta_filtro['puntaje_normalizado'] +\n",
        "    optimized_weights[2] * meta_filtro['num_of_reviews_normalizado']\n",
        ")\n",
        "\n",
        "# Se normaliza la columna 'puntuacion_restaurante' entre 0 y 1\n",
        "scaler = MinMaxScaler()\n",
        "meta_filtro['puntuacion_restaurante'] = scaler.fit_transform(meta_filtro[['puntuacion_restaurante']])\n",
        "\n",
        "# Se redondea los valores a 7 decimales\n",
        "meta_filtro['puntuacion_restaurante'] = meta_filtro['puntuacion_restaurante'].round(7)\n",
        "\n",
        "# Se ordena el DataFrame en función de la puntuación restaurante en orden decreciente\n",
        "meta_ordenado = meta_filtro.sort_values(by='puntuacion_restaurante', ascending=False)\n"
      ],
      "metadata": {
        "id": "bM1r7rnPxN24"
      },
      "execution_count": 92,
      "outputs": []
    },
    {
      "cell_type": "markdown",
      "source": [
        "**Aclaraciones**:\n",
        "- Las categorías \"densidad\", \"puntaje\" y \"nº de reviews\" se reescalan entre 0 y 1. No se utilizó z-score porque las distribuciones de los datos no son normales.\n",
        "- Los pesos sólo tienen la restricción de ser valores positivos.\n",
        "- Los puntajes finales obtenidos se reescalan entre 0 y 1 para una mejor visualización.\n",
        "- En base a la palabra clave que ingresó el usuario, se mostrarán qué características son las mejores puntuadas de forma intrínseca en el conjunto de datos. Por ejemplo, si resalta más la característica \"puntaje\" respecto de las otras, significa que predominan los buenos puntajes frente a la densidad y al nº de reviews, para este subconjunto de datos."
      ],
      "metadata": {
        "id": "uXUwtw4NdWZy"
      }
    },
    {
      "cell_type": "code",
      "source": [
        "meta_ordenado.head(73)"
      ],
      "metadata": {
        "id": "65DgB6sk0liy"
      },
      "execution_count": null,
      "outputs": []
    },
    {
      "cell_type": "markdown",
      "source": [
        "### Se muestra el orden de importancia para cada característica"
      ],
      "metadata": {
        "id": "qdMzS6dIdcmB"
      }
    },
    {
      "cell_type": "code",
      "source": [
        "# Nombres de las características correspondientes\n",
        "nombres = ['densidad', 'puntaje', 'num_de_reviews']\n",
        "\n",
        "# Crea un diccionario que asocie las características con sus pesos optimizados\n",
        "dic = {nombres[i]: \"{:.6f}\".format(optimized_weights[i]) for i in range(len(nombres))}\n",
        "\n",
        "# Imprime el diccionario para ver el orden de importancia\n",
        "print(dic)"
      ],
      "metadata": {
        "colab": {
          "base_uri": "https://localhost:8080/"
        },
        "id": "8y4zXvusdijV",
        "outputId": "973bb1aa-1dfa-4d32-8033-6c8df6d3c578"
      },
      "execution_count": 77,
      "outputs": [
        {
          "output_type": "stream",
          "name": "stdout",
          "text": [
            "{'densidad': '123818325.832880', 'puntaje': '134107281.783863', 'num_de_reviews': '27297728.196172'}\n"
          ]
        }
      ]
    },
    {
      "cell_type": "markdown",
      "source": [
        "**Aclaración**: Como se puede observar, orden de iportancia de las características varía de acuerdo a la elección de palabra hecha por el usuario. Probablemente, para otra elección de categoría se obtenga otro orden de importancia de las características."
      ],
      "metadata": {
        "id": "ar8pl5p61ATW"
      }
    },
    {
      "cell_type": "markdown",
      "source": [
        "### Se corrobora la independencia de las características utilizadas. Esto es importante para descartar características que puedan estar de más y sesgar el modelo"
      ],
      "metadata": {
        "id": "Qn9hBNKOdrXT"
      }
    },
    {
      "cell_type": "code",
      "source": [
        "# Se calcula la matriz de correlación\n",
        "corr = meta_ordenado[['densidad', 'puntaje_normalizado', 'num_of_reviews_normalizado']].corr()\n",
        "\n",
        "# Se crea un mapa de calor (heatmap) para visualizar la matriz de correlación\n",
        "plt.figure(figsize=(8, 6))\n",
        "sns.heatmap(corr, annot=True, cmap='coolwarm', linewidths=0.5)\n",
        "plt.title('Matriz de Correlación')\n",
        "plt.show()"
      ],
      "metadata": {
        "colab": {
          "base_uri": "https://localhost:8080/",
          "height": 735
        },
        "id": "OYM1juJCdvC1",
        "outputId": "b74f47fc-6430-4d5c-d5cf-a4454787ebb7"
      },
      "execution_count": 70,
      "outputs": [
        {
          "output_type": "display_data",
          "data": {
            "text/plain": [
              "<Figure size 800x600 with 2 Axes>"
            ],
            "image/png": "[encoded data removed]"
          },
          "metadata": {}
        }
      ]
    },
    {
      "cell_type": "markdown",
      "source": [
        "### Se observa la correlación entre la puntuación de los restaurantes filtrados y cada característica usada"
      ],
      "metadata": {
        "id": "SZkROWR56mFL"
      }
    },
    {
      "cell_type": "code",
      "source": [
        "# Calcula las correlaciones entre \"puntuacion_restaurante\" y las tres columnas normalizadas\n",
        "correlation_puntaje = meta_ordenado['puntuacion_restaurante'].corr(meta_ordenado['puntaje_normalizado'])\n",
        "correlation_densidad = meta_ordenado['puntuacion_restaurante'].corr(meta_ordenado['densidad_normalizada'])\n",
        "correlation_reviews = meta_ordenado['puntuacion_restaurante'].corr(meta_ordenado['num_of_reviews_normalizado'])\n",
        "\n",
        "print(f\"Correlación entre Puntuación del Restaurante y Puntaje Normalizado: {correlation_puntaje}\")\n",
        "print(f\"Correlación entre Puntuación del Restaurante y Densidad Normalizada: {correlation_densidad}\")\n",
        "print(f\"Correlación entre Puntuación del Restaurante y Número de Reseñas Normalizado: {correlation_reviews}\")\n"
      ],
      "metadata": {
        "colab": {
          "base_uri": "https://localhost:8080/"
        },
        "id": "55_YQE-YcAsK",
        "outputId": "22253854-8e31-4aa5-a50b-08e11d22c07f"
      },
      "execution_count": 71,
      "outputs": [
        {
          "output_type": "stream",
          "name": "stdout",
          "text": [
            "Correlación entre Puntuación del Restaurante y Puntaje Normalizado: 0.618000694485324\n",
            "Correlación entre Puntuación del Restaurante y Densidad Normalizada: 0.7512380721762302\n",
            "Correlación entre Puntuación del Restaurante y Número de Reseñas Normalizado: 0.07797845936544438\n"
          ]
        }
      ]
    },
    {
      "cell_type": "markdown",
      "source": [
        "### Se Una vez que el usuario seleccionó el restaurante que quiere examinar, se buscan los que están alrededor de este"
      ],
      "metadata": {
        "id": "3YPD21utYLyF"
      }
    },
    {
      "cell_type": "code",
      "source": [
        "from geopy.distance import geodesic\n",
        "\n",
        "# Se ingresa la entrada del usuario\n",
        "nombre_ingresado = input(\"Ingrese el nombre del lugar: \")\n",
        "\n",
        "# Se filtran los datos para obtener solo los restaurantes dentro del radio de 500 metros\n",
        "restaurantes_cercanos = meta_2.copy()\n",
        "\n",
        "# Se definen las coordenadas del lugar ingresado por el usuario\n",
        "latitud_usuario = restaurantes_cercanos[restaurantes_cercanos['local_name'] == nombre_ingresado]['latitude'].iloc[0]\n",
        "longitud_usuario = restaurantes_cercanos[restaurantes_cercanos['local_name'] == nombre_ingresado]['longitude'].iloc[0]\n",
        "\n",
        "# Se calcula la distancia (euclidiana, las distancias son cortas) a cada restaurante en metros y agregarla como una nueva columna\n",
        "restaurantes_cercanos['Distancia (m)'] = restaurantes_cercanos.apply(\n",
        "    lambda row: geodesic((latitud_usuario, longitud_usuario), (row['latitude'], row['longitude'])).meters, axis=1\n",
        ")\n",
        "\n",
        "# Se convierte la distancia límite a un valor numérico (en metros)\n",
        "distancia_limite_metros = 500\n",
        "\n",
        "# Se filtran los restaurantes dentro del radio de 500 metros y con la misma categoría\n",
        "restaurantes_cercanos = restaurantes_cercanos[\n",
        "    (restaurantes_cercanos['Distancia (m)'] <= distancia_limite_metros)\n",
        "]\n",
        "\n",
        "# Se ordenan los restaurantes por distancia\n",
        "restaurantes_cercanos = restaurantes_cercanos.sort_values(by='Distancia (m)')\n",
        "\n"
      ],
      "metadata": {
        "colab": {
          "base_uri": "https://localhost:8080/"
        },
        "id": "HkJ44N2KcvW0",
        "outputId": "0f78665e-c7e6-497b-cd58-48369c65ac37"
      },
      "execution_count": 95,
      "outputs": [
        {
          "name": "stdout",
          "output_type": "stream",
          "text": [
            "Ingrese el nombre del lugar: Taco Tacu\n"
          ]
        }
      ]
    },
    {
      "cell_type": "markdown",
      "source": [
        "### Se visualizan los resultados en una tabla"
      ],
      "metadata": {
        "id": "9CPXTcXWYntd"
      }
    },
    {
      "cell_type": "code",
      "source": [
        "columnas=[\"local_name\",\"category\",\"Distancia (m)\"]"
      ],
      "metadata": {
        "id": "QFkXfHb_VinL"
      },
      "execution_count": 96,
      "outputs": []
    },
    {
      "cell_type": "code",
      "source": [
        "restaurantes_cercanos[columnas]"
      ],
      "metadata": {
        "id": "C9pLOOmZT22f",
        "colab": {
          "base_uri": "https://localhost:8080/",
          "height": 206
        },
        "outputId": "46c30434-c322-4439-e781-14b327cfbe79"
      },
      "execution_count": 97,
      "outputs": [
        {
          "output_type": "execute_result",
          "data": {
            "text/plain": [
              "             local_name                                           category  \\\n",
              "951           Taco Tacu  Mexican restaurant, Fusion restaurant, Peruvia...   \n",
              "365             Hy-Vong                     Vietnamese restaurant, Caterer   \n",
              "617   La Diosa taqueria                                         Restaurant   \n",
              "589     Cafe La Carreta                       Cuban restaurant, Restaurant   \n",
              "1003  Restaute Atlacall                                         Restaurant   \n",
              "\n",
              "      Distancia (m)  \n",
              "951        0.000000  \n",
              "365       14.532687  \n",
              "617       14.532687  \n",
              "589      224.879335  \n",
              "1003     478.751903  "
            ],
            "text/html": [
              "\n",
              "  <div id=\"df-9483f051-d16e-41ef-b08a-c790d19150f1\" class=\"colab-df-container\">\n",
              "    <div>\n",
              "<style scoped>\n",
              "    .dataframe tbody tr th:only-of-type {\n",
              "        vertical-align: middle;\n",
              "    }\n",
              "\n",
              "    .dataframe tbody tr th {\n",
              "        vertical-align: top;\n",
              "    }\n",
              "\n",
              "    .dataframe thead th {\n",
              "        text-align: right;\n",
              "    }\n",
              "</style>\n",
              "<table border=\"1\" class=\"dataframe\">\n",
              "  <thead>\n",
              "    <tr style=\"text-align: right;\">\n",
              "      <th></th>\n",
              "      <th>local_name</th>\n",
              "      <th>category</th>\n",
              "      <th>Distancia (m)</th>\n",
              "    </tr>\n",
              "  </thead>\n",
              "  <tbody>\n",
              "    <tr>\n",
              "      <th>951</th>\n",
              "      <td>Taco Tacu</td>\n",
              "      <td>Mexican restaurant, Fusion restaurant, Peruvia...</td>\n",
              "      <td>0.000000</td>\n",
              "    </tr>\n",
              "    <tr>\n",
              "      <th>365</th>\n",
              "      <td>Hy-Vong</td>\n",
              "      <td>Vietnamese restaurant, Caterer</td>\n",
              "      <td>14.532687</td>\n",
              "    </tr>\n",
              "    <tr>\n",
              "      <th>617</th>\n",
              "      <td>La Diosa taqueria</td>\n",
              "      <td>Restaurant</td>\n",
              "      <td>14.532687</td>\n",
              "    </tr>\n",
              "    <tr>\n",
              "      <th>589</th>\n",
              "      <td>Cafe La Carreta</td>\n",
              "      <td>Cuban restaurant, Restaurant</td>\n",
              "      <td>224.879335</td>\n",
              "    </tr>\n",
              "    <tr>\n",
              "      <th>1003</th>\n",
              "      <td>Restaute Atlacall</td>\n",
              "      <td>Restaurant</td>\n",
              "      <td>478.751903</td>\n",
              "    </tr>\n",
              "  </tbody>\n",
              "</table>\n",
              "</div>\n",
              "    <div class=\"colab-df-buttons\">\n",
              "\n",
              "  <div class=\"colab-df-container\">\n",
              "    <button class=\"colab-df-convert\" onclick=\"convertToInteractive('df-9483f051-d16e-41ef-b08a-c790d19150f1')\"\n",
              "            title=\"Convert this dataframe to an interactive table.\"\n",
              "            style=\"display:none;\">\n",
              "\n",
              "  <svg xmlns=\"http://www.w3.org/2000/svg\" height=\"24px\" viewBox=\"0 -960 960 960\">\n",
              "    <path d=\"M120-120v-720h720v720H120Zm60-500h600v-160H180v160Zm220 220h160v-160H400v160Zm0 220h160v-160H400v160ZM180-400h160v-160H180v160Zm440 0h160v-160H620v160ZM180-180h160v-160H180v160Zm440 0h160v-160H620v160Z\"/>\n",
              "  </svg>\n",
              "    </button>\n",
              "\n",
              "  <style>\n",
              "    .colab-df-container {\n",
              "      display:flex;\n",
              "      gap: 12px;\n",
              "    }\n",
              "\n",
              "    .colab-df-convert {\n",
              "      background-color: #E8F0FE;\n",
              "      border: none;\n",
              "      border-radius: 50%;\n",
              "      cursor: pointer;\n",
              "      display: none;\n",
              "      fill: #1967D2;\n",
              "      height: 32px;\n",
              "      padding: 0 0 0 0;\n",
              "      width: 32px;\n",
              "    }\n",
              "\n",
              "    .colab-df-convert:hover {\n",
              "      background-color: #E2EBFA;\n",
              "      box-shadow: 0px 1px 2px rgba(60, 64, 67, 0.3), 0px 1px 3px 1px rgba(60, 64, 67, 0.15);\n",
              "      fill: #174EA6;\n",
              "    }\n",
              "\n",
              "    .colab-df-buttons div {\n",
              "      margin-bottom: 4px;\n",
              "    }\n",
              "\n",
              "    [theme=dark] .colab-df-convert {\n",
              "      background-color: #3B4455;\n",
              "      fill: #D2E3FC;\n",
              "    }\n",
              "\n",
              "    [theme=dark] .colab-df-convert:hover {\n",
              "      background-color: #434B5C;\n",
              "      box-shadow: 0px 1px 3px 1px rgba(0, 0, 0, 0.15);\n",
              "      filter: drop-shadow(0px 1px 2px rgba(0, 0, 0, 0.3));\n",
              "      fill: #FFFFFF;\n",
              "    }\n",
              "  </style>\n",
              "\n",
              "    <script>\n",
              "      const buttonEl =\n",
              "        document.querySelector('#df-9483f051-d16e-41ef-b08a-c790d19150f1 button.colab-df-convert');\n",
              "      buttonEl.style.display =\n",
              "        google.colab.kernel.accessAllowed ? 'block' : 'none';\n",
              "\n",
              "      async function convertToInteractive(key) {\n",
              "        const element = document.querySelector('#df-9483f051-d16e-41ef-b08a-c790d19150f1');\n",
              "        const dataTable =\n",
              "          await google.colab.kernel.invokeFunction('convertToInteractive',\n",
              "                                                    [key], {});\n",
              "        if (!dataTable) return;\n",
              "\n",
              "        const docLinkHtml = 'Like what you see? Visit the ' +\n",
              "          '<a target=\"_blank\" href=https://colab.research.google.com/notebooks/data_table.ipynb>data table notebook</a>'\n",
              "          + ' to learn more about interactive tables.';\n",
              "        element.innerHTML = '';\n",
              "        dataTable['output_type'] = 'display_data';\n",
              "        await google.colab.output.renderOutput(dataTable, element);\n",
              "        const docLink = document.createElement('div');\n",
              "        docLink.innerHTML = docLinkHtml;\n",
              "        element.appendChild(docLink);\n",
              "      }\n",
              "    </script>\n",
              "  </div>\n",
              "\n",
              "\n",
              "<div id=\"df-8ff9b68c-58ef-4aa0-97ff-74781b865905\">\n",
              "  <button class=\"colab-df-quickchart\" onclick=\"quickchart('df-8ff9b68c-58ef-4aa0-97ff-74781b865905')\"\n",
              "            title=\"Suggest charts.\"\n",
              "            style=\"display:none;\">\n",
              "\n",
              "<svg xmlns=\"http://www.w3.org/2000/svg\" height=\"24px\"viewBox=\"0 0 24 24\"\n",
              "     width=\"24px\">\n",
              "    <g>\n",
              "        <path d=\"M19 3H5c-1.1 0-2 .9-2 2v14c0 1.1.9 2 2 2h14c1.1 0 2-.9 2-2V5c0-1.1-.9-2-2-2zM9 17H7v-7h2v7zm4 0h-2V7h2v10zm4 0h-2v-4h2v4z\"/>\n",
              "    </g>\n",
              "</svg>\n",
              "  </button>\n",
              "\n",
              "<style>\n",
              "  .colab-df-quickchart {\n",
              "      --bg-color: #E8F0FE;\n",
              "      --fill-color: #1967D2;\n",
              "      --hover-bg-color: #E2EBFA;\n",
              "      --hover-fill-color: #174EA6;\n",
              "      --disabled-fill-color: #AAA;\n",
              "      --disabled-bg-color: #DDD;\n",
              "  }\n",
              "\n",
              "  [theme=dark] .colab-df-quickchart {\n",
              "      --bg-color: #3B4455;\n",
              "      --fill-color: #D2E3FC;\n",
              "      --hover-bg-color: #434B5C;\n",
              "      --hover-fill-color: #FFFFFF;\n",
              "      --disabled-bg-color: #3B4455;\n",
              "      --disabled-fill-color: #666;\n",
              "  }\n",
              "\n",
              "  .colab-df-quickchart {\n",
              "    background-color: var(--bg-color);\n",
              "    border: none;\n",
              "    border-radius: 50%;\n",
              "    cursor: pointer;\n",
              "    display: none;\n",
              "    fill: var(--fill-color);\n",
              "    height: 32px;\n",
              "    padding: 0;\n",
              "    width: 32px;\n",
              "  }\n",
              "\n",
              "  .colab-df-quickchart:hover {\n",
              "    background-color: var(--hover-bg-color);\n",
              "    box-shadow: 0 1px 2px rgba(60, 64, 67, 0.3), 0 1px 3px 1px rgba(60, 64, 67, 0.15);\n",
              "    fill: var(--button-hover-fill-color);\n",
              "  }\n",
              "\n",
              "  .colab-df-quickchart-complete:disabled,\n",
              "  .colab-df-quickchart-complete:disabled:hover {\n",
              "    background-color: var(--disabled-bg-color);\n",
              "    fill: var(--disabled-fill-color);\n",
              "    box-shadow: none;\n",
              "  }\n",
              "\n",
              "  .colab-df-spinner {\n",
              "    border: 2px solid var(--fill-color);\n",
              "    border-color: transparent;\n",
              "    border-bottom-color: var(--fill-color);\n",
              "    animation:\n",
              "      spin 1s steps(1) infinite;\n",
              "  }\n",
              "\n",
              "  @keyframes spin {\n",
              "    0% {\n",
              "      border-color: transparent;\n",
              "      border-bottom-color: var(--fill-color);\n",
              "      border-left-color: var(--fill-color);\n",
              "    }\n",
              "    20% {\n",
              "      border-color: transparent;\n",
              "      border-left-color: var(--fill-color);\n",
              "      border-top-color: var(--fill-color);\n",
              "    }\n",
              "    30% {\n",
              "      border-color: transparent;\n",
              "      border-left-color: var(--fill-color);\n",
              "      border-top-color: var(--fill-color);\n",
              "      border-right-color: var(--fill-color);\n",
              "    }\n",
              "    40% {\n",
              "      border-color: transparent;\n",
              "      border-right-color: var(--fill-color);\n",
              "      border-top-color: var(--fill-color);\n",
              "    }\n",
              "    60% {\n",
              "      border-color: transparent;\n",
              "      border-right-color: var(--fill-color);\n",
              "    }\n",
              "    80% {\n",
              "      border-color: transparent;\n",
              "      border-right-color: var(--fill-color);\n",
              "      border-bottom-color: var(--fill-color);\n",
              "    }\n",
              "    90% {\n",
              "      border-color: transparent;\n",
              "      border-bottom-color: var(--fill-color);\n",
              "    }\n",
              "  }\n",
              "</style>\n",
              "\n",
              "  <script>\n",
              "    async function quickchart(key) {\n",
              "      const quickchartButtonEl =\n",
              "        document.querySelector('#' + key + ' button');\n",
              "      quickchartButtonEl.disabled = true;  // To prevent multiple clicks.\n",
              "      quickchartButtonEl.classList.add('colab-df-spinner');\n",
              "      try {\n",
              "        const charts = await google.colab.kernel.invokeFunction(\n",
              "            'suggestCharts', [key], {});\n",
              "      } catch (error) {\n",
              "        console.error('Error during call to suggestCharts:', error);\n",
              "      }\n",
              "      quickchartButtonEl.classList.remove('colab-df-spinner');\n",
              "      quickchartButtonEl.classList.add('colab-df-quickchart-complete');\n",
              "    }\n",
              "    (() => {\n",
              "      let quickchartButtonEl =\n",
              "        document.querySelector('#df-8ff9b68c-58ef-4aa0-97ff-74781b865905 button');\n",
              "      quickchartButtonEl.style.display =\n",
              "        google.colab.kernel.accessAllowed ? 'block' : 'none';\n",
              "    })();\n",
              "  </script>\n",
              "</div>\n",
              "    </div>\n",
              "  </div>\n"
            ]
          },
          "metadata": {},
          "execution_count": 97
        }
      ]
    },
    {
      "cell_type": "markdown",
      "source": [
        "### Se genera un mapa para visualizar"
      ],
      "metadata": {
        "id": "Ao3BhNHvYqat"
      }
    },
    {
      "cell_type": "code",
      "source": [
        "# Se crea un mapa centrado en las coordenadas del usuario\n",
        "mapa = folium.Map(location=[latitud_usuario, longitud_usuario], zoom_start=15)\n",
        "\n",
        "# Se itera a través de los restaurantes cercanos y agrega marcadores rojos al mapa\n",
        "for index, restaurante in restaurantes_cercanos.iterrows():\n",
        "    folium.Marker(\n",
        "        location=[restaurante['latitude'], restaurante['longitude']],\n",
        "        popup=restaurante['local_name'],  # Puedes personalizar el contenido emergente\n",
        "        icon=folium.Icon(color='red')\n",
        "    ).add_to(mapa)\n",
        "\n",
        "# Se guarda el mapa como un archivo HTML\n",
        "mapa.save('restaurantes_cercanos_mapa.html')"
      ],
      "metadata": {
        "id": "rh6h4ZdMIgED"
      },
      "execution_count": 98,
      "outputs": []
    }
  ]
}
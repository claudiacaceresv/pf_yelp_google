{
  "nbformat": 4,
  "nbformat_minor": 0,
  "metadata": {
    "colab": {
      "provenance": []
    },
    "kernelspec": {
      "name": "python3",
      "display_name": "Python 3"
    },
    "language_info": {
      "name": "python"
    }
  },
  "cells": [
    {
      "cell_type": "markdown",
      "source": [
        "# Se importan las librerias"
      ],
      "metadata": {
        "id": "Tn8yaY131ahU"
      }
    },
    {
      "cell_type": "code",
      "source": [
        "import pandas as pd\n",
        "import seaborn as sns\n",
        "from sklearn.neighbors import KernelDensity\n",
        "import numpy as np\n",
        "import matplotlib.pyplot as plt\n",
        "from mpl_toolkits.mplot3d import Axes3D\n",
        "from sklearn.preprocessing import MinMaxScaler\n",
        "from scipy.optimize import minimize\n",
        "import re\n",
        "from gensim.models import Word2Vec\n",
        "from nltk.tokenize import word_tokenize\n",
        "import warnings\n",
        "warnings.filterwarnings('ignore')\n",
        "import nltk\n",
        "import folium\n",
        "# Se descarga el recurso 'punkt' para tokenizar o separar palabras\n",
        "nltk.download('punkt')"
      ],
      "metadata": {
        "id": "kMRhYz0FcRP7",
        "colab": {
          "base_uri": "https://localhost:8080/"
        },
        "outputId": "f2b93ed7-345e-401d-b59c-5a402c00f107"
      },
      "execution_count": 26,
      "outputs": [
        {
          "output_type": "stream",
          "name": "stderr",
          "text": [
            "[nltk_data] Downloading package punkt to /root/nltk_data...\n",
            "[nltk_data]   Package punkt is already up-to-date!\n"
          ]
        },
        {
          "output_type": "execute_result",
          "data": {
            "text/plain": [
              "True"
            ]
          },
          "metadata": {},
          "execution_count": 26
        }
      ]
    },
    {
      "cell_type": "markdown",
      "source": [
        "# Se importa el archivo \"Metadata ML.csv\" que está asociado a 1800 restaurantes de Miami filtrados"
      ],
      "metadata": {
        "id": "fFJOzTSp1e_a"
      }
    },
    {
      "cell_type": "code",
      "source": [
        "meta_2=pd.read_csv(\"Metadata ML.csv\")"
      ],
      "metadata": {
        "id": "A9aXhj4DTWlm"
      },
      "execution_count": 57,
      "outputs": []
    },
    {
      "cell_type": "markdown",
      "source": [
        "# Se importa el archivo \"Metadata.csv\" que se utilizará para medir los KPIs"
      ],
      "metadata": {
        "id": "GIyTBtudX9xD"
      }
    },
    {
      "cell_type": "code",
      "source": [
        "meta=pd.read_csv(\"Metadata.csv\")"
      ],
      "metadata": {
        "id": "x5OJ-ajWUgtM"
      },
      "execution_count": 2,
      "outputs": []
    },
    {
      "cell_type": "code",
      "source": [
        "meta.head()"
      ],
      "metadata": {
        "colab": {
          "base_uri": "https://localhost:8080/",
          "height": 486
        },
        "id": "TPu7lA58eNip",
        "outputId": "f7d032a4-565a-4ed8-c3ea-261f51d6e5ab"
      },
      "execution_count": 3,
      "outputs": [
        {
          "output_type": "execute_result",
          "data": {
            "text/plain": [
              "               local_name                                            address  \\\n",
              "0          Domino's Pizza  Domino's Pizza, 5769 NW 7th St Ste 22, Miami, ...   \n",
              "1  The Produce Connection  The Produce Connection, 2200 NW 23rd St, Miami...   \n",
              "2               Taco Bell  Taco Bell, International Airport, Miami, FL 33126   \n",
              "3      Arena's Burger Bar  Arena's Burger Bar, 900 Biscayne Blvd Suite R1...   \n",
              "4            Shawarmazing  Shawarmazing, 17025 W Dixie Hwy, North Miami B...   \n",
              "\n",
              "                                 gmap_id   latitude  longitude    category  \\\n",
              "0  0x88d9b9847fc1d547:0xa69a99b892a3615d  25.778760 -80.290339  Restaurant   \n",
              "1  0x88d9b729d57eb3cd:0xc7ed59e9a4cff5fb  25.797904 -80.232051  Restaurant   \n",
              "2   0x88d9b9e2e5d1329d:0x614e7fdf2452832  25.796134 -80.278967  Restaurant   \n",
              "3  0x88d9b6a0fee2f1dd:0x9028448132310436  25.783089 -80.190133  Restaurant   \n",
              "4  0x88d9ad12d1acaa9d:0x9f080749822cf2d1  25.932135 -80.152832  Restaurant   \n",
              "\n",
              "   avg_rating  num_of_reviews  apto_sillas_de_ruedas  atmosfera_agradable  \\\n",
              "0         2.4              27                      0                    0   \n",
              "1         3.3               3                      0                    0   \n",
              "2         3.7              16                      0                    0   \n",
              "3         3.9               8                      0                    0   \n",
              "4         4.1               8                      0                    0   \n",
              "\n",
              "   apto_grupos_grandes  solo_efectivo   city  \n",
              "0                    0              0  Miami  \n",
              "1                    0              0  Miami  \n",
              "2                    0              0  Miami  \n",
              "3                    0              0  Miami  \n",
              "4                    0              0  Miami  "
            ],
            "text/html": [
              "\n",
              "  <div id=\"df-81c52918-70ab-44f7-9003-d4dbbfd8967c\" class=\"colab-df-container\">\n",
              "    <div>\n",
              "<style scoped>\n",
              "    .dataframe tbody tr th:only-of-type {\n",
              "        vertical-align: middle;\n",
              "    }\n",
              "\n",
              "    .dataframe tbody tr th {\n",
              "        vertical-align: top;\n",
              "    }\n",
              "\n",
              "    .dataframe thead th {\n",
              "        text-align: right;\n",
              "    }\n",
              "</style>\n",
              "<table border=\"1\" class=\"dataframe\">\n",
              "  <thead>\n",
              "    <tr style=\"text-align: right;\">\n",
              "      <th></th>\n",
              "      <th>local_name</th>\n",
              "      <th>address</th>\n",
              "      <th>gmap_id</th>\n",
              "      <th>latitude</th>\n",
              "      <th>longitude</th>\n",
              "      <th>category</th>\n",
              "      <th>avg_rating</th>\n",
              "      <th>num_of_reviews</th>\n",
              "      <th>apto_sillas_de_ruedas</th>\n",
              "      <th>atmosfera_agradable</th>\n",
              "      <th>apto_grupos_grandes</th>\n",
              "      <th>solo_efectivo</th>\n",
              "      <th>city</th>\n",
              "    </tr>\n",
              "  </thead>\n",
              "  <tbody>\n",
              "    <tr>\n",
              "      <th>0</th>\n",
              "      <td>Domino's Pizza</td>\n",
              "      <td>Domino's Pizza, 5769 NW 7th St Ste 22, Miami, ...</td>\n",
              "      <td>0x88d9b9847fc1d547:0xa69a99b892a3615d</td>\n",
              "      <td>25.778760</td>\n",
              "      <td>-80.290339</td>\n",
              "      <td>Restaurant</td>\n",
              "      <td>2.4</td>\n",
              "      <td>27</td>\n",
              "      <td>0</td>\n",
              "      <td>0</td>\n",
              "      <td>0</td>\n",
              "      <td>0</td>\n",
              "      <td>Miami</td>\n",
              "    </tr>\n",
              "    <tr>\n",
              "      <th>1</th>\n",
              "      <td>The Produce Connection</td>\n",
              "      <td>The Produce Connection, 2200 NW 23rd St, Miami...</td>\n",
              "      <td>0x88d9b729d57eb3cd:0xc7ed59e9a4cff5fb</td>\n",
              "      <td>25.797904</td>\n",
              "      <td>-80.232051</td>\n",
              "      <td>Restaurant</td>\n",
              "      <td>3.3</td>\n",
              "      <td>3</td>\n",
              "      <td>0</td>\n",
              "      <td>0</td>\n",
              "      <td>0</td>\n",
              "      <td>0</td>\n",
              "      <td>Miami</td>\n",
              "    </tr>\n",
              "    <tr>\n",
              "      <th>2</th>\n",
              "      <td>Taco Bell</td>\n",
              "      <td>Taco Bell, International Airport, Miami, FL 33126</td>\n",
              "      <td>0x88d9b9e2e5d1329d:0x614e7fdf2452832</td>\n",
              "      <td>25.796134</td>\n",
              "      <td>-80.278967</td>\n",
              "      <td>Restaurant</td>\n",
              "      <td>3.7</td>\n",
              "      <td>16</td>\n",
              "      <td>0</td>\n",
              "      <td>0</td>\n",
              "      <td>0</td>\n",
              "      <td>0</td>\n",
              "      <td>Miami</td>\n",
              "    </tr>\n",
              "    <tr>\n",
              "      <th>3</th>\n",
              "      <td>Arena's Burger Bar</td>\n",
              "      <td>Arena's Burger Bar, 900 Biscayne Blvd Suite R1...</td>\n",
              "      <td>0x88d9b6a0fee2f1dd:0x9028448132310436</td>\n",
              "      <td>25.783089</td>\n",
              "      <td>-80.190133</td>\n",
              "      <td>Restaurant</td>\n",
              "      <td>3.9</td>\n",
              "      <td>8</td>\n",
              "      <td>0</td>\n",
              "      <td>0</td>\n",
              "      <td>0</td>\n",
              "      <td>0</td>\n",
              "      <td>Miami</td>\n",
              "    </tr>\n",
              "    <tr>\n",
              "      <th>4</th>\n",
              "      <td>Shawarmazing</td>\n",
              "      <td>Shawarmazing, 17025 W Dixie Hwy, North Miami B...</td>\n",
              "      <td>0x88d9ad12d1acaa9d:0x9f080749822cf2d1</td>\n",
              "      <td>25.932135</td>\n",
              "      <td>-80.152832</td>\n",
              "      <td>Restaurant</td>\n",
              "      <td>4.1</td>\n",
              "      <td>8</td>\n",
              "      <td>0</td>\n",
              "      <td>0</td>\n",
              "      <td>0</td>\n",
              "      <td>0</td>\n",
              "      <td>Miami</td>\n",
              "    </tr>\n",
              "  </tbody>\n",
              "</table>\n",
              "</div>\n",
              "    <div class=\"colab-df-buttons\">\n",
              "\n",
              "  <div class=\"colab-df-container\">\n",
              "    <button class=\"colab-df-convert\" onclick=\"convertToInteractive('df-81c52918-70ab-44f7-9003-d4dbbfd8967c')\"\n",
              "            title=\"Convert this dataframe to an interactive table.\"\n",
              "            style=\"display:none;\">\n",
              "\n",
              "  <svg xmlns=\"http://www.w3.org/2000/svg\" height=\"24px\" viewBox=\"0 -960 960 960\">\n",
              "    <path d=\"M120-120v-720h720v720H120Zm60-500h600v-160H180v160Zm220 220h160v-160H400v160Zm0 220h160v-160H400v160ZM180-400h160v-160H180v160Zm440 0h160v-160H620v160ZM180-180h160v-160H180v160Zm440 0h160v-160H620v160Z\"/>\n",
              "  </svg>\n",
              "    </button>\n",
              "\n",
              "  <style>\n",
              "    .colab-df-container {\n",
              "      display:flex;\n",
              "      gap: 12px;\n",
              "    }\n",
              "\n",
              "    .colab-df-convert {\n",
              "      background-color: #E8F0FE;\n",
              "      border: none;\n",
              "      border-radius: 50%;\n",
              "      cursor: pointer;\n",
              "      display: none;\n",
              "      fill: #1967D2;\n",
              "      height: 32px;\n",
              "      padding: 0 0 0 0;\n",
              "      width: 32px;\n",
              "    }\n",
              "\n",
              "    .colab-df-convert:hover {\n",
              "      background-color: #E2EBFA;\n",
              "      box-shadow: 0px 1px 2px rgba(60, 64, 67, 0.3), 0px 1px 3px 1px rgba(60, 64, 67, 0.15);\n",
              "      fill: #174EA6;\n",
              "    }\n",
              "\n",
              "    .colab-df-buttons div {\n",
              "      margin-bottom: 4px;\n",
              "    }\n",
              "\n",
              "    [theme=dark] .colab-df-convert {\n",
              "      background-color: #3B4455;\n",
              "      fill: #D2E3FC;\n",
              "    }\n",
              "\n",
              "    [theme=dark] .colab-df-convert:hover {\n",
              "      background-color: #434B5C;\n",
              "      box-shadow: 0px 1px 3px 1px rgba(0, 0, 0, 0.15);\n",
              "      filter: drop-shadow(0px 1px 2px rgba(0, 0, 0, 0.3));\n",
              "      fill: #FFFFFF;\n",
              "    }\n",
              "  </style>\n",
              "\n",
              "    <script>\n",
              "      const buttonEl =\n",
              "        document.querySelector('#df-81c52918-70ab-44f7-9003-d4dbbfd8967c button.colab-df-convert');\n",
              "      buttonEl.style.display =\n",
              "        google.colab.kernel.accessAllowed ? 'block' : 'none';\n",
              "\n",
              "      async function convertToInteractive(key) {\n",
              "        const element = document.querySelector('#df-81c52918-70ab-44f7-9003-d4dbbfd8967c');\n",
              "        const dataTable =\n",
              "          await google.colab.kernel.invokeFunction('convertToInteractive',\n",
              "                                                    [key], {});\n",
              "        if (!dataTable) return;\n",
              "\n",
              "        const docLinkHtml = 'Like what you see? Visit the ' +\n",
              "          '<a target=\"_blank\" href=https://colab.research.google.com/notebooks/data_table.ipynb>data table notebook</a>'\n",
              "          + ' to learn more about interactive tables.';\n",
              "        element.innerHTML = '';\n",
              "        dataTable['output_type'] = 'display_data';\n",
              "        await google.colab.output.renderOutput(dataTable, element);\n",
              "        const docLink = document.createElement('div');\n",
              "        docLink.innerHTML = docLinkHtml;\n",
              "        element.appendChild(docLink);\n",
              "      }\n",
              "    </script>\n",
              "  </div>\n",
              "\n",
              "\n",
              "<div id=\"df-98eb8340-7e0a-4c98-8073-15e5afc662cc\">\n",
              "  <button class=\"colab-df-quickchart\" onclick=\"quickchart('df-98eb8340-7e0a-4c98-8073-15e5afc662cc')\"\n",
              "            title=\"Suggest charts.\"\n",
              "            style=\"display:none;\">\n",
              "\n",
              "<svg xmlns=\"http://www.w3.org/2000/svg\" height=\"24px\"viewBox=\"0 0 24 24\"\n",
              "     width=\"24px\">\n",
              "    <g>\n",
              "        <path d=\"M19 3H5c-1.1 0-2 .9-2 2v14c0 1.1.9 2 2 2h14c1.1 0 2-.9 2-2V5c0-1.1-.9-2-2-2zM9 17H7v-7h2v7zm4 0h-2V7h2v10zm4 0h-2v-4h2v4z\"/>\n",
              "    </g>\n",
              "</svg>\n",
              "  </button>\n",
              "\n",
              "<style>\n",
              "  .colab-df-quickchart {\n",
              "      --bg-color: #E8F0FE;\n",
              "      --fill-color: #1967D2;\n",
              "      --hover-bg-color: #E2EBFA;\n",
              "      --hover-fill-color: #174EA6;\n",
              "      --disabled-fill-color: #AAA;\n",
              "      --disabled-bg-color: #DDD;\n",
              "  }\n",
              "\n",
              "  [theme=dark] .colab-df-quickchart {\n",
              "      --bg-color: #3B4455;\n",
              "      --fill-color: #D2E3FC;\n",
              "      --hover-bg-color: #434B5C;\n",
              "      --hover-fill-color: #FFFFFF;\n",
              "      --disabled-bg-color: #3B4455;\n",
              "      --disabled-fill-color: #666;\n",
              "  }\n",
              "\n",
              "  .colab-df-quickchart {\n",
              "    background-color: var(--bg-color);\n",
              "    border: none;\n",
              "    border-radius: 50%;\n",
              "    cursor: pointer;\n",
              "    display: none;\n",
              "    fill: var(--fill-color);\n",
              "    height: 32px;\n",
              "    padding: 0;\n",
              "    width: 32px;\n",
              "  }\n",
              "\n",
              "  .colab-df-quickchart:hover {\n",
              "    background-color: var(--hover-bg-color);\n",
              "    box-shadow: 0 1px 2px rgba(60, 64, 67, 0.3), 0 1px 3px 1px rgba(60, 64, 67, 0.15);\n",
              "    fill: var(--button-hover-fill-color);\n",
              "  }\n",
              "\n",
              "  .colab-df-quickchart-complete:disabled,\n",
              "  .colab-df-quickchart-complete:disabled:hover {\n",
              "    background-color: var(--disabled-bg-color);\n",
              "    fill: var(--disabled-fill-color);\n",
              "    box-shadow: none;\n",
              "  }\n",
              "\n",
              "  .colab-df-spinner {\n",
              "    border: 2px solid var(--fill-color);\n",
              "    border-color: transparent;\n",
              "    border-bottom-color: var(--fill-color);\n",
              "    animation:\n",
              "      spin 1s steps(1) infinite;\n",
              "  }\n",
              "\n",
              "  @keyframes spin {\n",
              "    0% {\n",
              "      border-color: transparent;\n",
              "      border-bottom-color: var(--fill-color);\n",
              "      border-left-color: var(--fill-color);\n",
              "    }\n",
              "    20% {\n",
              "      border-color: transparent;\n",
              "      border-left-color: var(--fill-color);\n",
              "      border-top-color: var(--fill-color);\n",
              "    }\n",
              "    30% {\n",
              "      border-color: transparent;\n",
              "      border-left-color: var(--fill-color);\n",
              "      border-top-color: var(--fill-color);\n",
              "      border-right-color: var(--fill-color);\n",
              "    }\n",
              "    40% {\n",
              "      border-color: transparent;\n",
              "      border-right-color: var(--fill-color);\n",
              "      border-top-color: var(--fill-color);\n",
              "    }\n",
              "    60% {\n",
              "      border-color: transparent;\n",
              "      border-right-color: var(--fill-color);\n",
              "    }\n",
              "    80% {\n",
              "      border-color: transparent;\n",
              "      border-right-color: var(--fill-color);\n",
              "      border-bottom-color: var(--fill-color);\n",
              "    }\n",
              "    90% {\n",
              "      border-color: transparent;\n",
              "      border-bottom-color: var(--fill-color);\n",
              "    }\n",
              "  }\n",
              "</style>\n",
              "\n",
              "  <script>\n",
              "    async function quickchart(key) {\n",
              "      const quickchartButtonEl =\n",
              "        document.querySelector('#' + key + ' button');\n",
              "      quickchartButtonEl.disabled = true;  // To prevent multiple clicks.\n",
              "      quickchartButtonEl.classList.add('colab-df-spinner');\n",
              "      try {\n",
              "        const charts = await google.colab.kernel.invokeFunction(\n",
              "            'suggestCharts', [key], {});\n",
              "      } catch (error) {\n",
              "        console.error('Error during call to suggestCharts:', error);\n",
              "      }\n",
              "      quickchartButtonEl.classList.remove('colab-df-spinner');\n",
              "      quickchartButtonEl.classList.add('colab-df-quickchart-complete');\n",
              "    }\n",
              "    (() => {\n",
              "      let quickchartButtonEl =\n",
              "        document.querySelector('#df-98eb8340-7e0a-4c98-8073-15e5afc662cc button');\n",
              "      quickchartButtonEl.style.display =\n",
              "        google.colab.kernel.accessAllowed ? 'block' : 'none';\n",
              "    })();\n",
              "  </script>\n",
              "</div>\n",
              "    </div>\n",
              "  </div>\n"
            ]
          },
          "metadata": {},
          "execution_count": 3
        }
      ]
    },
    {
      "cell_type": "markdown",
      "source": [
        "# Se importa el archivo \"data_filtrada.parquet\" que posee un gran conjunto de palabras útiles para entrenar el modelo"
      ],
      "metadata": {
        "id": "hvotsQtP2FOJ"
      }
    },
    {
      "cell_type": "code",
      "execution_count": 4,
      "metadata": {
        "id": "QplMcjSAbt3G"
      },
      "outputs": [],
      "source": [
        "meta_1=pd.read_parquet(\"data_filtrada.parquet\")"
      ]
    },
    {
      "cell_type": "markdown",
      "source": [
        "# Se guardan las categorías únicas"
      ],
      "metadata": {
        "id": "iRQvyDdkU9HT"
      }
    },
    {
      "cell_type": "code",
      "source": [
        "categorias_existentes = meta_1['category'].unique()"
      ],
      "metadata": {
        "id": "PMFApVNYsBb3"
      },
      "execution_count": 5,
      "outputs": []
    },
    {
      "cell_type": "markdown",
      "source": [
        "# Se utiliza el algoritmo KernelDensity que busca la densidad en la coordenadas de los restaurantes"
      ],
      "metadata": {
        "id": "b_AtIFEZdJ4M"
      }
    },
    {
      "cell_type": "code",
      "source": [
        "# Se obtienen las coordenadas de todos los restaurantes\n",
        "coordenadas = meta[['latitude', 'longitude']].values\n",
        "\n",
        "# Se inicializa el modelo de Kernel Density Estimation (KDE)\n",
        "kde = KernelDensity(bandwidth=0.01, metric='haversine')\n",
        "\n",
        "# Se ajusta el modelo a las coordenadas de los restaurantes\n",
        "kde.fit(np.radians(coordenadas))\n",
        "\n",
        "# Se calcula las densidades para todas las coordenadas de los restaurantes\n",
        "densidades = kde.score_samples(np.radians(coordenadas))\n",
        "\n",
        "# Se agregan la columna de densidad al DataFrame \"meta\"\n",
        "meta['densidad'] = densidades\n"
      ],
      "metadata": {
        "id": "NC_FStdXb1Xd"
      },
      "execution_count": 6,
      "outputs": []
    },
    {
      "cell_type": "markdown",
      "source": [
        "# Se muestran las categorías del dataset"
      ],
      "metadata": {
        "id": "S1iytctXXKop"
      }
    },
    {
      "cell_type": "code",
      "source": [
        "categorias_existentes"
      ],
      "metadata": {
        "id": "Xh25v2MO1Cdr",
        "colab": {
          "base_uri": "https://localhost:8080/"
        },
        "outputId": "00c1200a-12e4-40ae-81d9-b18b54a34c6a"
      },
      "execution_count": 7,
      "outputs": [
        {
          "output_type": "execute_result",
          "data": {
            "text/plain": [
              "array(['Korean restaurant', 'Restaurant',\n",
              "       'Bakery, Health food restaurant', ...,\n",
              "       'Bar & grill, Convenience store, Lottery retailer, Pizza delivery, Propane supplier, Sandwich shop',\n",
              "       'Brazilian restaurant, Bistro, Brazilian pastelaria, Diner, Fast food restaurant, Pub, Restaurant',\n",
              "       'Mexican restaurant, Bar, Pub, Restaurant'], dtype=object)"
            ]
          },
          "metadata": {},
          "execution_count": 7
        }
      ]
    },
    {
      "cell_type": "markdown",
      "source": [
        "#Se cambia el formato de la columna \"avg_rating\" a numérico"
      ],
      "metadata": {
        "id": "_B5a6VqePPwP"
      }
    },
    {
      "cell_type": "code",
      "source": [
        "meta['avg_rating'] = pd.to_numeric(meta['avg_rating'], errors='coerce')\n"
      ],
      "metadata": {
        "id": "bVZyPMJXPV93"
      },
      "execution_count": 8,
      "outputs": []
    },
    {
      "cell_type": "markdown",
      "source": [
        "# Se entrena un modelo de búsqueda de palabras similares llamado Word2Vec"
      ],
      "metadata": {
        "id": "CYFaDidCTKym"
      }
    },
    {
      "cell_type": "code",
      "source": [
        "# Primer conjunto  de datos (categorias_tokenizadas)\n",
        "categorias_limpio = [re.sub(r'[^\\w\\s]', '', category) for category in categorias_existentes]\n",
        "categorias_tokenizadas = [word_tokenize(category) for category in categorias_limpio]\n",
        "\n",
        "# Se convierte el segundo conjunto de datos en una lista de listas de tokens\n",
        "#cat_tokenizadas = [word_tokenize(category) for category in cat]\n",
        "\n",
        "# Se combinan ambas listas de listas de tokens\n",
        "#todos_tokens = categorias_tokenizadas\n",
        "\n",
        "# Se entrena el modelo Word2Vec en todos los tokens\n",
        "model = Word2Vec(categorias_tokenizadas, vector_size=300, window=5, min_count=5, sg=0)\n"
      ],
      "metadata": {
        "id": "F_AeZIOQTJ4M"
      },
      "execution_count": 9,
      "outputs": []
    },
    {
      "cell_type": "markdown",
      "source": [
        "# Se guarda el modelo entrenado con el dataset"
      ],
      "metadata": {
        "id": "5d1bIWshVKO6"
      }
    },
    {
      "cell_type": "code",
      "source": [
        "model.save(\"modelo_word2vec.bin\")"
      ],
      "metadata": {
        "id": "ucBwqc_uRcpn"
      },
      "execution_count": 10,
      "outputs": []
    },
    {
      "cell_type": "markdown",
      "source": [
        "# Se prueba el algoritmo entrenado"
      ],
      "metadata": {
        "id": "q_HROv6MTZC3"
      }
    },
    {
      "cell_type": "code",
      "source": [
        "# Se obtiene la palabra ingresada por el usuario\n",
        "palabra = input(\"Ingresa una palabra: \")\n",
        "\n",
        "# Se limpia la palabra ingresada por el usuario\n",
        "palabra = re.sub(r'[^\\w\\s]', '', palabra)\n",
        "\n",
        "# Se entrena la palabra más cercana según la similitud del coseno\n",
        "try:\n",
        "    palabra_similar, similaridad = model.wv.most_similar(palabra, topn=1)[0]\n",
        "    print(f\"La palabra más cercana a '{palabra}' es '{palabra_similar}' con una similitud de coseno de {similaridad:.2f}\")\n",
        "\n",
        "    # Se filtra las categorías que contienen la palabra similar\n",
        "    categorias_con_palabra = [categoria for categoria in categorias_existentes if palabra_similar in categoria]\n",
        "\n",
        "    # Se filtra el DataFrame 'meta' por las categorías encontradas\n",
        "    meta_filtro = meta[meta['category'].isin(categorias_con_palabra)]\n",
        "\n",
        "    # También se filtra por restaurantes que contengan la palabra buscada en la columna 'category'\n",
        "    restaurantes_con_palabra = meta[meta['category'].str.contains(palabra, case=False)]\n",
        "    meta_filtro = pd.concat([meta_filtro, restaurantes_con_palabra])\n",
        "\n",
        "except KeyError:\n",
        "    print(f\"'{palabra}' no se ha logrado encontrar alguna asociación con la palabra ingresada.\")\n",
        "\n"
      ],
      "metadata": {
        "id": "sopimuIN-uTg",
        "colab": {
          "base_uri": "https://localhost:8080/"
        },
        "outputId": "8495c3a0-3b9f-4242-bb08-38f3098e44b9"
      },
      "execution_count": 59,
      "outputs": [
        {
          "output_type": "stream",
          "name": "stdout",
          "text": [
            "Ingresa una palabra: Mexican\n",
            "La palabra más cercana a 'Mexican' es 'Taco' con una similitud de coseno de 0.87\n"
          ]
        }
      ]
    },
    {
      "cell_type": "markdown",
      "source": [
        "## Se utiliza el algoritmo entrenado para mostrar los restaurantes más recomendados, utilizando la optimización de una suma ponderada, que vincula las características \"densidad\" \"puntaje\" y \"número de reviews\" con el metodo del descenso del gradiente"
      ],
      "metadata": {
        "id": "JuF98vCY-vgm"
      }
    },
    {
      "cell_type": "markdown",
      "source": [
        "# Función a optimizar:"
      ],
      "metadata": {
        "id": "r-RKm5zV7lg0"
      }
    },
    {
      "cell_type": "markdown",
      "source": [
        "### puntuación restaurante = peso_puntaje * puntaje_normalizado + peso_densidad * densidad_normalizada + peso_nºreviews * nº_reviews_normalizado"
      ],
      "metadata": {
        "id": "Ov3apOGl6_3q"
      }
    },
    {
      "cell_type": "code",
      "source": [
        "# Pesos en el rango [0, 1]\n",
        "initial_weights = [0.25, 0.25, 0.25]  # Valores iniciales de los pesos\n",
        "\n",
        "# Se normalizan las columnas de puntuación, densidad y número de revisiones entre 0 y 1\n",
        "scaler = MinMaxScaler()\n",
        "meta_filtro['puntaje_normalizado'] = scaler.fit_transform(meta_filtro[['avg_rating']])\n",
        "meta_filtro['densidad_normalizada'] = scaler.fit_transform(meta_filtro[['densidad']])\n",
        "meta_filtro['num_of_reviews_normalizado'] = scaler.fit_transform(meta_filtro[['num_of_reviews']])\n",
        "\n",
        "# Se define la función objetivo para minimizar\n",
        "def objective_function(weights):\n",
        "    puntuacion_restaurante = (\n",
        "        weights[0] * meta_filtro['densidad_normalizada'] +\n",
        "        weights[1] * meta_filtro['puntaje_normalizado'] +\n",
        "        weights[2] * meta_filtro['num_of_reviews_normalizado']\n",
        "    )\n",
        "    return -puntuacion_restaurante.sum()\n",
        "\n",
        "# Devuelve la suma negativa de la puntuación total que es equivalente que es equivalente a haber buscado la suma maxima positiva\n",
        "\n",
        "# Se definen las restricciones de los pesos (en este caso, todos estánr entre 0 y 1)\n",
        "constraints = [{'type': 'ineq', 'fun': lambda w: w[i]} for i in range(len(initial_weights))]\n",
        "\n",
        "# Se optimizan los pesos usando el algoritmo de Descenso del Gradiente\n",
        "result = minimize(objective_function, initial_weights, constraints=constraints)\n",
        "\n",
        "# Se obtienen los pesos optimizados\n",
        "optimized_weights = result.x\n",
        "\n",
        "# Se calcula la puntuacion_restaurante con los pesos optimizados\n",
        "meta_filtro['puntuacion_restaurante'] = (\n",
        "    optimized_weights[0] * meta_filtro['densidad_normalizada'] +\n",
        "    optimized_weights[1] * meta_filtro['puntaje_normalizado'] +\n",
        "    optimized_weights[2] * meta_filtro['num_of_reviews_normalizado']\n",
        ")\n",
        "\n",
        "# Ordena el DataFrame en función de la puntuación restaurante en orden decreciente\n",
        "meta_ordenado = meta_filtro.sort_values(by='puntuacion_restaurante', ascending=False)"
      ],
      "metadata": {
        "id": "bM1r7rnPxN24"
      },
      "execution_count": 60,
      "outputs": []
    },
    {
      "cell_type": "code",
      "source": [
        "meta_ordenado[[\"local_name\",\"category\",\"densidad_normalizada\"]].head(15)"
      ],
      "metadata": {
        "colab": {
          "base_uri": "https://localhost:8080/",
          "height": 520
        },
        "id": "65DgB6sk0liy",
        "outputId": "a1ebab56-836a-4398-d32a-eeaac99767af"
      },
      "execution_count": 70,
      "outputs": [
        {
          "output_type": "execute_result",
          "data": {
            "text/plain": [
              "                          local_name            category  densidad_normalizada\n",
              "508      El King Taqueria Food Truck  Mexican restaurant              0.999969\n",
              "1316                       El Coyote  Mexican restaurant              0.999488\n",
              "506               El Patio De Mexico  Mexican restaurant              0.999361\n",
              "509   Bad Hombres Mexican Restaurant  Mexican restaurant              0.998392\n",
              "531      Antojitos Mexicanos Tenorio  Mexican restaurant              0.994297\n",
              "523               EL CAMION DEL TACO  Mexican restaurant              0.998068\n",
              "1321                       Taco Tacu  Mexican restaurant              1.000000\n",
              "528              Mexico1810 Taqueria  Mexican restaurant              0.999833\n",
              "515   Tacos & Tattoos Lincolns Beard  Mexican restaurant              0.998838\n",
              "1314        Pilo's Street Tacos SoBe  Mexican restaurant              0.997800\n",
              "1330        Ayaleros Tex Mex Cuisine  Mexican restaurant              0.996236\n",
              "529           Taqueria los Jalapenos  Mexican restaurant              0.994752\n",
              "1323                    Twice butter  Mexican restaurant              0.999498\n",
              "513                      Mister Taco  Mexican restaurant              0.999257\n",
              "518                   Maya'mi Cocina  Mexican restaurant              0.999220"
            ],
            "text/html": [
              "\n",
              "  <div id=\"df-28cac877-795d-42e0-a299-789fac7b519f\" class=\"colab-df-container\">\n",
              "    <div>\n",
              "<style scoped>\n",
              "    .dataframe tbody tr th:only-of-type {\n",
              "        vertical-align: middle;\n",
              "    }\n",
              "\n",
              "    .dataframe tbody tr th {\n",
              "        vertical-align: top;\n",
              "    }\n",
              "\n",
              "    .dataframe thead th {\n",
              "        text-align: right;\n",
              "    }\n",
              "</style>\n",
              "<table border=\"1\" class=\"dataframe\">\n",
              "  <thead>\n",
              "    <tr style=\"text-align: right;\">\n",
              "      <th></th>\n",
              "      <th>local_name</th>\n",
              "      <th>category</th>\n",
              "      <th>densidad_normalizada</th>\n",
              "    </tr>\n",
              "  </thead>\n",
              "  <tbody>\n",
              "    <tr>\n",
              "      <th>508</th>\n",
              "      <td>El King Taqueria Food Truck</td>\n",
              "      <td>Mexican restaurant</td>\n",
              "      <td>0.999969</td>\n",
              "    </tr>\n",
              "    <tr>\n",
              "      <th>1316</th>\n",
              "      <td>El Coyote</td>\n",
              "      <td>Mexican restaurant</td>\n",
              "      <td>0.999488</td>\n",
              "    </tr>\n",
              "    <tr>\n",
              "      <th>506</th>\n",
              "      <td>El Patio De Mexico</td>\n",
              "      <td>Mexican restaurant</td>\n",
              "      <td>0.999361</td>\n",
              "    </tr>\n",
              "    <tr>\n",
              "      <th>509</th>\n",
              "      <td>Bad Hombres Mexican Restaurant</td>\n",
              "      <td>Mexican restaurant</td>\n",
              "      <td>0.998392</td>\n",
              "    </tr>\n",
              "    <tr>\n",
              "      <th>531</th>\n",
              "      <td>Antojitos Mexicanos Tenorio</td>\n",
              "      <td>Mexican restaurant</td>\n",
              "      <td>0.994297</td>\n",
              "    </tr>\n",
              "    <tr>\n",
              "      <th>523</th>\n",
              "      <td>EL CAMION DEL TACO</td>\n",
              "      <td>Mexican restaurant</td>\n",
              "      <td>0.998068</td>\n",
              "    </tr>\n",
              "    <tr>\n",
              "      <th>1321</th>\n",
              "      <td>Taco Tacu</td>\n",
              "      <td>Mexican restaurant</td>\n",
              "      <td>1.000000</td>\n",
              "    </tr>\n",
              "    <tr>\n",
              "      <th>528</th>\n",
              "      <td>Mexico1810 Taqueria</td>\n",
              "      <td>Mexican restaurant</td>\n",
              "      <td>0.999833</td>\n",
              "    </tr>\n",
              "    <tr>\n",
              "      <th>515</th>\n",
              "      <td>Tacos &amp; Tattoos Lincolns Beard</td>\n",
              "      <td>Mexican restaurant</td>\n",
              "      <td>0.998838</td>\n",
              "    </tr>\n",
              "    <tr>\n",
              "      <th>1314</th>\n",
              "      <td>Pilo's Street Tacos SoBe</td>\n",
              "      <td>Mexican restaurant</td>\n",
              "      <td>0.997800</td>\n",
              "    </tr>\n",
              "    <tr>\n",
              "      <th>1330</th>\n",
              "      <td>Ayaleros Tex Mex Cuisine</td>\n",
              "      <td>Mexican restaurant</td>\n",
              "      <td>0.996236</td>\n",
              "    </tr>\n",
              "    <tr>\n",
              "      <th>529</th>\n",
              "      <td>Taqueria los Jalapenos</td>\n",
              "      <td>Mexican restaurant</td>\n",
              "      <td>0.994752</td>\n",
              "    </tr>\n",
              "    <tr>\n",
              "      <th>1323</th>\n",
              "      <td>Twice butter</td>\n",
              "      <td>Mexican restaurant</td>\n",
              "      <td>0.999498</td>\n",
              "    </tr>\n",
              "    <tr>\n",
              "      <th>513</th>\n",
              "      <td>Mister Taco</td>\n",
              "      <td>Mexican restaurant</td>\n",
              "      <td>0.999257</td>\n",
              "    </tr>\n",
              "    <tr>\n",
              "      <th>518</th>\n",
              "      <td>Maya'mi Cocina</td>\n",
              "      <td>Mexican restaurant</td>\n",
              "      <td>0.999220</td>\n",
              "    </tr>\n",
              "  </tbody>\n",
              "</table>\n",
              "</div>\n",
              "    <div class=\"colab-df-buttons\">\n",
              "\n",
              "  <div class=\"colab-df-container\">\n",
              "    <button class=\"colab-df-convert\" onclick=\"convertToInteractive('df-28cac877-795d-42e0-a299-789fac7b519f')\"\n",
              "            title=\"Convert this dataframe to an interactive table.\"\n",
              "            style=\"display:none;\">\n",
              "\n",
              "  <svg xmlns=\"http://www.w3.org/2000/svg\" height=\"24px\" viewBox=\"0 -960 960 960\">\n",
              "    <path d=\"M120-120v-720h720v720H120Zm60-500h600v-160H180v160Zm220 220h160v-160H400v160Zm0 220h160v-160H400v160ZM180-400h160v-160H180v160Zm440 0h160v-160H620v160ZM180-180h160v-160H180v160Zm440 0h160v-160H620v160Z\"/>\n",
              "  </svg>\n",
              "    </button>\n",
              "\n",
              "  <style>\n",
              "    .colab-df-container {\n",
              "      display:flex;\n",
              "      gap: 12px;\n",
              "    }\n",
              "\n",
              "    .colab-df-convert {\n",
              "      background-color: #E8F0FE;\n",
              "      border: none;\n",
              "      border-radius: 50%;\n",
              "      cursor: pointer;\n",
              "      display: none;\n",
              "      fill: #1967D2;\n",
              "      height: 32px;\n",
              "      padding: 0 0 0 0;\n",
              "      width: 32px;\n",
              "    }\n",
              "\n",
              "    .colab-df-convert:hover {\n",
              "      background-color: #E2EBFA;\n",
              "      box-shadow: 0px 1px 2px rgba(60, 64, 67, 0.3), 0px 1px 3px 1px rgba(60, 64, 67, 0.15);\n",
              "      fill: #174EA6;\n",
              "    }\n",
              "\n",
              "    .colab-df-buttons div {\n",
              "      margin-bottom: 4px;\n",
              "    }\n",
              "\n",
              "    [theme=dark] .colab-df-convert {\n",
              "      background-color: #3B4455;\n",
              "      fill: #D2E3FC;\n",
              "    }\n",
              "\n",
              "    [theme=dark] .colab-df-convert:hover {\n",
              "      background-color: #434B5C;\n",
              "      box-shadow: 0px 1px 3px 1px rgba(0, 0, 0, 0.15);\n",
              "      filter: drop-shadow(0px 1px 2px rgba(0, 0, 0, 0.3));\n",
              "      fill: #FFFFFF;\n",
              "    }\n",
              "  </style>\n",
              "\n",
              "    <script>\n",
              "      const buttonEl =\n",
              "        document.querySelector('#df-28cac877-795d-42e0-a299-789fac7b519f button.colab-df-convert');\n",
              "      buttonEl.style.display =\n",
              "        google.colab.kernel.accessAllowed ? 'block' : 'none';\n",
              "\n",
              "      async function convertToInteractive(key) {\n",
              "        const element = document.querySelector('#df-28cac877-795d-42e0-a299-789fac7b519f');\n",
              "        const dataTable =\n",
              "          await google.colab.kernel.invokeFunction('convertToInteractive',\n",
              "                                                    [key], {});\n",
              "        if (!dataTable) return;\n",
              "\n",
              "        const docLinkHtml = 'Like what you see? Visit the ' +\n",
              "          '<a target=\"_blank\" href=https://colab.research.google.com/notebooks/data_table.ipynb>data table notebook</a>'\n",
              "          + ' to learn more about interactive tables.';\n",
              "        element.innerHTML = '';\n",
              "        dataTable['output_type'] = 'display_data';\n",
              "        await google.colab.output.renderOutput(dataTable, element);\n",
              "        const docLink = document.createElement('div');\n",
              "        docLink.innerHTML = docLinkHtml;\n",
              "        element.appendChild(docLink);\n",
              "      }\n",
              "    </script>\n",
              "  </div>\n",
              "\n",
              "\n",
              "<div id=\"df-dd81f265-e38e-4517-ba0b-9f1119d6a4f7\">\n",
              "  <button class=\"colab-df-quickchart\" onclick=\"quickchart('df-dd81f265-e38e-4517-ba0b-9f1119d6a4f7')\"\n",
              "            title=\"Suggest charts.\"\n",
              "            style=\"display:none;\">\n",
              "\n",
              "<svg xmlns=\"http://www.w3.org/2000/svg\" height=\"24px\"viewBox=\"0 0 24 24\"\n",
              "     width=\"24px\">\n",
              "    <g>\n",
              "        <path d=\"M19 3H5c-1.1 0-2 .9-2 2v14c0 1.1.9 2 2 2h14c1.1 0 2-.9 2-2V5c0-1.1-.9-2-2-2zM9 17H7v-7h2v7zm4 0h-2V7h2v10zm4 0h-2v-4h2v4z\"/>\n",
              "    </g>\n",
              "</svg>\n",
              "  </button>\n",
              "\n",
              "<style>\n",
              "  .colab-df-quickchart {\n",
              "      --bg-color: #E8F0FE;\n",
              "      --fill-color: #1967D2;\n",
              "      --hover-bg-color: #E2EBFA;\n",
              "      --hover-fill-color: #174EA6;\n",
              "      --disabled-fill-color: #AAA;\n",
              "      --disabled-bg-color: #DDD;\n",
              "  }\n",
              "\n",
              "  [theme=dark] .colab-df-quickchart {\n",
              "      --bg-color: #3B4455;\n",
              "      --fill-color: #D2E3FC;\n",
              "      --hover-bg-color: #434B5C;\n",
              "      --hover-fill-color: #FFFFFF;\n",
              "      --disabled-bg-color: #3B4455;\n",
              "      --disabled-fill-color: #666;\n",
              "  }\n",
              "\n",
              "  .colab-df-quickchart {\n",
              "    background-color: var(--bg-color);\n",
              "    border: none;\n",
              "    border-radius: 50%;\n",
              "    cursor: pointer;\n",
              "    display: none;\n",
              "    fill: var(--fill-color);\n",
              "    height: 32px;\n",
              "    padding: 0;\n",
              "    width: 32px;\n",
              "  }\n",
              "\n",
              "  .colab-df-quickchart:hover {\n",
              "    background-color: var(--hover-bg-color);\n",
              "    box-shadow: 0 1px 2px rgba(60, 64, 67, 0.3), 0 1px 3px 1px rgba(60, 64, 67, 0.15);\n",
              "    fill: var(--button-hover-fill-color);\n",
              "  }\n",
              "\n",
              "  .colab-df-quickchart-complete:disabled,\n",
              "  .colab-df-quickchart-complete:disabled:hover {\n",
              "    background-color: var(--disabled-bg-color);\n",
              "    fill: var(--disabled-fill-color);\n",
              "    box-shadow: none;\n",
              "  }\n",
              "\n",
              "  .colab-df-spinner {\n",
              "    border: 2px solid var(--fill-color);\n",
              "    border-color: transparent;\n",
              "    border-bottom-color: var(--fill-color);\n",
              "    animation:\n",
              "      spin 1s steps(1) infinite;\n",
              "  }\n",
              "\n",
              "  @keyframes spin {\n",
              "    0% {\n",
              "      border-color: transparent;\n",
              "      border-bottom-color: var(--fill-color);\n",
              "      border-left-color: var(--fill-color);\n",
              "    }\n",
              "    20% {\n",
              "      border-color: transparent;\n",
              "      border-left-color: var(--fill-color);\n",
              "      border-top-color: var(--fill-color);\n",
              "    }\n",
              "    30% {\n",
              "      border-color: transparent;\n",
              "      border-left-color: var(--fill-color);\n",
              "      border-top-color: var(--fill-color);\n",
              "      border-right-color: var(--fill-color);\n",
              "    }\n",
              "    40% {\n",
              "      border-color: transparent;\n",
              "      border-right-color: var(--fill-color);\n",
              "      border-top-color: var(--fill-color);\n",
              "    }\n",
              "    60% {\n",
              "      border-color: transparent;\n",
              "      border-right-color: var(--fill-color);\n",
              "    }\n",
              "    80% {\n",
              "      border-color: transparent;\n",
              "      border-right-color: var(--fill-color);\n",
              "      border-bottom-color: var(--fill-color);\n",
              "    }\n",
              "    90% {\n",
              "      border-color: transparent;\n",
              "      border-bottom-color: var(--fill-color);\n",
              "    }\n",
              "  }\n",
              "</style>\n",
              "\n",
              "  <script>\n",
              "    async function quickchart(key) {\n",
              "      const quickchartButtonEl =\n",
              "        document.querySelector('#' + key + ' button');\n",
              "      quickchartButtonEl.disabled = true;  // To prevent multiple clicks.\n",
              "      quickchartButtonEl.classList.add('colab-df-spinner');\n",
              "      try {\n",
              "        const charts = await google.colab.kernel.invokeFunction(\n",
              "            'suggestCharts', [key], {});\n",
              "      } catch (error) {\n",
              "        console.error('Error during call to suggestCharts:', error);\n",
              "      }\n",
              "      quickchartButtonEl.classList.remove('colab-df-spinner');\n",
              "      quickchartButtonEl.classList.add('colab-df-quickchart-complete');\n",
              "    }\n",
              "    (() => {\n",
              "      let quickchartButtonEl =\n",
              "        document.querySelector('#df-dd81f265-e38e-4517-ba0b-9f1119d6a4f7 button');\n",
              "      quickchartButtonEl.style.display =\n",
              "        google.colab.kernel.accessAllowed ? 'block' : 'none';\n",
              "    })();\n",
              "  </script>\n",
              "</div>\n",
              "    </div>\n",
              "  </div>\n"
            ]
          },
          "metadata": {},
          "execution_count": 70
        }
      ]
    },
    {
      "cell_type": "markdown",
      "source": [
        "# Se muestra el orden de importancia para cada característica"
      ],
      "metadata": {
        "id": "qdMzS6dIdcmB"
      }
    },
    {
      "cell_type": "code",
      "source": [
        "# Nombres de las características correspondientes\n",
        "nombres = ['densidad', 'puntaje_normalizado', 'num_of_reviews']\n",
        "\n",
        "# Crea un diccionario que asocie las características con sus pesos optimizados\n",
        "dic = {nombres[i]: optimized_weights[i] for i in range(len(nombres))}\n",
        "\n",
        "# Imprime el diccionario para ver el orden de importancia\n",
        "print(dic)"
      ],
      "metadata": {
        "colab": {
          "base_uri": "https://localhost:8080/"
        },
        "id": "8y4zXvusdijV",
        "outputId": "5fcd146f-ab9b-4235-eaf0-1d2d75e43635"
      },
      "execution_count": 62,
      "outputs": [
        {
          "output_type": "stream",
          "name": "stdout",
          "text": [
            "{'densidad': 4.776809576943819e+33, 'puntaje_normalizado': 3.967258462458615e+33, 'num_of_reviews': 2.6267439151503403e+32}\n"
          ]
        }
      ]
    },
    {
      "cell_type": "markdown",
      "source": [
        "# Es importante observar como el orden de iportancia de las características varía de acuerdo a la elección de palabra hecha por el usuario"
      ],
      "metadata": {
        "id": "ar8pl5p61ATW"
      }
    },
    {
      "cell_type": "markdown",
      "source": [
        "# Se corrobora la independencia de las características utilizadas. Esto es importante para descartar características que puedan estar de más y sesgar el modelo"
      ],
      "metadata": {
        "id": "Qn9hBNKOdrXT"
      }
    },
    {
      "cell_type": "code",
      "source": [
        "# Se calcula la matriz de correlación\n",
        "corr = meta_filtro[['densidad', 'puntaje_normalizado', 'num_of_reviews_normalizado']].corr()\n",
        "\n",
        "# Se crea un mapa de calor (heatmap) para visualizar la matriz de correlación\n",
        "plt.figure(figsize=(8, 6))\n",
        "sns.heatmap(corr, annot=True, cmap='coolwarm', linewidths=0.5)\n",
        "plt.title('Matriz de Correlación')\n",
        "plt.show()"
      ],
      "metadata": {
        "colab": {
          "base_uri": "https://localhost:8080/",
          "height": 735
        },
        "id": "OYM1juJCdvC1",
        "outputId": "035bfacc-32af-41e0-85cf-98c5e141b925"
      },
      "execution_count": 63,
      "outputs": [
        {
          "output_type": "display_data",
          "data": {
            "text/plain": [
              "<Figure size 800x600 with 2 Axes>"
            ],
            "image/png": "[encoded data removed]"
          },
          "metadata": {}
        }
      ]
    },
    {
      "cell_type": "markdown",
      "source": [
        "# Se observa la correlación entre la puntuación de los restaurantes filtrados y cada característica usada"
      ],
      "metadata": {
        "id": "SZkROWR56mFL"
      }
    },
    {
      "cell_type": "code",
      "source": [
        "# Calcula las correlaciones entre \"puntuacion_restaurante\" y las tres columnas normalizadas\n",
        "correlation_puntaje = meta_filtro['puntuacion_restaurante'].corr(meta_filtro['puntaje_normalizado'])\n",
        "correlation_densidad = meta_filtro['puntuacion_restaurante'].corr(meta_filtro['densidad_normalizada'])\n",
        "correlation_reviews = meta_filtro['puntuacion_restaurante'].corr(meta_filtro['num_of_reviews_normalizado'])\n",
        "\n",
        "print(f\"Correlación entre Puntuación del Restaurante y Puntaje Normalizado: {correlation_puntaje}\")\n",
        "print(f\"Correlación entre Puntuación del Restaurante y Densidad Normalizada: {correlation_densidad}\")\n",
        "print(f\"Correlación entre Puntuación del Restaurante y Número de Reseñas Normalizado: {correlation_reviews}\")\n"
      ],
      "metadata": {
        "colab": {
          "base_uri": "https://localhost:8080/"
        },
        "id": "55_YQE-YcAsK",
        "outputId": "17533d8e-362c-4172-ba04-c76efb32bc08"
      },
      "execution_count": 64,
      "outputs": [
        {
          "output_type": "stream",
          "name": "stdout",
          "text": [
            "Correlación entre Puntuación del Restaurante y Puntaje Normalizado: 0.5949522212067971\n",
            "Correlación entre Puntuación del Restaurante y Densidad Normalizada: 0.7875742654897403\n",
            "Correlación entre Puntuación del Restaurante y Número de Reseñas Normalizado: 0.005925359078183116\n"
          ]
        }
      ]
    },
    {
      "cell_type": "markdown",
      "source": [
        "# Se Una vez que el usuario seleccionó el restaurante que quiere examinar, se buscan los que están alrededor de este"
      ],
      "metadata": {
        "id": "3YPD21utYLyF"
      }
    },
    {
      "cell_type": "code",
      "source": [
        "from geopy.distance import geodesic\n",
        "\n",
        "# Se ingresa la entrada del usuario\n",
        "nombre_ingresado = input(\"Ingrese el nombre del lugar: \")\n",
        "\n",
        "# Se filtran los datos para obtener solo los restaurantes dentro del radio de 500 metros\n",
        "restaurantes_cercanos = meta_2.copy()\n",
        "\n",
        "# Se definen las coordenadas del lugar ingresado por el usuario\n",
        "latitud_usuario = restaurantes_cercanos[restaurantes_cercanos['local_name'] == nombre_ingresado]['latitude'].iloc[0]\n",
        "longitud_usuario = restaurantes_cercanos[restaurantes_cercanos['local_name'] == nombre_ingresado]['longitude'].iloc[0]\n",
        "\n",
        "# Se calcula la distancia (euclidiana, las distancias son cortas) a cada restaurante en metros y agregarla como una nueva columna\n",
        "restaurantes_cercanos['Distancia (m)'] = restaurantes_cercanos.apply(\n",
        "    lambda row: geodesic((latitud_usuario, longitud_usuario), (row['latitude'], row['longitude'])).meters, axis=1\n",
        ")\n",
        "\n",
        "# Se convierte la distancia límite a un valor numérico (en metros)\n",
        "distancia_limite_metros = 500\n",
        "\n",
        "# Se filtran los restaurantes dentro del radio de 500 metros y con la misma categoría\n",
        "restaurantes_cercanos = restaurantes_cercanos[\n",
        "    (restaurantes_cercanos['Distancia (m)'] <= distancia_limite_metros)\n",
        "]\n",
        "\n",
        "# Se ordenan los restaurantes por distancia\n",
        "restaurantes_cercanos = restaurantes_cercanos.sort_values(by='Distancia (m)')\n",
        "\n"
      ],
      "metadata": {
        "colab": {
          "base_uri": "https://localhost:8080/"
        },
        "id": "HkJ44N2KcvW0",
        "outputId": "02dbf7ec-c353-4135-9f44-00e27b9d5c9c"
      },
      "execution_count": 68,
      "outputs": [
        {
          "name": "stdout",
          "output_type": "stream",
          "text": [
            "Ingrese el nombre del lugar: El Coyote\n"
          ]
        }
      ]
    },
    {
      "cell_type": "markdown",
      "source": [
        "# Se visualizan los resultados en una tabla"
      ],
      "metadata": {
        "id": "9CPXTcXWYntd"
      }
    },
    {
      "cell_type": "code",
      "source": [
        "columnas=[\"local_name\",\"category\",\"Distancia (m)\"]"
      ],
      "metadata": {
        "id": "QFkXfHb_VinL"
      },
      "execution_count": 66,
      "outputs": []
    },
    {
      "cell_type": "code",
      "source": [
        "restaurantes_cercanos[columnas]"
      ],
      "metadata": {
        "id": "C9pLOOmZT22f"
      },
      "execution_count": null,
      "outputs": []
    },
    {
      "cell_type": "markdown",
      "source": [
        "# Se genera un mapa para visualizar"
      ],
      "metadata": {
        "id": "Ao3BhNHvYqat"
      }
    },
    {
      "cell_type": "code",
      "source": [
        "# Se crea un mapa centrado en las coordenadas del usuario\n",
        "mapa = folium.Map(location=[latitud_usuario, longitud_usuario], zoom_start=15)\n",
        "\n",
        "# Se itera a través de los restaurantes cercanos y agrega marcadores rojos al mapa\n",
        "for index, restaurante in restaurantes_cercanos.iterrows():\n",
        "    folium.Marker(\n",
        "        location=[restaurante['latitude'], restaurante['longitude']],\n",
        "        popup=restaurante['local_name'],  # Puedes personalizar el contenido emergente\n",
        "        icon=folium.Icon(color='red')\n",
        "    ).add_to(mapa)\n",
        "\n",
        "# Se guarda el mapa como un archivo HTML\n",
        "mapa.save('restaurantes_cercanos_mapa.html')"
      ],
      "metadata": {
        "id": "rh6h4ZdMIgED"
      },
      "execution_count": 56,
      "outputs": []
    }
  ]
}
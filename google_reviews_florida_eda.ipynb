{
 "cells": [
  {
   "cell_type": "markdown",
   "metadata": {},
   "source": [
    "# Análisis ETL y Exploratorio de Datos de Google"
   ]
  },
  {
   "cell_type": "code",
   "execution_count": 7,
   "metadata": {},
   "outputs": [],
   "source": [
    "import pandas as pd\n",
    "import matplotlib.pyplot as plt\n",
    "import json\n",
    "import os\n",
    "import seaborn as sns\n",
    "from collections import Counter\n",
    "import numpy as np\n",
    "import warnings\n",
    "warnings.simplefilter(action='ignore', category=FutureWarning)\n"
   ]
  },
  {
   "cell_type": "markdown",
   "metadata": {},
   "source": [
    "En el contexto de la proyección creciente de la comida y cultura argentina a nivel global, especialmente en **Florida**, este proceso ETL (Extract, Transform, Load) combinado con un Análisis Exploratorio de Datos (EDA) tiene como objetivo analizar la viabilidad de aprovechar el impulso generado por eventos recientes, como la `victoria de Argentina en el Mundial 2022` y la presencia influyente de `Lionel Messi` en el equipo `Inter de Miami` y la confirmación de la sede en Estados Unidos del próximo `mundial 2026`. Utilizando una base de datos de reseñas de diversos locales de comida en Google, se pretende evaluar la percepción de la comida argentina en Florida, identificar patrones estacionales, analizar la relación con eventos clave y determinar la demanda potencial de la cultura argentina en esta región. Estos análisis brindarán una comprensión profunda que orientará la formulación de estrategias efectivas para aprovechar las oportunidades emergentes en este contexto específico."
   ]
  },
  {
   "cell_type": "markdown",
   "metadata": {},
   "source": [
    "----"
   ]
  },
  {
   "cell_type": "markdown",
   "metadata": {},
   "source": [
    "Recopilamos datos de reseñas de archivos JSON en la carpeta especificada y screamos dos columnas adicionales: `\"state\"` y `\"year\"`. La columna state almacena el nombre del estado correspondiente a los datos de reseñas y la columna year almacena el año en que se realizó la reseña. Estas columnas proporcionan información adicional que puede ser útil para el análisis posterior de los datos. Finalmente, el DataFrame resultante se guarda en formato Parquet con el nombre del estado en el archivo."
   ]
  },
  {
   "cell_type": "code",
   "execution_count": 8,
   "metadata": {},
   "outputs": [],
   "source": [
    "data = []\n",
    "\n",
    "# sólo cambiar el nombre de la carpeta\n",
    "carpeta = 'review-Florida'\n",
    "\n",
    "# toma el nombre del estado\n",
    "estado = carpeta.split('-')[1]\n",
    "\n",
    "contador = 1\n",
    "\n",
    "while os.path.exists(os.path.join(carpeta, f\"{contador}.json\")):\n",
    "    file_path = os.path.join(carpeta, f\"{contador}.json\")\n",
    "    \n",
    "    with open(file_path) as json_file:\n",
    "        for line in json_file:\n",
    "            data.append(json.loads(line))            \n",
    "    \n",
    "    contador += 1\n",
    "\n",
    "df = pd.DataFrame(data)\n",
    "\n",
    "# agrega una columna con el estado\n",
    "df['state'] = estado\n",
    "\n",
    "# convierte a formato de fecha y hora\n",
    "df['time'] = pd.to_datetime(df['time'], unit='ms')\n",
    "\n",
    "# crea una nueva columna 'year' con el año extraído\n",
    "df['year'] = df['time'].dt.year\n",
    "\n",
    "# guarda el DF en un archivo Parquet dentro de la carpeta data\n",
    "df.to_parquet(f\"review-{estado}.parquet\")"
   ]
  },
  {
   "cell_type": "markdown",
   "metadata": {},
   "source": [
    "----"
   ]
  },
  {
   "cell_type": "markdown",
   "metadata": {},
   "source": [
    "## Florida"
   ]
  },
  {
   "cell_type": "markdown",
   "metadata": {},
   "source": [
    "Convertimos el archivo parquet que contiene datos de reseñas de locales a un dataframe."
   ]
  },
  {
   "cell_type": "code",
   "execution_count": 9,
   "metadata": {},
   "outputs": [],
   "source": [
    "reviews = pd.read_parquet(\"review-Florida.parquet\")"
   ]
  },
  {
   "cell_type": "code",
   "execution_count": 10,
   "metadata": {},
   "outputs": [
    {
     "data": {
      "text/html": [
       "<div>\n",
       "<style scoped>\n",
       "    .dataframe tbody tr th:only-of-type {\n",
       "        vertical-align: middle;\n",
       "    }\n",
       "\n",
       "    .dataframe tbody tr th {\n",
       "        vertical-align: top;\n",
       "    }\n",
       "\n",
       "    .dataframe thead th {\n",
       "        text-align: right;\n",
       "    }\n",
       "</style>\n",
       "<table border=\"1\" class=\"dataframe\">\n",
       "  <thead>\n",
       "    <tr style=\"text-align: right;\">\n",
       "      <th></th>\n",
       "      <th>user_id</th>\n",
       "      <th>name</th>\n",
       "      <th>time</th>\n",
       "      <th>rating</th>\n",
       "      <th>text</th>\n",
       "      <th>pics</th>\n",
       "      <th>resp</th>\n",
       "      <th>gmap_id</th>\n",
       "      <th>state</th>\n",
       "      <th>year</th>\n",
       "    </tr>\n",
       "  </thead>\n",
       "  <tbody>\n",
       "    <tr>\n",
       "      <th>0</th>\n",
       "      <td>101471856155148729010</td>\n",
       "      <td>Julie A. Gerber</td>\n",
       "      <td>2021-08-03 15:07:30.740</td>\n",
       "      <td>1</td>\n",
       "      <td>Update: Their “reply” to my review amounted to...</td>\n",
       "      <td>None</td>\n",
       "      <td>{'text': 'Thank you for the feedback. We would...</td>\n",
       "      <td>0x8893863ea87bd5dd:0x9383ebf973e74abb</td>\n",
       "      <td>Florida</td>\n",
       "      <td>2021</td>\n",
       "    </tr>\n",
       "    <tr>\n",
       "      <th>1</th>\n",
       "      <td>115477234789038326051</td>\n",
       "      <td>Martin Sheffield</td>\n",
       "      <td>2020-07-18 00:13:37.005</td>\n",
       "      <td>5</td>\n",
       "      <td>He's a knowledgeable doctor but the way he run...</td>\n",
       "      <td>None</td>\n",
       "      <td>{'text': 'Thank you for reaching out. I’m forw...</td>\n",
       "      <td>0x8893863ea87bd5dd:0x9383ebf973e74abb</td>\n",
       "      <td>Florida</td>\n",
       "      <td>2020</td>\n",
       "    </tr>\n",
       "    <tr>\n",
       "      <th>2</th>\n",
       "      <td>101805010244892834381</td>\n",
       "      <td>Brian Truett</td>\n",
       "      <td>2018-04-05 10:30:53.567</td>\n",
       "      <td>5</td>\n",
       "      <td>Best doctor I've ever had, I never wait to be ...</td>\n",
       "      <td>None</td>\n",
       "      <td>None</td>\n",
       "      <td>0x8893863ea87bd5dd:0x9383ebf973e74abb</td>\n",
       "      <td>Florida</td>\n",
       "      <td>2018</td>\n",
       "    </tr>\n",
       "  </tbody>\n",
       "</table>\n",
       "</div>"
      ],
      "text/plain": [
       "                 user_id              name                    time  rating  \\\n",
       "0  101471856155148729010   Julie A. Gerber 2021-08-03 15:07:30.740       1   \n",
       "1  115477234789038326051  Martin Sheffield 2020-07-18 00:13:37.005       5   \n",
       "2  101805010244892834381      Brian Truett 2018-04-05 10:30:53.567       5   \n",
       "\n",
       "                                                text  pics  \\\n",
       "0  Update: Their “reply” to my review amounted to...  None   \n",
       "1  He's a knowledgeable doctor but the way he run...  None   \n",
       "2  Best doctor I've ever had, I never wait to be ...  None   \n",
       "\n",
       "                                                resp  \\\n",
       "0  {'text': 'Thank you for the feedback. We would...   \n",
       "1  {'text': 'Thank you for reaching out. I’m forw...   \n",
       "2                                               None   \n",
       "\n",
       "                                 gmap_id    state  year  \n",
       "0  0x8893863ea87bd5dd:0x9383ebf973e74abb  Florida  2021  \n",
       "1  0x8893863ea87bd5dd:0x9383ebf973e74abb  Florida  2020  \n",
       "2  0x8893863ea87bd5dd:0x9383ebf973e74abb  Florida  2018  "
      ]
     },
     "execution_count": 10,
     "metadata": {},
     "output_type": "execute_result"
    }
   ],
   "source": [
    "reviews.head(3)"
   ]
  },
  {
   "cell_type": "markdown",
   "metadata": {},
   "source": [
    "----"
   ]
  },
  {
   "cell_type": "markdown",
   "metadata": {},
   "source": [
    "A partir del archivo de base de locales, traemos la categoría para así poder trabajar solamente con los locales de las categorías en las que estamos interesados."
   ]
  },
  {
   "cell_type": "code",
   "execution_count": 11,
   "metadata": {},
   "outputs": [],
   "source": [
    "sitios = pd.read_parquet(\"data_filtrada.parquet\")"
   ]
  },
  {
   "cell_type": "code",
   "execution_count": 12,
   "metadata": {},
   "outputs": [
    {
     "data": {
      "text/html": [
       "<div>\n",
       "<style scoped>\n",
       "    .dataframe tbody tr th:only-of-type {\n",
       "        vertical-align: middle;\n",
       "    }\n",
       "\n",
       "    .dataframe tbody tr th {\n",
       "        vertical-align: top;\n",
       "    }\n",
       "\n",
       "    .dataframe thead th {\n",
       "        text-align: right;\n",
       "    }\n",
       "</style>\n",
       "<table border=\"1\" class=\"dataframe\">\n",
       "  <thead>\n",
       "    <tr style=\"text-align: right;\">\n",
       "      <th></th>\n",
       "      <th>name</th>\n",
       "      <th>address</th>\n",
       "      <th>gmap_id</th>\n",
       "      <th>latitude</th>\n",
       "      <th>longitude</th>\n",
       "      <th>category</th>\n",
       "      <th>avg_rating</th>\n",
       "      <th>num_of_reviews</th>\n",
       "      <th>MISC</th>\n",
       "      <th>state</th>\n",
       "    </tr>\n",
       "  </thead>\n",
       "  <tbody>\n",
       "    <tr>\n",
       "      <th>0</th>\n",
       "      <td>San Soo Dang</td>\n",
       "      <td>San Soo Dang, 761 S Vermont Ave, Los Angeles, ...</td>\n",
       "      <td>0x80c2c778e3b73d33:0xbdc58662a4a97d49</td>\n",
       "      <td>34.058092</td>\n",
       "      <td>-118.292130</td>\n",
       "      <td>Korean restaurant</td>\n",
       "      <td>4.4</td>\n",
       "      <td>18</td>\n",
       "      <td>{'Accessibility': ['Wheelchair accessible entr...</td>\n",
       "      <td>California</td>\n",
       "    </tr>\n",
       "    <tr>\n",
       "      <th>1</th>\n",
       "      <td>Vons Chicken</td>\n",
       "      <td>Vons Chicken, 12740 La Mirada Blvd, La Mirada,...</td>\n",
       "      <td>0x80dd2b4c8555edb7:0xfc33d65c4bdbef42</td>\n",
       "      <td>33.916402</td>\n",
       "      <td>-118.010855</td>\n",
       "      <td>Restaurant</td>\n",
       "      <td>4.5</td>\n",
       "      <td>18</td>\n",
       "      <td>{'Accessibility': ['Wheelchair accessible entr...</td>\n",
       "      <td>California</td>\n",
       "    </tr>\n",
       "    <tr>\n",
       "      <th>2</th>\n",
       "      <td>Sweet Rewards Gluten Free Bakery, LLC</td>\n",
       "      <td>Sweet Rewards Gluten Free Bakery, LLC, 85 NE D...</td>\n",
       "      <td>0x87ec235c54d25b31:0x3b75fb5facc602f</td>\n",
       "      <td>41.616079</td>\n",
       "      <td>-93.865487</td>\n",
       "      <td>Bakery, Health food restaurant</td>\n",
       "      <td>4.7</td>\n",
       "      <td>21</td>\n",
       "      <td>{'Accessibility': None, 'Activities': None, 'A...</td>\n",
       "      <td>Iowa</td>\n",
       "    </tr>\n",
       "  </tbody>\n",
       "</table>\n",
       "</div>"
      ],
      "text/plain": [
       "                                    name  \\\n",
       "0                           San Soo Dang   \n",
       "1                           Vons Chicken   \n",
       "2  Sweet Rewards Gluten Free Bakery, LLC   \n",
       "\n",
       "                                             address  \\\n",
       "0  San Soo Dang, 761 S Vermont Ave, Los Angeles, ...   \n",
       "1  Vons Chicken, 12740 La Mirada Blvd, La Mirada,...   \n",
       "2  Sweet Rewards Gluten Free Bakery, LLC, 85 NE D...   \n",
       "\n",
       "                                 gmap_id   latitude   longitude  \\\n",
       "0  0x80c2c778e3b73d33:0xbdc58662a4a97d49  34.058092 -118.292130   \n",
       "1  0x80dd2b4c8555edb7:0xfc33d65c4bdbef42  33.916402 -118.010855   \n",
       "2   0x87ec235c54d25b31:0x3b75fb5facc602f  41.616079  -93.865487   \n",
       "\n",
       "                         category  avg_rating  num_of_reviews  \\\n",
       "0               Korean restaurant         4.4              18   \n",
       "1                      Restaurant         4.5              18   \n",
       "2  Bakery, Health food restaurant         4.7              21   \n",
       "\n",
       "                                                MISC       state  \n",
       "0  {'Accessibility': ['Wheelchair accessible entr...  California  \n",
       "1  {'Accessibility': ['Wheelchair accessible entr...  California  \n",
       "2  {'Accessibility': None, 'Activities': None, 'A...        Iowa  "
      ]
     },
     "execution_count": 12,
     "metadata": {},
     "output_type": "execute_result"
    }
   ],
   "source": [
    "sitios.head(3)"
   ]
  },
  {
   "cell_type": "code",
   "execution_count": 13,
   "metadata": {},
   "outputs": [],
   "source": [
    "reviews = reviews.merge(sitios[['gmap_id', 'category']], on='gmap_id', how='left')"
   ]
  },
  {
   "cell_type": "code",
   "execution_count": 14,
   "metadata": {},
   "outputs": [
    {
     "data": {
      "text/html": [
       "<div>\n",
       "<style scoped>\n",
       "    .dataframe tbody tr th:only-of-type {\n",
       "        vertical-align: middle;\n",
       "    }\n",
       "\n",
       "    .dataframe tbody tr th {\n",
       "        vertical-align: top;\n",
       "    }\n",
       "\n",
       "    .dataframe thead th {\n",
       "        text-align: right;\n",
       "    }\n",
       "</style>\n",
       "<table border=\"1\" class=\"dataframe\">\n",
       "  <thead>\n",
       "    <tr style=\"text-align: right;\">\n",
       "      <th></th>\n",
       "      <th>user_id</th>\n",
       "      <th>name</th>\n",
       "      <th>time</th>\n",
       "      <th>rating</th>\n",
       "      <th>text</th>\n",
       "      <th>pics</th>\n",
       "      <th>resp</th>\n",
       "      <th>gmap_id</th>\n",
       "      <th>state</th>\n",
       "      <th>year</th>\n",
       "      <th>category</th>\n",
       "    </tr>\n",
       "  </thead>\n",
       "  <tbody>\n",
       "    <tr>\n",
       "      <th>0</th>\n",
       "      <td>101471856155148729010</td>\n",
       "      <td>Julie A. Gerber</td>\n",
       "      <td>2021-08-03 15:07:30.740</td>\n",
       "      <td>1</td>\n",
       "      <td>Update: Their “reply” to my review amounted to...</td>\n",
       "      <td>None</td>\n",
       "      <td>{'text': 'Thank you for the feedback. We would...</td>\n",
       "      <td>0x8893863ea87bd5dd:0x9383ebf973e74abb</td>\n",
       "      <td>Florida</td>\n",
       "      <td>2021</td>\n",
       "      <td>NaN</td>\n",
       "    </tr>\n",
       "    <tr>\n",
       "      <th>1</th>\n",
       "      <td>115477234789038326051</td>\n",
       "      <td>Martin Sheffield</td>\n",
       "      <td>2020-07-18 00:13:37.005</td>\n",
       "      <td>5</td>\n",
       "      <td>He's a knowledgeable doctor but the way he run...</td>\n",
       "      <td>None</td>\n",
       "      <td>{'text': 'Thank you for reaching out. I’m forw...</td>\n",
       "      <td>0x8893863ea87bd5dd:0x9383ebf973e74abb</td>\n",
       "      <td>Florida</td>\n",
       "      <td>2020</td>\n",
       "      <td>NaN</td>\n",
       "    </tr>\n",
       "    <tr>\n",
       "      <th>2</th>\n",
       "      <td>101805010244892834381</td>\n",
       "      <td>Brian Truett</td>\n",
       "      <td>2018-04-05 10:30:53.567</td>\n",
       "      <td>5</td>\n",
       "      <td>Best doctor I've ever had, I never wait to be ...</td>\n",
       "      <td>None</td>\n",
       "      <td>None</td>\n",
       "      <td>0x8893863ea87bd5dd:0x9383ebf973e74abb</td>\n",
       "      <td>Florida</td>\n",
       "      <td>2018</td>\n",
       "      <td>NaN</td>\n",
       "    </tr>\n",
       "  </tbody>\n",
       "</table>\n",
       "</div>"
      ],
      "text/plain": [
       "                 user_id              name                    time  rating  \\\n",
       "0  101471856155148729010   Julie A. Gerber 2021-08-03 15:07:30.740       1   \n",
       "1  115477234789038326051  Martin Sheffield 2020-07-18 00:13:37.005       5   \n",
       "2  101805010244892834381      Brian Truett 2018-04-05 10:30:53.567       5   \n",
       "\n",
       "                                                text  pics  \\\n",
       "0  Update: Their “reply” to my review amounted to...  None   \n",
       "1  He's a knowledgeable doctor but the way he run...  None   \n",
       "2  Best doctor I've ever had, I never wait to be ...  None   \n",
       "\n",
       "                                                resp  \\\n",
       "0  {'text': 'Thank you for the feedback. We would...   \n",
       "1  {'text': 'Thank you for reaching out. I’m forw...   \n",
       "2                                               None   \n",
       "\n",
       "                                 gmap_id    state  year category  \n",
       "0  0x8893863ea87bd5dd:0x9383ebf973e74abb  Florida  2021      NaN  \n",
       "1  0x8893863ea87bd5dd:0x9383ebf973e74abb  Florida  2020      NaN  \n",
       "2  0x8893863ea87bd5dd:0x9383ebf973e74abb  Florida  2018      NaN  "
      ]
     },
     "execution_count": 14,
     "metadata": {},
     "output_type": "execute_result"
    }
   ],
   "source": [
    "reviews.head(3)"
   ]
  },
  {
   "cell_type": "markdown",
   "metadata": {},
   "source": [
    "----"
   ]
  },
  {
   "cell_type": "markdown",
   "metadata": {},
   "source": [
    "Vemos las 5 primeras filas del DataFrame para ayor comprensión de los datos.\n",
    "\n",
    "- **user_id**: identificador único del usuario que dejó la reseña.\n",
    "- **name**: nombre del usuario que dejó la reseña.\n",
    "- **time**: fecha y hora en que se realizó la reseña.\n",
    "- **rating**: calificación dada por el usuario.\n",
    "- **text**: contenido del comentario dejado por el usuario.\n",
    "- **pics**: imágenes relacionadas con la reseña.\n",
    "- **resp**: respuestas del local al comentario.\n",
    "- **gmap_id**: identificador de Google Maps asociado al lugar.\n",
    "- **state**: estado al que pertenece el lugar.\n",
    "- **year**: año en que se dejó la reseña.\n",
    "- **category**: categoría a la que pertenece la reseña."
   ]
  },
  {
   "cell_type": "code",
   "execution_count": 15,
   "metadata": {},
   "outputs": [
    {
     "data": {
      "text/html": [
       "<div>\n",
       "<style scoped>\n",
       "    .dataframe tbody tr th:only-of-type {\n",
       "        vertical-align: middle;\n",
       "    }\n",
       "\n",
       "    .dataframe tbody tr th {\n",
       "        vertical-align: top;\n",
       "    }\n",
       "\n",
       "    .dataframe thead th {\n",
       "        text-align: right;\n",
       "    }\n",
       "</style>\n",
       "<table border=\"1\" class=\"dataframe\">\n",
       "  <thead>\n",
       "    <tr style=\"text-align: right;\">\n",
       "      <th></th>\n",
       "      <th>user_id</th>\n",
       "      <th>name</th>\n",
       "      <th>time</th>\n",
       "      <th>rating</th>\n",
       "      <th>text</th>\n",
       "      <th>pics</th>\n",
       "      <th>resp</th>\n",
       "      <th>gmap_id</th>\n",
       "      <th>state</th>\n",
       "      <th>year</th>\n",
       "      <th>category</th>\n",
       "    </tr>\n",
       "  </thead>\n",
       "  <tbody>\n",
       "    <tr>\n",
       "      <th>0</th>\n",
       "      <td>101471856155148729010</td>\n",
       "      <td>Julie A. Gerber</td>\n",
       "      <td>2021-08-03 15:07:30.740</td>\n",
       "      <td>1</td>\n",
       "      <td>Update: Their “reply” to my review amounted to...</td>\n",
       "      <td>None</td>\n",
       "      <td>{'text': 'Thank you for the feedback. We would...</td>\n",
       "      <td>0x8893863ea87bd5dd:0x9383ebf973e74abb</td>\n",
       "      <td>Florida</td>\n",
       "      <td>2021</td>\n",
       "      <td>NaN</td>\n",
       "    </tr>\n",
       "    <tr>\n",
       "      <th>1</th>\n",
       "      <td>115477234789038326051</td>\n",
       "      <td>Martin Sheffield</td>\n",
       "      <td>2020-07-18 00:13:37.005</td>\n",
       "      <td>5</td>\n",
       "      <td>He's a knowledgeable doctor but the way he run...</td>\n",
       "      <td>None</td>\n",
       "      <td>{'text': 'Thank you for reaching out. I’m forw...</td>\n",
       "      <td>0x8893863ea87bd5dd:0x9383ebf973e74abb</td>\n",
       "      <td>Florida</td>\n",
       "      <td>2020</td>\n",
       "      <td>NaN</td>\n",
       "    </tr>\n",
       "    <tr>\n",
       "      <th>2</th>\n",
       "      <td>101805010244892834381</td>\n",
       "      <td>Brian Truett</td>\n",
       "      <td>2018-04-05 10:30:53.567</td>\n",
       "      <td>5</td>\n",
       "      <td>Best doctor I've ever had, I never wait to be ...</td>\n",
       "      <td>None</td>\n",
       "      <td>None</td>\n",
       "      <td>0x8893863ea87bd5dd:0x9383ebf973e74abb</td>\n",
       "      <td>Florida</td>\n",
       "      <td>2018</td>\n",
       "      <td>NaN</td>\n",
       "    </tr>\n",
       "    <tr>\n",
       "      <th>3</th>\n",
       "      <td>106344422881493743981</td>\n",
       "      <td>Tina Sun</td>\n",
       "      <td>2016-07-07 16:10:19.586</td>\n",
       "      <td>1</td>\n",
       "      <td>I was told he is a good doctor. I was trying t...</td>\n",
       "      <td>None</td>\n",
       "      <td>None</td>\n",
       "      <td>0x8893863ea87bd5dd:0x9383ebf973e74abb</td>\n",
       "      <td>Florida</td>\n",
       "      <td>2016</td>\n",
       "      <td>NaN</td>\n",
       "    </tr>\n",
       "    <tr>\n",
       "      <th>4</th>\n",
       "      <td>100875113069561776529</td>\n",
       "      <td>James Haynes</td>\n",
       "      <td>2016-12-02 12:56:55.081</td>\n",
       "      <td>5</td>\n",
       "      <td>Takes the time to actually get to know his pat...</td>\n",
       "      <td>None</td>\n",
       "      <td>None</td>\n",
       "      <td>0x8893863ea87bd5dd:0x9383ebf973e74abb</td>\n",
       "      <td>Florida</td>\n",
       "      <td>2016</td>\n",
       "      <td>NaN</td>\n",
       "    </tr>\n",
       "  </tbody>\n",
       "</table>\n",
       "</div>"
      ],
      "text/plain": [
       "                 user_id              name                    time  rating  \\\n",
       "0  101471856155148729010   Julie A. Gerber 2021-08-03 15:07:30.740       1   \n",
       "1  115477234789038326051  Martin Sheffield 2020-07-18 00:13:37.005       5   \n",
       "2  101805010244892834381      Brian Truett 2018-04-05 10:30:53.567       5   \n",
       "3  106344422881493743981          Tina Sun 2016-07-07 16:10:19.586       1   \n",
       "4  100875113069561776529      James Haynes 2016-12-02 12:56:55.081       5   \n",
       "\n",
       "                                                text  pics  \\\n",
       "0  Update: Their “reply” to my review amounted to...  None   \n",
       "1  He's a knowledgeable doctor but the way he run...  None   \n",
       "2  Best doctor I've ever had, I never wait to be ...  None   \n",
       "3  I was told he is a good doctor. I was trying t...  None   \n",
       "4  Takes the time to actually get to know his pat...  None   \n",
       "\n",
       "                                                resp  \\\n",
       "0  {'text': 'Thank you for the feedback. We would...   \n",
       "1  {'text': 'Thank you for reaching out. I’m forw...   \n",
       "2                                               None   \n",
       "3                                               None   \n",
       "4                                               None   \n",
       "\n",
       "                                 gmap_id    state  year category  \n",
       "0  0x8893863ea87bd5dd:0x9383ebf973e74abb  Florida  2021      NaN  \n",
       "1  0x8893863ea87bd5dd:0x9383ebf973e74abb  Florida  2020      NaN  \n",
       "2  0x8893863ea87bd5dd:0x9383ebf973e74abb  Florida  2018      NaN  \n",
       "3  0x8893863ea87bd5dd:0x9383ebf973e74abb  Florida  2016      NaN  \n",
       "4  0x8893863ea87bd5dd:0x9383ebf973e74abb  Florida  2016      NaN  "
      ]
     },
     "execution_count": 15,
     "metadata": {},
     "output_type": "execute_result"
    }
   ],
   "source": [
    "reviews.head()"
   ]
  },
  {
   "cell_type": "markdown",
   "metadata": {},
   "source": [
    "----"
   ]
  },
  {
   "cell_type": "markdown",
   "metadata": {},
   "source": [
    "Tamaño del DataFrame.\n",
    "- Columnas: 11\n",
    "- Filas: 2850000"
   ]
  },
  {
   "cell_type": "code",
   "execution_count": 16,
   "metadata": {},
   "outputs": [
    {
     "data": {
      "text/plain": [
       "(2850000, 11)"
      ]
     },
     "execution_count": 16,
     "metadata": {},
     "output_type": "execute_result"
    }
   ],
   "source": [
    "reviews.shape"
   ]
  },
  {
   "cell_type": "markdown",
   "metadata": {},
   "source": [
    "----"
   ]
  },
  {
   "cell_type": "markdown",
   "metadata": {},
   "source": [
    "Sólo tenemos categorías restaurants por lo que eliminaremos los registros restantes ya que no aportan información y nos permitirá trabajar mejor con la base de datos."
   ]
  },
  {
   "cell_type": "code",
   "execution_count": 17,
   "metadata": {},
   "outputs": [
    {
     "data": {
      "text/plain": [
       "array([nan, 'Modern French restaurant, Restaurant', 'Restaurant', ...,\n",
       "       'Breakfast restaurant, American restaurant, Brunch restaurant, Diner',\n",
       "       'Video arcade, Event venue, Restaurant, Sports bar',\n",
       "       'American restaurant, Bar & grill, Restaurant, Southern restaurant (US)'],\n",
       "      dtype=object)"
      ]
     },
     "execution_count": 17,
     "metadata": {},
     "output_type": "execute_result"
    }
   ],
   "source": [
    "reviews['category'].unique()"
   ]
  },
  {
   "cell_type": "code",
   "execution_count": 18,
   "metadata": {},
   "outputs": [],
   "source": [
    "reviews = reviews[reviews['category'] == 'Restaurant']"
   ]
  },
  {
   "cell_type": "markdown",
   "metadata": {},
   "source": [
    "----"
   ]
  },
  {
   "cell_type": "markdown",
   "metadata": {},
   "source": [
    "Tamaño del DataFrame restante.\n",
    "- Columnas: 11\n",
    "- Filas: 24444"
   ]
  },
  {
   "cell_type": "code",
   "execution_count": 19,
   "metadata": {},
   "outputs": [
    {
     "data": {
      "text/plain": [
       "(24409, 11)"
      ]
     },
     "execution_count": 19,
     "metadata": {},
     "output_type": "execute_result"
    }
   ],
   "source": [
    "reviews.shape"
   ]
  },
  {
   "cell_type": "markdown",
   "metadata": {},
   "source": [
    "----"
   ]
  },
  {
   "cell_type": "markdown",
   "metadata": {},
   "source": [
    "Convertimos los diccionarios en strings en la columna `\"resp\"`."
   ]
  },
  {
   "cell_type": "code",
   "execution_count": 20,
   "metadata": {},
   "outputs": [],
   "source": [
    "reviews['resp'] = reviews['resp'].apply(lambda x: x.get('text') if isinstance(x, dict) else x)"
   ]
  },
  {
   "cell_type": "markdown",
   "metadata": {},
   "source": [
    "----"
   ]
  },
  {
   "cell_type": "markdown",
   "metadata": {},
   "source": [
    "Tamaño del DataFrame restante.\n",
    "- Columnas: 11\n",
    "- Filas: 23729"
   ]
  },
  {
   "cell_type": "code",
   "execution_count": 21,
   "metadata": {},
   "outputs": [
    {
     "data": {
      "text/plain": [
       "(24409, 11)"
      ]
     },
     "execution_count": 21,
     "metadata": {},
     "output_type": "execute_result"
    }
   ],
   "source": [
    "reviews.shape"
   ]
  },
  {
   "cell_type": "markdown",
   "metadata": {},
   "source": [
    "----"
   ]
  },
  {
   "cell_type": "markdown",
   "metadata": {},
   "source": [
    "Resumen de la información.\n",
    "\n",
    "- El DataFrame contiene 23,729 filas y 11 columnas. \n",
    "- Cada columna está etiquetada con su nombre y muestra la cantidad de valores no nulos. \n",
    "- Los tipos de datos abarcan 7 objetos, 2 enteros (int64 e int32) y 1 datetime64. \n",
    "- El consumo de memoria del DataFrame es de alrededor de 2.1 MB."
   ]
  },
  {
   "cell_type": "code",
   "execution_count": 22,
   "metadata": {},
   "outputs": [
    {
     "name": "stdout",
     "output_type": "stream",
     "text": [
      "<class 'pandas.core.frame.DataFrame'>\n",
      "Index: 24409 entries, 924 to 2832675\n",
      "Data columns (total 11 columns):\n",
      " #   Column    Non-Null Count  Dtype         \n",
      "---  ------    --------------  -----         \n",
      " 0   user_id   24409 non-null  object        \n",
      " 1   name      24409 non-null  object        \n",
      " 2   time      24409 non-null  datetime64[ns]\n",
      " 3   rating    24409 non-null  int64         \n",
      " 4   text      17110 non-null  object        \n",
      " 5   pics      2285 non-null   object        \n",
      " 6   resp      3705 non-null   object        \n",
      " 7   gmap_id   24409 non-null  object        \n",
      " 8   state     24409 non-null  object        \n",
      " 9   year      24409 non-null  int32         \n",
      " 10  category  24409 non-null  object        \n",
      "dtypes: datetime64[ns](1), int32(1), int64(1), object(8)\n",
      "memory usage: 2.1+ MB\n"
     ]
    }
   ],
   "source": [
    "reviews.info()"
   ]
  },
  {
   "cell_type": "markdown",
   "metadata": {},
   "source": [
    "----"
   ]
  },
  {
   "cell_type": "markdown",
   "metadata": {},
   "source": [
    "Basándonos en los porcentajes de valores nulos y no nulos en cada columna del DataFrame `'florida'`, se pueden extraer las siguientes conclusiones:\n",
    "\n",
    "- Las columnas `'user_id'`, `'name'`, `'time'`, `'rating'`, `'gmap_id'`, `'state'` y `'year'` no contienen valores nulos, lo que indica que estas columnas tienen datos completos y consistentes.\n",
    "- La columna `'text'` tiene un porcentaje de valores nulos del 37.88%, lo que sugiere que alrededor del 62.12% de las reseñas tienen texto asociado. Esto podría afectar el análisis que se realice con respecto al contenido de las reseñas.\n",
    "- La columna `'pics'` muestra un alto porcentaje de valores nulos (96.34%), indicando que solo alrededor del 3.66% de las reseñas cuentan con imágenes adjuntas. La presencia limitada de imágenes podría tener implicaciones en el análisis visual de los datos.\n",
    "- La columna `'resp'` tiene un alto porcentaje de valores nulos (84.02%), lo que significa que solo aproximadamente el 15.98% de las reseñas cuentan con respuestas. Esto podría impactar el análisis de interacciones entre los usuarios y los locales.\n",
    "  \n",
    "En resumen, la presencia significativa de valores nulos en las columnas `'text'`, `'pics'` y `'resp'` podría requerir un manejo especial en el análisis y consideración de cómo estos datos incompletos pueden afectar las conclusiones que se extraigan del DataFrame."
   ]
  },
  {
   "cell_type": "code",
   "execution_count": 23,
   "metadata": {},
   "outputs": [
    {
     "data": {
      "image/png": "[encoded data removed]",
      "text/plain": [
       "<Figure size 1000x600 with 1 Axes>"
      ]
     },
     "metadata": {},
     "output_type": "display_data"
    }
   ],
   "source": [
    "# Calcula el número de valores nulos en cada columna\n",
    "total_nulos = reviews.isnull().sum()\n",
    "\n",
    "# Calcula el número total de filas\n",
    "total_filas = reviews.shape[0]\n",
    "\n",
    "# Calcula el porcentaje de valores nulos en cada columna\n",
    "porcentaje_nulos = (total_nulos / total_filas) * 100\n",
    "\n",
    "# Calcula el porcentaje de valores no nulos en cada columna\n",
    "porcentaje_no_nulos = 100 - porcentaje_nulos\n",
    "\n",
    "# Crea un nuevo DataFrame con los resultados\n",
    "df_nulos_new_jersey = pd.DataFrame({\n",
    "    'Columna': reviews.columns,\n",
    "    'Porcentaje nulos': porcentaje_nulos,\n",
    "    'Porcentaje NO nulos': porcentaje_no_nulos\n",
    "})\n",
    "\n",
    "# Configura el tamaño de la figura\n",
    "plt.figure(figsize=(10, 6))\n",
    "\n",
    "# Crea un gráfico de barras para los porcentajes de nulos y no nulos\n",
    "plt.bar(df_nulos_new_jersey['Columna'], df_nulos_new_jersey['Porcentaje nulos'], label='Nulos')\n",
    "plt.bar(df_nulos_new_jersey['Columna'], df_nulos_new_jersey['Porcentaje NO nulos'], bottom=df_nulos_new_jersey['Porcentaje nulos'], label='No nulos')\n",
    "\n",
    "# Agregar etiquetas y título\n",
    "plt.xlabel('Columna')\n",
    "plt.ylabel('Porcentaje')\n",
    "plt.title('Porcentaje de Valores Nulos y No Nulos por Columna')\n",
    "plt.xticks(rotation=45, ha='right')\n",
    "plt.legend()\n",
    "\n",
    "# Muestra el gráfico\n",
    "plt.tight_layout()\n",
    "plt.show()"
   ]
  },
  {
   "cell_type": "markdown",
   "metadata": {},
   "source": [
    "----"
   ]
  },
  {
   "cell_type": "markdown",
   "metadata": {},
   "source": [
    "- El 81.33% de los valores en el DataFrame `'florida'` son no nulos, lo que indica que la mayoría de las celdas contienen información válida y completa.\n",
    "- Este análisis de la distribución de valores nulos y no nulos es esencial para entender la integridad y la calidad de los datos, y puede influir en las decisiones futuras relacionadas con la manipulación y el análisis de este conjunto de datos."
   ]
  },
  {
   "cell_type": "code",
   "execution_count": 24,
   "metadata": {},
   "outputs": [
    {
     "data": {
      "image/png": "[encoded data removed]",
      "text/plain": [
       "<Figure size 600x400 with 1 Axes>"
      ]
     },
     "metadata": {},
     "output_type": "display_data"
    }
   ],
   "source": [
    "# Calcula el total de valores no nulos y valores nulos en el DataFrame 'florida'\n",
    "total_valores_no_nulos = reviews.count().sum()\n",
    "total_valores_nulos = reviews.isnull().sum().sum()\n",
    "\n",
    "# Calcula el porcentaje de valores no nulos y valores nulos\n",
    "porcentaje_no_nulos = (total_valores_no_nulos / (total_valores_no_nulos + total_valores_nulos)) * 100\n",
    "porcentaje_nulos = 100 - porcentaje_no_nulos\n",
    "\n",
    "# Configura el tamaño de la figura\n",
    "plt.figure(figsize=(6, 4))\n",
    "\n",
    "# Crea un gráfico de barras\n",
    "bars = plt.bar(['Valores No Nulos', 'Valores Nulos'], [porcentaje_no_nulos, porcentaje_nulos], color=['blue', 'orange'])\n",
    "\n",
    "# Agrega etiquetas y título\n",
    "plt.ylabel('Porcentaje')\n",
    "plt.title('Diferencia en Porcentaje entre Valores Nulos y No Nulos en el DataFrame Florida')\n",
    "\n",
    "# Agrega los porcentajes dentro de las barras\n",
    "for bar in bars:\n",
    "    yval = bar.get_height()\n",
    "    plt.text(bar.get_x() + bar.get_width()/2, yval - 5, f'{yval:.2f}%', ha='center', color='black', fontweight='bold')\n",
    "\n",
    "# Muestra el gráfico\n",
    "plt.tight_layout()\n",
    "plt.show()\n"
   ]
  },
  {
   "cell_type": "markdown",
   "metadata": {},
   "source": [
    "----"
   ]
  },
  {
   "cell_type": "markdown",
   "metadata": {},
   "source": [
    "Elimina los caracteres especificados de las columnas 'text' y 'resp'"
   ]
  },
  {
   "cell_type": "code",
   "execution_count": 25,
   "metadata": {},
   "outputs": [],
   "source": [
    "reviews['text'] = reviews['text'].str.replace(')', '').str.replace('(', '').str.replace('&', '').str.replace('.', '')\n",
    "reviews['resp'] = reviews['resp'].str.replace(')', '').str.replace('(', '').str.replace('&', '').str.replace('.', '')"
   ]
  },
  {
   "cell_type": "markdown",
   "metadata": {},
   "source": [
    "----"
   ]
  },
  {
   "cell_type": "markdown",
   "metadata": {},
   "source": [
    "El análisis de las palabras más comunes en los textos de la columna `'text'` del DataFrame `'florida'` revela patrones claros en las reseñas de los locales. La palabra `\"great\"` lidera con 493,260 ocurrencias, indicando experiencias extremadamente positivas, seguida de `\"good\"` con 338,383 menciones, denotando evaluaciones favorables. Términos como `\"nice\"`, `\"best\"`, `\"friendly\"` y `\"love\"` refuerzan una percepción positiva generalizada, mientras que palabras como `\"original\"`, `\"excellent\"`, `\"amazing\"` y `\"clean\"` resaltan aspectos específicos como autenticidad, calidad y limpieza que los usuarios valoran. Estos resultados enfatizan la tendencia hacia reseñas positivas y una percepción favorable en las experiencias de los usuarios en los locales."
   ]
  },
  {
   "cell_type": "code",
   "execution_count": 26,
   "metadata": {},
   "outputs": [],
   "source": [
    "# Lista de palabras a evitar en minúsculas (preposiciones y otras excepciones)\n",
    "stop_words = ['and', 'the', 'to', 'i', 'a', 'was', 'is', 'for', 'of', 'in', 'my', 'they', 'very', 'it', 'you', 'with','this','have','are','that','on','but','not','place','food','had','service','we','at','me','so','be','always','were','there','get','all','as','staff','will','if','out','go','time','an','just','their','like','your','from','when','by','he','been','no','what','one','here','would','or','our','she','up','people','about','really','do',\"it's\",'them','has','back','can','only','got','customer','even','never','recommend','more','some','did','work','service','going','because', 'store','other', 'new', 'prices', 'went', \"don't\", 'her', 'than', 'also', 'after', 'well', 'little','google','his','translated','experience','chicken']\n",
    "\n",
    "# Crea una función para filtrar palabras vacías y contar ocurrencias en un lote\n",
    "def count_most_common_words_in_batch(text_batch):\n",
    "    words = text_batch.split()\n",
    "    filtered_words = [word.lower() for word in words if word.lower() not in stop_words]\n",
    "    return Counter(filtered_words)\n",
    "\n",
    "# Contador de palabras\n",
    "word_counts = Counter()\n",
    "\n",
    "# Procesa los textos en partes más pequeñas\n",
    "batch_size = 10000\n",
    "num_batches = len(reviews) // batch_size + 1\n",
    "\n",
    "for batch_num in range(num_batches):\n",
    "    start_idx = batch_num * batch_size\n",
    "    end_idx = start_idx + batch_size\n",
    "    batch_text = ' '.join(reviews['text'].iloc[start_idx:end_idx].dropna())\n",
    "    batch_word_counts = count_most_common_words_in_batch(batch_text)\n",
    "    word_counts += batch_word_counts\n",
    "\n",
    "# Obtiene las palabras más comunes y su conteo\n",
    "most_common_words = word_counts.most_common(10)  # Cambia 10 por el número deseado"
   ]
  },
  {
   "cell_type": "code",
   "execution_count": 27,
   "metadata": {},
   "outputs": [
    {
     "data": {
      "image/png": "[encoded data removed]",
      "text/plain": [
       "<Figure size 1000x600 with 1 Axes>"
      ]
     },
     "metadata": {},
     "output_type": "display_data"
    }
   ],
   "source": [
    "# Extrae las palabras y los conteos para el gráfico\n",
    "words = [word for word, _ in most_common_words]\n",
    "counts = [count for _, count in most_common_words]\n",
    "\n",
    "# Crea el gráfico de barras\n",
    "plt.figure(figsize=(10, 6))\n",
    "plt.bar(words, counts, color='blue')\n",
    "plt.xlabel('Palabras')\n",
    "plt.ylabel('Frecuencia')\n",
    "plt.title('Palabras más comunes')\n",
    "plt.xticks(rotation=45)\n",
    "plt.tight_layout()\n",
    "\n",
    "# Muestra el gráfico\n",
    "plt.show()"
   ]
  },
  {
   "cell_type": "code",
   "execution_count": 28,
   "metadata": {},
   "outputs": [
    {
     "data": {
      "text/html": [
       "<div>\n",
       "<style scoped>\n",
       "    .dataframe tbody tr th:only-of-type {\n",
       "        vertical-align: middle;\n",
       "    }\n",
       "\n",
       "    .dataframe tbody tr th {\n",
       "        vertical-align: top;\n",
       "    }\n",
       "\n",
       "    .dataframe thead th {\n",
       "        text-align: right;\n",
       "    }\n",
       "</style>\n",
       "<table border=\"1\" class=\"dataframe\">\n",
       "  <thead>\n",
       "    <tr style=\"text-align: right;\">\n",
       "      <th></th>\n",
       "      <th>Palabra</th>\n",
       "      <th>Cantidad</th>\n",
       "    </tr>\n",
       "  </thead>\n",
       "  <tbody>\n",
       "    <tr>\n",
       "      <th>0</th>\n",
       "      <td>great</td>\n",
       "      <td>5858</td>\n",
       "    </tr>\n",
       "    <tr>\n",
       "      <th>1</th>\n",
       "      <td>good</td>\n",
       "      <td>5108</td>\n",
       "    </tr>\n",
       "    <tr>\n",
       "      <th>2</th>\n",
       "      <td>best</td>\n",
       "      <td>1820</td>\n",
       "    </tr>\n",
       "    <tr>\n",
       "      <th>3</th>\n",
       "      <td>delicious</td>\n",
       "      <td>1661</td>\n",
       "    </tr>\n",
       "    <tr>\n",
       "      <th>4</th>\n",
       "      <td>friendly</td>\n",
       "      <td>1652</td>\n",
       "    </tr>\n",
       "    <tr>\n",
       "      <th>5</th>\n",
       "      <td>nice</td>\n",
       "      <td>1506</td>\n",
       "    </tr>\n",
       "    <tr>\n",
       "      <th>6</th>\n",
       "      <td>excellent</td>\n",
       "      <td>1454</td>\n",
       "    </tr>\n",
       "    <tr>\n",
       "      <th>7</th>\n",
       "      <td>amazing</td>\n",
       "      <td>1291</td>\n",
       "    </tr>\n",
       "    <tr>\n",
       "      <th>8</th>\n",
       "      <td>original</td>\n",
       "      <td>1258</td>\n",
       "    </tr>\n",
       "    <tr>\n",
       "      <th>9</th>\n",
       "      <td>love</td>\n",
       "      <td>1240</td>\n",
       "    </tr>\n",
       "  </tbody>\n",
       "</table>\n",
       "</div>"
      ],
      "text/plain": [
       "     Palabra  Cantidad\n",
       "0      great      5858\n",
       "1       good      5108\n",
       "2       best      1820\n",
       "3  delicious      1661\n",
       "4   friendly      1652\n",
       "5       nice      1506\n",
       "6  excellent      1454\n",
       "7    amazing      1291\n",
       "8   original      1258\n",
       "9       love      1240"
      ]
     },
     "execution_count": 28,
     "metadata": {},
     "output_type": "execute_result"
    }
   ],
   "source": [
    "# Crea un DataFrame con las palabras más comunes y su conteo\n",
    "df_most_common_words = pd.DataFrame(most_common_words, columns=['Palabra', 'Cantidad'])\n",
    "\n",
    "df_most_common_words"
   ]
  },
  {
   "cell_type": "markdown",
   "metadata": {},
   "source": [
    "----"
   ]
  },
  {
   "cell_type": "markdown",
   "metadata": {},
   "source": [
    "La conversión de valores en la columna `'pics'` a 0 o 1 facilita ver cómo las fotos afectan otros aspectos de las reseñas. Ayuda a entender si las fotos influyen en calificaciones, respuestas y participación de usuarios, al simplificar el análisis de su impacto en el conjunto de datos."
   ]
  },
  {
   "cell_type": "code",
   "execution_count": 29,
   "metadata": {},
   "outputs": [],
   "source": [
    "# Suponiendo que 'florida' es tu DataFrame\n",
    "reviews['pics'] = reviews['pics'].apply(lambda x: 1 if isinstance(x, list) and len(x) > 0 else x)"
   ]
  },
  {
   "cell_type": "markdown",
   "metadata": {},
   "source": [
    "----"
   ]
  },
  {
   "cell_type": "markdown",
   "metadata": {},
   "source": [
    "Mentenemos solo los registros en el DataFrame `\"sitios\"` que pertenecen al estado de `\"Florida\"`."
   ]
  },
  {
   "cell_type": "code",
   "execution_count": 30,
   "metadata": {},
   "outputs": [],
   "source": [
    "sitios = sitios[sitios['state'] == 'Florida']"
   ]
  },
  {
   "cell_type": "markdown",
   "metadata": {},
   "source": [
    "----"
   ]
  },
  {
   "cell_type": "markdown",
   "metadata": {},
   "source": [
    "## Reviews vs Google Sitios"
   ]
  },
  {
   "cell_type": "markdown",
   "metadata": {},
   "source": [
    "Comparando la cantidad de registros únicos entre los 2 datasets distintos, vemos que de 2474 restaurants, sólo 751 tienen comentarios."
   ]
  },
  {
   "cell_type": "code",
   "execution_count": 31,
   "metadata": {},
   "outputs": [
    {
     "data": {
      "image/png": "[encoded data removed]",
      "text/plain": [
       "<Figure size 800x200 with 1 Axes>"
      ]
     },
     "metadata": {},
     "output_type": "display_data"
    }
   ],
   "source": [
    "# Datos\n",
    "reviews_gmap_id_total = len(reviews['gmap_id'].unique())\n",
    "sitios_gmap_id_total = len(sitios['gmap_id'].unique())\n",
    "\n",
    "categorias = ['Florida', 'Locales']\n",
    "cantidades = [reviews_gmap_id_total, sitios_gmap_id_total]\n",
    "\n",
    "# Crea el gráfico de barras\n",
    "plt.figure(figsize=(8, 2))\n",
    "bars = plt.barh(categorias, cantidades, color=['blue','green'])\n",
    "\n",
    "# Agrega los valores en las barras\n",
    "for bar in bars:\n",
    "    plt.text(bar.get_width() + 10, bar.get_y() + bar.get_height()/2, str(int(bar.get_width())), va='center',color='black')\n",
    "\n",
    "# Ajusta el espacio en blanco antes del marco derecho\n",
    "plt.xlim(0, max(cantidades) * 1.1)\n",
    "\n",
    "plt.xlabel('Cantidad de gmap_id')\n",
    "plt.ylabel('Categoría')\n",
    "plt.title('Comparación de gmap_id entre los DataFrames Florida y Sitios')\n",
    "\n",
    "# Muestra el gráfico\n",
    "plt.show()\n"
   ]
  },
  {
   "cell_type": "markdown",
   "metadata": {},
   "source": [
    "----"
   ]
  },
  {
   "cell_type": "markdown",
   "metadata": {},
   "source": [
    "Este DataFrame tiene 2474 entradas filas y 9 columnas. Cada columna contiene la siguiente información:\n",
    "\n",
    "1. **name**: Nombre del lugar.\n",
    "2. **address**: Dirección del lugar.\n",
    "3. **gmap_id**: Identificador único del lugar en Google Maps.\n",
    "4. **latitude**: Latitud geográfica del lugar.\n",
    "5. **longitude**: Longitud geográfica del lugar.\n",
    "6. **category**: Categoría o tipo del lugar.\n",
    "7. **avg_rating**: Promedio de calificaciones del lugar.\n",
    "8. **num_of_reviews**: Número de reseñas u opiniones del lugar.\n",
    "9. **state**: Estado al que pertenece el lugar.\n",
    "\n",
    "Este conjunto de datos puede ser utilizado para análisis específicos relacionados con los lugares en el estado de Florida, como identificar las categorías más populares o realizar comparaciones entre lugares en función de las calificaciones y las reseñas recibidas. La información presentada en este DataFrame filtrado puede brindar insights valiosos sobre los lugares en Florida y su desempeño."
   ]
  },
  {
   "cell_type": "code",
   "execution_count": 32,
   "metadata": {},
   "outputs": [
    {
     "name": "stdout",
     "output_type": "stream",
     "text": [
      "<class 'pandas.core.frame.DataFrame'>\n",
      "Index: 10661 entries, 5 to 156044\n",
      "Data columns (total 10 columns):\n",
      " #   Column          Non-Null Count  Dtype  \n",
      "---  ------          --------------  -----  \n",
      " 0   name            10661 non-null  object \n",
      " 1   address         10661 non-null  object \n",
      " 2   gmap_id         10661 non-null  object \n",
      " 3   latitude        10661 non-null  float64\n",
      " 4   longitude       10661 non-null  float64\n",
      " 5   category        10661 non-null  object \n",
      " 6   avg_rating      10661 non-null  float64\n",
      " 7   num_of_reviews  10661 non-null  int64  \n",
      " 8   MISC            10661 non-null  object \n",
      " 9   state           10661 non-null  object \n",
      "dtypes: float64(3), int64(1), object(6)\n",
      "memory usage: 916.2+ KB\n"
     ]
    }
   ],
   "source": [
    "sitios.info()"
   ]
  },
  {
   "cell_type": "markdown",
   "metadata": {},
   "source": [
    "----"
   ]
  },
  {
   "cell_type": "markdown",
   "metadata": {},
   "source": [
    "Comparamos las categorías en Reviews y Sitios"
   ]
  },
  {
   "cell_type": "code",
   "execution_count": 33,
   "metadata": {},
   "outputs": [
    {
     "name": "stdout",
     "output_type": "stream",
     "text": [
      "Reviews:  ['Restaurant']\n",
      "Sitios:  ['Restaurant' 'Buffet restaurant'\n",
      " 'Swimming pool supply store, Garden center, Grill store, Hot tub store, Pool cleaning service'\n",
      " ...\n",
      " 'Bar & grill, Convenience store, Lottery retailer, Pizza delivery, Propane supplier, Sandwich shop'\n",
      " 'Brazilian restaurant, Bistro, Brazilian pastelaria, Diner, Fast food restaurant, Pub, Restaurant'\n",
      " 'German restaurant, Bar, Restaurant']\n"
     ]
    }
   ],
   "source": [
    "print(\"Reviews: \", reviews['category'].unique())\n",
    "print(\"Sitios: \", sitios['category'].unique())"
   ]
  },
  {
   "cell_type": "markdown",
   "metadata": {},
   "source": [
    "----"
   ]
  },
  {
   "cell_type": "markdown",
   "metadata": {},
   "source": [
    "1. **Distribución de Categorías:**\n",
    "   - Se observa que la categoría \"Restaurant\" es la más común en el conjunto de datos, seguida por \"Mexican restaurant\" y \"Pizza restaurant\". Esto sugiere una fuerte presencia de lugares de comida en el conjunto de datos.\n",
    "\n",
    "2. **Variedad de Comida:**\n",
    "   - La presencia de varias categorías de restaurantes como \"Mexican restaurant\", \"Pizza restaurant\", \"American restaurant\", \"Italian restaurant\", etc., indica una diversidad en la oferta gastronómica.\n",
    "\n",
    "3. **Preferencias Culinarias:**\n",
    "   - La cantidad significativa de \"Bar & grill\" y \"Barbecue restaurant\" sugiere una preferencia por opciones de barbacoa y parrilla en la zona.\n",
    "\n",
    "4. **Rapidez vs. Experiencia Culinaria:**\n",
    "   - La presencia de \"Fast food restaurant\" junto con otras categorías de restaurantes podría indicar una combinación de preferencias por opciones rápidas y experiencias gastronómicas más elaboradas.\n",
    "\n",
    "5. **Cocina Internacional:**\n",
    "   - La presencia de categorías como \"Mexican restaurant\", \"Italian restaurant\" y \"Cuban restaurant\" señala la disponibilidad de opciones de cocina internacional en la región."
   ]
  },
  {
   "cell_type": "code",
   "execution_count": 34,
   "metadata": {},
   "outputs": [
    {
     "data": {
      "image/png": "[encoded data removed]",
      "text/plain": [
       "<Figure size 1000x600 with 1 Axes>"
      ]
     },
     "metadata": {},
     "output_type": "display_data"
    }
   ],
   "source": [
    "# Obtener las 10 categorías más comunes\n",
    "top_categories = sitios['category'].value_counts().head(10)\n",
    "\n",
    "# Crear un gráfico de barras\n",
    "plt.figure(figsize=(10, 6))\n",
    "sns.barplot(x=top_categories.values, y=top_categories.index, palette='viridis')\n",
    "plt.xlabel('Cantidad de Sitios')\n",
    "plt.ylabel('Categoría')\n",
    "plt.title('Top 10 Categorías de Sitios')\n",
    "plt.show()"
   ]
  },
  {
   "cell_type": "code",
   "execution_count": 75,
   "metadata": {},
   "outputs": [
    {
     "data": {
      "text/html": [
       "<div>\n",
       "<style scoped>\n",
       "    .dataframe tbody tr th:only-of-type {\n",
       "        vertical-align: middle;\n",
       "    }\n",
       "\n",
       "    .dataframe tbody tr th {\n",
       "        vertical-align: top;\n",
       "    }\n",
       "\n",
       "    .dataframe thead th {\n",
       "        text-align: right;\n",
       "    }\n",
       "</style>\n",
       "<table border=\"1\" class=\"dataframe\">\n",
       "  <thead>\n",
       "    <tr style=\"text-align: right;\">\n",
       "      <th></th>\n",
       "      <th>Categoría</th>\n",
       "      <th>Promedio de Rating</th>\n",
       "    </tr>\n",
       "  </thead>\n",
       "  <tbody>\n",
       "    <tr>\n",
       "      <th>0</th>\n",
       "      <td>Restaurant</td>\n",
       "      <td>4.294372</td>\n",
       "    </tr>\n",
       "    <tr>\n",
       "      <th>1</th>\n",
       "      <td>Mexican restaurant</td>\n",
       "      <td>4.337276</td>\n",
       "    </tr>\n",
       "    <tr>\n",
       "      <th>2</th>\n",
       "      <td>Pizza restaurant</td>\n",
       "      <td>4.211111</td>\n",
       "    </tr>\n",
       "    <tr>\n",
       "      <th>3</th>\n",
       "      <td>American restaurant</td>\n",
       "      <td>4.259444</td>\n",
       "    </tr>\n",
       "    <tr>\n",
       "      <th>4</th>\n",
       "      <td>Bar &amp; grill</td>\n",
       "      <td>4.183832</td>\n",
       "    </tr>\n",
       "    <tr>\n",
       "      <th>5</th>\n",
       "      <td>Seafood restaurant</td>\n",
       "      <td>4.262500</td>\n",
       "    </tr>\n",
       "    <tr>\n",
       "      <th>6</th>\n",
       "      <td>Italian restaurant</td>\n",
       "      <td>4.313768</td>\n",
       "    </tr>\n",
       "    <tr>\n",
       "      <th>7</th>\n",
       "      <td>Barbecue restaurant</td>\n",
       "      <td>4.350746</td>\n",
       "    </tr>\n",
       "    <tr>\n",
       "      <th>8</th>\n",
       "      <td>Fast food restaurant</td>\n",
       "      <td>4.240984</td>\n",
       "    </tr>\n",
       "    <tr>\n",
       "      <th>9</th>\n",
       "      <td>Cuban restaurant</td>\n",
       "      <td>4.343333</td>\n",
       "    </tr>\n",
       "  </tbody>\n",
       "</table>\n",
       "</div>"
      ],
      "text/plain": [
       "              Categoría  Promedio de Rating\n",
       "0            Restaurant            4.294372\n",
       "1    Mexican restaurant            4.337276\n",
       "2      Pizza restaurant            4.211111\n",
       "3   American restaurant            4.259444\n",
       "4           Bar & grill            4.183832\n",
       "5    Seafood restaurant            4.262500\n",
       "6    Italian restaurant            4.313768\n",
       "7   Barbecue restaurant            4.350746\n",
       "8  Fast food restaurant            4.240984\n",
       "9      Cuban restaurant            4.343333"
      ]
     },
     "execution_count": 75,
     "metadata": {},
     "output_type": "execute_result"
    }
   ],
   "source": [
    "# Crear un DataFrame con el top 10 de categorías y su promedio de rating\n",
    "top_categories_data = []\n",
    "for category in top_categories:\n",
    "    avg_rating = sitios[sitios['category'] == category]['avg_rating'].mean()\n",
    "    top_categories_data.append({'Categoría': category, 'Promedio de Rating': avg_rating})\n",
    "\n",
    "top_categories_df = pd.DataFrame(top_categories_data)\n",
    "\n",
    "# Imprimir el DataFrame con las 10 categorías y el promedio de rating\n",
    "top_categories_df"
   ]
  },
  {
   "cell_type": "markdown",
   "metadata": {},
   "source": [
    "----"
   ]
  },
  {
   "cell_type": "markdown",
   "metadata": {},
   "source": [
    "Este código realiza las siguientes operaciones:\n",
    "\n",
    "1. Realiza una fusión (join) entre los DataFrames 'reviews' y 'sitios' utilizando la columna en común 'gmap_id'. Los resultados se almacenan en el DataFrame 'google', y se añaden sufijos '_reviews' y '_sitios' para distinguir las columnas con nombres duplicados.\n",
    "2. Cambia el nombre de la columna 'name_reviews' a 'user_name'.\n",
    "3. Elimina la columna 'state_reviews'.\n",
    "4. Elimina la columna 'category_reviews'.\n",
    "5. Cambia el nombre de la columna 'name_sitios' a 'site_name'.\n",
    "6. Calcula la cantidad de comas en cada valor de la columna 'address' y crea una nueva columna 'comma_count' con estos valores.\n",
    "7. Define una función llamada 'extract_city' que utiliza la información de 'comma_count' y 'address' para extraer el nombre de la ciudad.\n",
    "8. Aplica la función 'extract_city' para crear una nueva columna 'city' en el DataFrame 'google'.\n",
    "9. Elimina la columna 'comma_count'.\n",
    "10. Cambia el nombre de la columna 'category_sitios' a 'category'.\n",
    "11. Cambia el nombre de la columna 'state_sitios' a 'state'.\n",
    "\n",
    "En resumen, este código une DataFrames, ajusta nombres de columnas, realiza cálculos basados en los datos de las columnas 'address' y 'comma_count', y finalmente, cambia los nombres de algunas columnas."
   ]
  },
  {
   "cell_type": "code",
   "execution_count": 55,
   "metadata": {},
   "outputs": [],
   "source": [
    "# Une los DataFrames por la columna en común \"name\"\n",
    "google = pd.merge(reviews, sitios, on='gmap_id', suffixes=('_reviews', '_sitios'))\n",
    "\n",
    "# Renombra la columna 'name_reviews' como 'user_name'\n",
    "google.rename(columns={'name_reviews': 'user_name'}, inplace=True)\n",
    "\n",
    "# Renombra la columna 'category_sitios' como 'category'\n",
    "google.rename(columns={'category_sitios': 'category'}, inplace=True)\n",
    "\n",
    "# Elimina la columna 'state_reviews'\n",
    "google.drop(columns=['state_reviews'], inplace=True)\n",
    "\n",
    "# Renombra la columna 'name_sitios' como 'site_name'\n",
    "google.rename(columns={'name_sitios': 'site_name'}, inplace=True)\n",
    "\n",
    "# Cuenta la cantidad de comas en cada valor de la columna 'address' y agregarlo como una nueva columna 'comma_count'\n",
    "google['comma_count'] = google['address'].apply(lambda x: x.count(','))\n",
    "\n",
    "def extract_city(row):\n",
    "    comma_count = row['comma_count']\n",
    "    address_parts = row['address'].split(',')\n",
    "\n",
    "    if len(address_parts) >= comma_count + 1:\n",
    "        if address_parts[-1].strip() == 'United States':\n",
    "            comma_count -= 1\n",
    "        \n",
    "        return address_parts[comma_count - 1].strip() if comma_count > 0 else None\n",
    "    else:\n",
    "        return None\n",
    "\n",
    "# Aplica la función para crear la columna 'city'\n",
    "google['city'] = google.apply(extract_city, axis=1)\n",
    "\n",
    "# Elimina la columna 'comma_count'\n",
    "google.drop(columns=['comma_count'], inplace=True)\n",
    "\n",
    "# Elimina la columna 'category_reviews'\n",
    "google.drop(columns=['category_reviews'], inplace=True)\n",
    "\n",
    "# Cambia el nombre de la columna 'state_sitios' a 'state'\n",
    "google.rename(columns={'state_sitios': 'state'}, inplace=True)"
   ]
  },
  {
   "cell_type": "code",
   "execution_count": 56,
   "metadata": {},
   "outputs": [
    {
     "data": {
      "text/html": [
       "<div>\n",
       "<style scoped>\n",
       "    .dataframe tbody tr th:only-of-type {\n",
       "        vertical-align: middle;\n",
       "    }\n",
       "\n",
       "    .dataframe tbody tr th {\n",
       "        vertical-align: top;\n",
       "    }\n",
       "\n",
       "    .dataframe thead th {\n",
       "        text-align: right;\n",
       "    }\n",
       "</style>\n",
       "<table border=\"1\" class=\"dataframe\">\n",
       "  <thead>\n",
       "    <tr style=\"text-align: right;\">\n",
       "      <th></th>\n",
       "      <th>user_id</th>\n",
       "      <th>user_name</th>\n",
       "      <th>time</th>\n",
       "      <th>rating</th>\n",
       "      <th>text</th>\n",
       "      <th>pics</th>\n",
       "      <th>resp</th>\n",
       "      <th>gmap_id</th>\n",
       "      <th>year</th>\n",
       "      <th>site_name</th>\n",
       "      <th>address</th>\n",
       "      <th>latitude</th>\n",
       "      <th>longitude</th>\n",
       "      <th>category</th>\n",
       "      <th>avg_rating</th>\n",
       "      <th>num_of_reviews</th>\n",
       "      <th>MISC</th>\n",
       "      <th>state</th>\n",
       "      <th>city</th>\n",
       "    </tr>\n",
       "  </thead>\n",
       "  <tbody>\n",
       "    <tr>\n",
       "      <th>0</th>\n",
       "      <td>115555317336182880909</td>\n",
       "      <td>Hand Pipkin</td>\n",
       "      <td>2021-03-05 08:12:30.931</td>\n",
       "      <td>5</td>\n",
       "      <td>I tried this place before with a friend and I ...</td>\n",
       "      <td>None</td>\n",
       "      <td>None</td>\n",
       "      <td>0x88d9ba5d65937567:0xbc27649cf513cc89</td>\n",
       "      <td>2021</td>\n",
       "      <td>Bachata Rosa</td>\n",
       "      <td>Bachata Rosa, 887w W 29th St, Hialeah, FL 33012</td>\n",
       "      <td>25.848173</td>\n",
       "      <td>-80.299773</td>\n",
       "      <td>Restaurant</td>\n",
       "      <td>3.6</td>\n",
       "      <td>8</td>\n",
       "      <td>{'Accessibility': ['Wheelchair accessible entr...</td>\n",
       "      <td>Florida</td>\n",
       "      <td>Hialeah</td>\n",
       "    </tr>\n",
       "    <tr>\n",
       "      <th>1</th>\n",
       "      <td>116868398574195893423</td>\n",
       "      <td>RBL MIA</td>\n",
       "      <td>2019-04-11 21:09:02.530</td>\n",
       "      <td>5</td>\n",
       "      <td>Great food, good vibe Friendly staff</td>\n",
       "      <td>None</td>\n",
       "      <td>None</td>\n",
       "      <td>0x88d9ba5d65937567:0xbc27649cf513cc89</td>\n",
       "      <td>2019</td>\n",
       "      <td>Bachata Rosa</td>\n",
       "      <td>Bachata Rosa, 887w W 29th St, Hialeah, FL 33012</td>\n",
       "      <td>25.848173</td>\n",
       "      <td>-80.299773</td>\n",
       "      <td>Restaurant</td>\n",
       "      <td>3.6</td>\n",
       "      <td>8</td>\n",
       "      <td>{'Accessibility': ['Wheelchair accessible entr...</td>\n",
       "      <td>Florida</td>\n",
       "      <td>Hialeah</td>\n",
       "    </tr>\n",
       "    <tr>\n",
       "      <th>2</th>\n",
       "      <td>108980207532919653709</td>\n",
       "      <td>Andres Cabrera</td>\n",
       "      <td>2020-08-24 02:17:49.143</td>\n",
       "      <td>1</td>\n",
       "      <td>Translated by Google I do not recommend it\\n\\n...</td>\n",
       "      <td>None</td>\n",
       "      <td>None</td>\n",
       "      <td>0x88d9ba5d65937567:0xbc27649cf513cc89</td>\n",
       "      <td>2020</td>\n",
       "      <td>Bachata Rosa</td>\n",
       "      <td>Bachata Rosa, 887w W 29th St, Hialeah, FL 33012</td>\n",
       "      <td>25.848173</td>\n",
       "      <td>-80.299773</td>\n",
       "      <td>Restaurant</td>\n",
       "      <td>3.6</td>\n",
       "      <td>8</td>\n",
       "      <td>{'Accessibility': ['Wheelchair accessible entr...</td>\n",
       "      <td>Florida</td>\n",
       "      <td>Hialeah</td>\n",
       "    </tr>\n",
       "    <tr>\n",
       "      <th>3</th>\n",
       "      <td>117319787586472008973</td>\n",
       "      <td>Robert Arango, Jr.</td>\n",
       "      <td>2019-10-02 19:25:15.492</td>\n",
       "      <td>5</td>\n",
       "      <td>None</td>\n",
       "      <td>None</td>\n",
       "      <td>None</td>\n",
       "      <td>0x88d9ba5d65937567:0xbc27649cf513cc89</td>\n",
       "      <td>2019</td>\n",
       "      <td>Bachata Rosa</td>\n",
       "      <td>Bachata Rosa, 887w W 29th St, Hialeah, FL 33012</td>\n",
       "      <td>25.848173</td>\n",
       "      <td>-80.299773</td>\n",
       "      <td>Restaurant</td>\n",
       "      <td>3.6</td>\n",
       "      <td>8</td>\n",
       "      <td>{'Accessibility': ['Wheelchair accessible entr...</td>\n",
       "      <td>Florida</td>\n",
       "      <td>Hialeah</td>\n",
       "    </tr>\n",
       "    <tr>\n",
       "      <th>4</th>\n",
       "      <td>105052097044648552825</td>\n",
       "      <td>Ibrahin Piñero</td>\n",
       "      <td>2021-07-24 22:37:39.059</td>\n",
       "      <td>3</td>\n",
       "      <td>None</td>\n",
       "      <td>None</td>\n",
       "      <td>None</td>\n",
       "      <td>0x88d9ba5d65937567:0xbc27649cf513cc89</td>\n",
       "      <td>2021</td>\n",
       "      <td>Bachata Rosa</td>\n",
       "      <td>Bachata Rosa, 887w W 29th St, Hialeah, FL 33012</td>\n",
       "      <td>25.848173</td>\n",
       "      <td>-80.299773</td>\n",
       "      <td>Restaurant</td>\n",
       "      <td>3.6</td>\n",
       "      <td>8</td>\n",
       "      <td>{'Accessibility': ['Wheelchair accessible entr...</td>\n",
       "      <td>Florida</td>\n",
       "      <td>Hialeah</td>\n",
       "    </tr>\n",
       "  </tbody>\n",
       "</table>\n",
       "</div>"
      ],
      "text/plain": [
       "                 user_id           user_name                    time  rating  \\\n",
       "0  115555317336182880909         Hand Pipkin 2021-03-05 08:12:30.931       5   \n",
       "1  116868398574195893423             RBL MIA 2019-04-11 21:09:02.530       5   \n",
       "2  108980207532919653709      Andres Cabrera 2020-08-24 02:17:49.143       1   \n",
       "3  117319787586472008973  Robert Arango, Jr. 2019-10-02 19:25:15.492       5   \n",
       "4  105052097044648552825      Ibrahin Piñero 2021-07-24 22:37:39.059       3   \n",
       "\n",
       "                                                text  pics  resp  \\\n",
       "0  I tried this place before with a friend and I ...  None  None   \n",
       "1               Great food, good vibe Friendly staff  None  None   \n",
       "2  Translated by Google I do not recommend it\\n\\n...  None  None   \n",
       "3                                               None  None  None   \n",
       "4                                               None  None  None   \n",
       "\n",
       "                                 gmap_id  year     site_name  \\\n",
       "0  0x88d9ba5d65937567:0xbc27649cf513cc89  2021  Bachata Rosa   \n",
       "1  0x88d9ba5d65937567:0xbc27649cf513cc89  2019  Bachata Rosa   \n",
       "2  0x88d9ba5d65937567:0xbc27649cf513cc89  2020  Bachata Rosa   \n",
       "3  0x88d9ba5d65937567:0xbc27649cf513cc89  2019  Bachata Rosa   \n",
       "4  0x88d9ba5d65937567:0xbc27649cf513cc89  2021  Bachata Rosa   \n",
       "\n",
       "                                           address   latitude  longitude  \\\n",
       "0  Bachata Rosa, 887w W 29th St, Hialeah, FL 33012  25.848173 -80.299773   \n",
       "1  Bachata Rosa, 887w W 29th St, Hialeah, FL 33012  25.848173 -80.299773   \n",
       "2  Bachata Rosa, 887w W 29th St, Hialeah, FL 33012  25.848173 -80.299773   \n",
       "3  Bachata Rosa, 887w W 29th St, Hialeah, FL 33012  25.848173 -80.299773   \n",
       "4  Bachata Rosa, 887w W 29th St, Hialeah, FL 33012  25.848173 -80.299773   \n",
       "\n",
       "     category  avg_rating  num_of_reviews  \\\n",
       "0  Restaurant         3.6               8   \n",
       "1  Restaurant         3.6               8   \n",
       "2  Restaurant         3.6               8   \n",
       "3  Restaurant         3.6               8   \n",
       "4  Restaurant         3.6               8   \n",
       "\n",
       "                                                MISC    state     city  \n",
       "0  {'Accessibility': ['Wheelchair accessible entr...  Florida  Hialeah  \n",
       "1  {'Accessibility': ['Wheelchair accessible entr...  Florida  Hialeah  \n",
       "2  {'Accessibility': ['Wheelchair accessible entr...  Florida  Hialeah  \n",
       "3  {'Accessibility': ['Wheelchair accessible entr...  Florida  Hialeah  \n",
       "4  {'Accessibility': ['Wheelchair accessible entr...  Florida  Hialeah  "
      ]
     },
     "execution_count": 56,
     "metadata": {},
     "output_type": "execute_result"
    }
   ],
   "source": [
    "google.head()"
   ]
  },
  {
   "cell_type": "markdown",
   "metadata": {},
   "source": [
    "----"
   ]
  },
  {
   "cell_type": "code",
   "execution_count": 58,
   "metadata": {},
   "outputs": [
    {
     "data": {
      "text/plain": [
       "array(['Restaurant'], dtype=object)"
      ]
     },
     "execution_count": 58,
     "metadata": {},
     "output_type": "execute_result"
    }
   ],
   "source": [
    "google['category'].unique()"
   ]
  },
  {
   "cell_type": "markdown",
   "metadata": {},
   "source": [
    "----"
   ]
  },
  {
   "cell_type": "markdown",
   "metadata": {},
   "source": [
    "1. **Distribución de Calificaciones**: Hay un total de 22,086 calificaciones en el conjunto de datos. Las calificaciones se distribuyen en un rango del 1 al 5.\n",
    "\n",
    "2. **Calificación Promedio**: La calificación promedio es aproximadamente 4.38. Esto sugiere que, en general, las experiencias evaluadas tienden a ser positivas.\n",
    "\n",
    "3. **Variabilidad de Calificaciones**: La desviación estándar de aproximadamente 1.12 indica que las calificaciones varían en torno a la calificación promedio. Hay cierta variabilidad en las opiniones de los usuarios.\n",
    "\n",
    "4. **Calificación Mínima**: La calificación mínima es 1, lo que significa que hay al menos algunas experiencias muy negativas según las evaluaciones.\n",
    "\n",
    "5. **Calificaciones Altas**: El 50% de las calificaciones están en el rango de 4 a 5. Además, el tercer cuartil (Q3) también es 5, lo que indica que el 75% de las calificaciones son 5. Esto sugiere que una gran parte de las calificaciones son altas, lo que podría indicar experiencias positivas en general.\n",
    "\n",
    "En resumen, las calificaciones en este conjunto de datos parecen ser mayoritariamente positivas, con un promedio cercano a 4.38 y una variabilidad moderada en las opiniones de los usuarios. La mayoría de las calificaciones son altas (4 o 5), pero también hay algunas calificaciones bajas (1)."
   ]
  },
  {
   "cell_type": "code",
   "execution_count": 76,
   "metadata": {},
   "outputs": [
    {
     "data": {
      "text/plain": [
       "count    24114.000000\n",
       "mean         4.395953\n",
       "std          1.100767\n",
       "min          1.000000\n",
       "25%          4.000000\n",
       "50%          5.000000\n",
       "75%          5.000000\n",
       "max          5.000000\n",
       "Name: rating, dtype: float64"
      ]
     },
     "execution_count": 76,
     "metadata": {},
     "output_type": "execute_result"
    }
   ],
   "source": [
    "google['rating'].describe()"
   ]
  },
  {
   "cell_type": "code",
   "execution_count": 77,
   "metadata": {},
   "outputs": [
    {
     "data": {
      "text/plain": [
       "<Axes: xlabel='rating', ylabel='Count'>"
      ]
     },
     "execution_count": 77,
     "metadata": {},
     "output_type": "execute_result"
    },
    {
     "data": {
      "image/png": "[encoded data removed]",
      "text/plain": [
       "<Figure size 640x480 with 1 Axes>"
      ]
     },
     "metadata": {},
     "output_type": "display_data"
    }
   ],
   "source": [
    "sns.histplot(google['rating'], bins=5)  # kde=True agrega una estimación de la densidad"
   ]
  },
  {
   "cell_type": "markdown",
   "metadata": {},
   "source": [
    "----"
   ]
  },
  {
   "cell_type": "markdown",
   "metadata": {},
   "source": [
    "Basado en los promedios de calificaciones por año, podemos llegar a las siguientes conclusiones:\n",
    "\n",
    "1. **Año 2021**: En 2021, el promedio de calificación es 4.43. Esto sugiere que las experiencias evaluadas durante este año fueron en su mayoría positivas.\n",
    "\n",
    "2. **Año 2019**: En 2019, el promedio de calificación es 4.37. Parece que las experiencias también fueron evaluadas positivamente durante este año.\n",
    "\n",
    "3. **Año 2020**: Durante el año 2020, el promedio de calificación es 4.48. Las experiencias parecen haber sido consistentemente buenas, ya que la calificación promedio es alta.\n",
    "\n",
    "4. **Año 2018**: En 2018, el promedio de calificación es 4.30. Aunque ligeramente menor que otros años, sigue indicando evaluaciones positivas.\n",
    "\n",
    "5. **Años Anteriores**: En años anteriores como 2015, 2016, 2014, 2017, 2013, y 2011, las calificaciones también son positivas, con promedios que oscilan entre 4.05 y 4.22.\n",
    "\n",
    "6. **Años Menos Favorables**: Vemos como durante el 2012, el rating de locales tuvo una caida significativa que podría relacionarse con la mejora económica posterior a la crisis de 2008 en Estados Unidos. Con una economía recuperándose, los consumidores tienen más recursos y elevaban sus expectativas. Esto puede llevar a una mayor sensibilidad a la calidad y a menos tolerancia hacia experiencias de menor nivel."
   ]
  },
  {
   "cell_type": "code",
   "execution_count": 78,
   "metadata": {},
   "outputs": [
    {
     "data": {
      "text/plain": [
       "<Axes: xlabel='year', ylabel='rating'>"
      ]
     },
     "execution_count": 78,
     "metadata": {},
     "output_type": "execute_result"
    },
    {
     "data": {
      "image/png": "[encoded data removed]",
      "text/plain": [
       "<Figure size 640x480 with 1 Axes>"
      ]
     },
     "metadata": {},
     "output_type": "display_data"
    }
   ],
   "source": [
    "# Filtra las advertencias FutureWarning\n",
    "warnings.simplefilter(action='ignore', category=FutureWarning)\n",
    "\n",
    "# Crea el gráfico sin mostrar el FutureWarning\n",
    "sns.lineplot(x='year', y='rating', data=google, ci=None)"
   ]
  },
  {
   "cell_type": "markdown",
   "metadata": {},
   "source": [
    "----"
   ]
  },
  {
   "cell_type": "markdown",
   "metadata": {},
   "source": [
    "En base a la distribución de años en los datos:\n",
    "\n",
    "- La mayoría de los registros se concentran en los años más recientes, específicamente en los años 2019, 2020 y 2021.\n",
    "- Los años anteriores, como 2010-2018, tienen una cantidad significativamente menor de registros en comparación con los años más recientes.\n",
    "- Los años 2012, 2013 y 2017 también tienen una cantidad moderada de registros.\n",
    "\n",
    "Estas conclusiones resumen cómo se distribuyen los registros en función de los años y ofrecen una visión general de la frecuencia de las calificaciones a lo largo del tiempo."
   ]
  },
  {
   "cell_type": "code",
   "execution_count": 79,
   "metadata": {},
   "outputs": [
    {
     "data": {
      "text/plain": [
       "<Axes: xlabel='year', ylabel='Count'>"
      ]
     },
     "execution_count": 79,
     "metadata": {},
     "output_type": "execute_result"
    },
    {
     "data": {
      "image/png": "[encoded data removed]",
      "text/plain": [
       "<Figure size 640x480 with 1 Axes>"
      ]
     },
     "metadata": {},
     "output_type": "display_data"
    }
   ],
   "source": [
    "sns.histplot(google['year'], bins=11)  # kde=True agrega una estimación de la densidad"
   ]
  }
 ],
 "metadata": {
  "kernelspec": {
   "display_name": "Python 3",
   "language": "python",
   "name": "python3"
  },
  "language_info": {
   "codemirror_mode": {
    "name": "ipython",
    "version": 3
   },
   "file_extension": ".py",
   "mimetype": "text/x-python",
   "name": "python",
   "nbconvert_exporter": "python",
   "pygments_lexer": "ipython3",
   "version": "3.10.9"
  },
  "orig_nbformat": 4
 },
 "nbformat": 4,
 "nbformat_minor": 2
}

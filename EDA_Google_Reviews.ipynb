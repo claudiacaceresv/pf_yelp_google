{
 "cells": [
  {
   "cell_type": "markdown",
   "metadata": {},
   "source": [
    "## EDA GOOGLE REVIEWS\n",
    "A continuación vamos a realizar el EDA de la base de datos que generamos previamente y con el estado ya seleccionado en el alcance del proyecto y con los análisis preeliminares.  \n",
    "Vamos a comenzar analizando la estructura de la base de datos, realizando una limpieza de duplicados, analizando los nulos y que información tiene cada columna."
   ]
  },
  {
   "cell_type": "code",
   "execution_count": 53,
   "metadata": {},
   "outputs": [],
   "source": [
    "import numpy as np\n",
    "import pandas as pd\n",
    "import matplotlib as plt\n",
    "import seaborn as sns"
   ]
  },
  {
   "cell_type": "code",
   "execution_count": 54,
   "metadata": {},
   "outputs": [],
   "source": [
    "df = pd.read_parquet('C:/Users/Mariano/Desktop/Soy Henry/Proyecto Final/Bases_de_datos/Google Maps/reviews-estados/data/review-Florida.parquet')"
   ]
  },
  {
   "cell_type": "code",
   "execution_count": 55,
   "metadata": {},
   "outputs": [
    {
     "data": {
      "text/html": [
       "<div>\n",
       "<style scoped>\n",
       "    .dataframe tbody tr th:only-of-type {\n",
       "        vertical-align: middle;\n",
       "    }\n",
       "\n",
       "    .dataframe tbody tr th {\n",
       "        vertical-align: top;\n",
       "    }\n",
       "\n",
       "    .dataframe thead th {\n",
       "        text-align: right;\n",
       "    }\n",
       "</style>\n",
       "<table border=\"1\" class=\"dataframe\">\n",
       "  <thead>\n",
       "    <tr style=\"text-align: right;\">\n",
       "      <th></th>\n",
       "      <th>user_id</th>\n",
       "      <th>name</th>\n",
       "      <th>time</th>\n",
       "      <th>rating</th>\n",
       "      <th>text</th>\n",
       "      <th>pics</th>\n",
       "      <th>resp</th>\n",
       "      <th>gmap_id</th>\n",
       "      <th>state</th>\n",
       "      <th>year</th>\n",
       "    </tr>\n",
       "  </thead>\n",
       "  <tbody>\n",
       "    <tr>\n",
       "      <th>0</th>\n",
       "      <td>101471856155148729010</td>\n",
       "      <td>Julie A. Gerber</td>\n",
       "      <td>2021-08-03 15:07:30.740</td>\n",
       "      <td>1</td>\n",
       "      <td>Update: Their “reply” to my review amounted to...</td>\n",
       "      <td>None</td>\n",
       "      <td>{'text': 'Thank you for the feedback. We would...</td>\n",
       "      <td>0x8893863ea87bd5dd:0x9383ebf973e74abb</td>\n",
       "      <td>Florida</td>\n",
       "      <td>2021</td>\n",
       "    </tr>\n",
       "    <tr>\n",
       "      <th>1</th>\n",
       "      <td>115477234789038326051</td>\n",
       "      <td>Martin Sheffield</td>\n",
       "      <td>2020-07-18 00:13:37.005</td>\n",
       "      <td>5</td>\n",
       "      <td>He's a knowledgeable doctor but the way he run...</td>\n",
       "      <td>None</td>\n",
       "      <td>{'text': 'Thank you for reaching out. I’m forw...</td>\n",
       "      <td>0x8893863ea87bd5dd:0x9383ebf973e74abb</td>\n",
       "      <td>Florida</td>\n",
       "      <td>2020</td>\n",
       "    </tr>\n",
       "    <tr>\n",
       "      <th>2</th>\n",
       "      <td>101805010244892834381</td>\n",
       "      <td>Brian Truett</td>\n",
       "      <td>2018-04-05 10:30:53.567</td>\n",
       "      <td>5</td>\n",
       "      <td>Best doctor I've ever had, I never wait to be ...</td>\n",
       "      <td>None</td>\n",
       "      <td>None</td>\n",
       "      <td>0x8893863ea87bd5dd:0x9383ebf973e74abb</td>\n",
       "      <td>Florida</td>\n",
       "      <td>2018</td>\n",
       "    </tr>\n",
       "    <tr>\n",
       "      <th>3</th>\n",
       "      <td>106344422881493743981</td>\n",
       "      <td>Tina Sun</td>\n",
       "      <td>2016-07-07 16:10:19.586</td>\n",
       "      <td>1</td>\n",
       "      <td>I was told he is a good doctor. I was trying t...</td>\n",
       "      <td>None</td>\n",
       "      <td>None</td>\n",
       "      <td>0x8893863ea87bd5dd:0x9383ebf973e74abb</td>\n",
       "      <td>Florida</td>\n",
       "      <td>2016</td>\n",
       "    </tr>\n",
       "    <tr>\n",
       "      <th>4</th>\n",
       "      <td>100875113069561776529</td>\n",
       "      <td>James Haynes</td>\n",
       "      <td>2016-12-02 12:56:55.081</td>\n",
       "      <td>5</td>\n",
       "      <td>Takes the time to actually get to know his pat...</td>\n",
       "      <td>None</td>\n",
       "      <td>None</td>\n",
       "      <td>0x8893863ea87bd5dd:0x9383ebf973e74abb</td>\n",
       "      <td>Florida</td>\n",
       "      <td>2016</td>\n",
       "    </tr>\n",
       "  </tbody>\n",
       "</table>\n",
       "</div>"
      ],
      "text/plain": [
       "                 user_id              name                    time  rating   \n",
       "0  101471856155148729010   Julie A. Gerber 2021-08-03 15:07:30.740       1  \\\n",
       "1  115477234789038326051  Martin Sheffield 2020-07-18 00:13:37.005       5   \n",
       "2  101805010244892834381      Brian Truett 2018-04-05 10:30:53.567       5   \n",
       "3  106344422881493743981          Tina Sun 2016-07-07 16:10:19.586       1   \n",
       "4  100875113069561776529      James Haynes 2016-12-02 12:56:55.081       5   \n",
       "\n",
       "                                                text  pics   \n",
       "0  Update: Their “reply” to my review amounted to...  None  \\\n",
       "1  He's a knowledgeable doctor but the way he run...  None   \n",
       "2  Best doctor I've ever had, I never wait to be ...  None   \n",
       "3  I was told he is a good doctor. I was trying t...  None   \n",
       "4  Takes the time to actually get to know his pat...  None   \n",
       "\n",
       "                                                resp   \n",
       "0  {'text': 'Thank you for the feedback. We would...  \\\n",
       "1  {'text': 'Thank you for reaching out. I’m forw...   \n",
       "2                                               None   \n",
       "3                                               None   \n",
       "4                                               None   \n",
       "\n",
       "                                 gmap_id    state  year  \n",
       "0  0x8893863ea87bd5dd:0x9383ebf973e74abb  Florida  2021  \n",
       "1  0x8893863ea87bd5dd:0x9383ebf973e74abb  Florida  2020  \n",
       "2  0x8893863ea87bd5dd:0x9383ebf973e74abb  Florida  2018  \n",
       "3  0x8893863ea87bd5dd:0x9383ebf973e74abb  Florida  2016  \n",
       "4  0x8893863ea87bd5dd:0x9383ebf973e74abb  Florida  2016  "
      ]
     },
     "execution_count": 55,
     "metadata": {},
     "output_type": "execute_result"
    }
   ],
   "source": [
    "df.head(5)"
   ]
  },
  {
   "cell_type": "markdown",
   "metadata": {},
   "source": [
    "A partir del archivo de base de locales, traemos la categoría para así poder trabajar solamente con los locales de las categorías en las que estamos interesados.  \n",
    "Lo haremos mediante un left inner join."
   ]
  },
  {
   "cell_type": "code",
   "execution_count": 56,
   "metadata": {},
   "outputs": [
    {
     "data": {
      "text/html": [
       "<div>\n",
       "<style scoped>\n",
       "    .dataframe tbody tr th:only-of-type {\n",
       "        vertical-align: middle;\n",
       "    }\n",
       "\n",
       "    .dataframe tbody tr th {\n",
       "        vertical-align: top;\n",
       "    }\n",
       "\n",
       "    .dataframe thead th {\n",
       "        text-align: right;\n",
       "    }\n",
       "</style>\n",
       "<table border=\"1\" class=\"dataframe\">\n",
       "  <thead>\n",
       "    <tr style=\"text-align: right;\">\n",
       "      <th></th>\n",
       "      <th>name</th>\n",
       "      <th>address</th>\n",
       "      <th>gmap_id</th>\n",
       "      <th>latitude</th>\n",
       "      <th>longitude</th>\n",
       "      <th>category</th>\n",
       "      <th>avg_rating</th>\n",
       "      <th>num_of_reviews</th>\n",
       "      <th>state</th>\n",
       "    </tr>\n",
       "  </thead>\n",
       "  <tbody>\n",
       "    <tr>\n",
       "      <th>0</th>\n",
       "      <td>Vons Chicken</td>\n",
       "      <td>Vons Chicken, 12740 La Mirada Blvd, La Mirada,...</td>\n",
       "      <td>0x80dd2b4c8555edb7:0xfc33d65c4bdbef42</td>\n",
       "      <td>33.916402</td>\n",
       "      <td>-118.010855</td>\n",
       "      <td>Restaurant</td>\n",
       "      <td>4.5</td>\n",
       "      <td>18</td>\n",
       "      <td>California</td>\n",
       "    </tr>\n",
       "    <tr>\n",
       "      <th>1</th>\n",
       "      <td>Vivi Bubble Tea</td>\n",
       "      <td>Vivi Bubble Tea, 701 S 5th St, Philadelphia, P...</td>\n",
       "      <td>0x89c6c89efcaed69d:0xded973f6033e7dba</td>\n",
       "      <td>39.940293</td>\n",
       "      <td>-75.150923</td>\n",
       "      <td>Restaurant</td>\n",
       "      <td>4.0</td>\n",
       "      <td>8</td>\n",
       "      <td>New Jersey</td>\n",
       "    </tr>\n",
       "    <tr>\n",
       "      <th>2</th>\n",
       "      <td>Hale Pops</td>\n",
       "      <td>Hale Pops, 55-370 Kamehameha Hwy, Laie, HI 96762</td>\n",
       "      <td>0x7c00456eecad3111:0x8217f9600c51f33</td>\n",
       "      <td>21.637796</td>\n",
       "      <td>-157.920714</td>\n",
       "      <td>Restaurant</td>\n",
       "      <td>4.4</td>\n",
       "      <td>18</td>\n",
       "      <td>Hawaii</td>\n",
       "    </tr>\n",
       "    <tr>\n",
       "      <th>3</th>\n",
       "      <td>Cape Seafood Shack</td>\n",
       "      <td>Cape Seafood Shack, 603 Del Prado Blvd S, Cape...</td>\n",
       "      <td>0x88db4147b1d9e6f3:0x943dbd10a92ba1b1</td>\n",
       "      <td>26.641377</td>\n",
       "      <td>-81.940545</td>\n",
       "      <td>Restaurant</td>\n",
       "      <td>5.0</td>\n",
       "      <td>1</td>\n",
       "      <td>Florida</td>\n",
       "    </tr>\n",
       "    <tr>\n",
       "      <th>4</th>\n",
       "      <td>Golden Castle</td>\n",
       "      <td>Golden Castle, 1906 E 12th St, Austin, TX 78702</td>\n",
       "      <td>0x8644b59b8fe872e5:0x5e638876caa84cc3</td>\n",
       "      <td>30.273985</td>\n",
       "      <td>-97.719563</td>\n",
       "      <td>Restaurant</td>\n",
       "      <td>4.5</td>\n",
       "      <td>8</td>\n",
       "      <td>Texas</td>\n",
       "    </tr>\n",
       "  </tbody>\n",
       "</table>\n",
       "</div>"
      ],
      "text/plain": [
       "                 name                                            address   \n",
       "0        Vons Chicken  Vons Chicken, 12740 La Mirada Blvd, La Mirada,...  \\\n",
       "1     Vivi Bubble Tea  Vivi Bubble Tea, 701 S 5th St, Philadelphia, P...   \n",
       "2           Hale Pops   Hale Pops, 55-370 Kamehameha Hwy, Laie, HI 96762   \n",
       "3  Cape Seafood Shack  Cape Seafood Shack, 603 Del Prado Blvd S, Cape...   \n",
       "4       Golden Castle    Golden Castle, 1906 E 12th St, Austin, TX 78702   \n",
       "\n",
       "                                 gmap_id   latitude   longitude    category   \n",
       "0  0x80dd2b4c8555edb7:0xfc33d65c4bdbef42  33.916402 -118.010855  Restaurant  \\\n",
       "1  0x89c6c89efcaed69d:0xded973f6033e7dba  39.940293  -75.150923  Restaurant   \n",
       "2   0x7c00456eecad3111:0x8217f9600c51f33  21.637796 -157.920714  Restaurant   \n",
       "3  0x88db4147b1d9e6f3:0x943dbd10a92ba1b1  26.641377  -81.940545  Restaurant   \n",
       "4  0x8644b59b8fe872e5:0x5e638876caa84cc3  30.273985  -97.719563  Restaurant   \n",
       "\n",
       "   avg_rating  num_of_reviews       state  \n",
       "0         4.5              18  California  \n",
       "1         4.0               8  New Jersey  \n",
       "2         4.4              18      Hawaii  \n",
       "3         5.0               1     Florida  \n",
       "4         4.5               8       Texas  "
      ]
     },
     "execution_count": 56,
     "metadata": {},
     "output_type": "execute_result"
    }
   ],
   "source": [
    "df2 = pd.read_parquet('C:/Users/Mariano/Desktop/Soy Henry/Proyecto Final/Bases_de_datos/data_filtrada.parquet')\n",
    "df2.head()"
   ]
  },
  {
   "cell_type": "code",
   "execution_count": 57,
   "metadata": {},
   "outputs": [],
   "source": [
    "df = df.merge(df2[['gmap_id', 'category']], on='gmap_id', how='left')"
   ]
  },
  {
   "cell_type": "code",
   "execution_count": 58,
   "metadata": {},
   "outputs": [
    {
     "data": {
      "text/html": [
       "<div>\n",
       "<style scoped>\n",
       "    .dataframe tbody tr th:only-of-type {\n",
       "        vertical-align: middle;\n",
       "    }\n",
       "\n",
       "    .dataframe tbody tr th {\n",
       "        vertical-align: top;\n",
       "    }\n",
       "\n",
       "    .dataframe thead th {\n",
       "        text-align: right;\n",
       "    }\n",
       "</style>\n",
       "<table border=\"1\" class=\"dataframe\">\n",
       "  <thead>\n",
       "    <tr style=\"text-align: right;\">\n",
       "      <th></th>\n",
       "      <th>user_id</th>\n",
       "      <th>name</th>\n",
       "      <th>time</th>\n",
       "      <th>rating</th>\n",
       "      <th>text</th>\n",
       "      <th>pics</th>\n",
       "      <th>resp</th>\n",
       "      <th>gmap_id</th>\n",
       "      <th>state</th>\n",
       "      <th>year</th>\n",
       "      <th>category</th>\n",
       "    </tr>\n",
       "  </thead>\n",
       "  <tbody>\n",
       "    <tr>\n",
       "      <th>0</th>\n",
       "      <td>101471856155148729010</td>\n",
       "      <td>Julie A. Gerber</td>\n",
       "      <td>2021-08-03 15:07:30.740</td>\n",
       "      <td>1</td>\n",
       "      <td>Update: Their “reply” to my review amounted to...</td>\n",
       "      <td>None</td>\n",
       "      <td>{'text': 'Thank you for the feedback. We would...</td>\n",
       "      <td>0x8893863ea87bd5dd:0x9383ebf973e74abb</td>\n",
       "      <td>Florida</td>\n",
       "      <td>2021</td>\n",
       "      <td>NaN</td>\n",
       "    </tr>\n",
       "    <tr>\n",
       "      <th>1</th>\n",
       "      <td>115477234789038326051</td>\n",
       "      <td>Martin Sheffield</td>\n",
       "      <td>2020-07-18 00:13:37.005</td>\n",
       "      <td>5</td>\n",
       "      <td>He's a knowledgeable doctor but the way he run...</td>\n",
       "      <td>None</td>\n",
       "      <td>{'text': 'Thank you for reaching out. I’m forw...</td>\n",
       "      <td>0x8893863ea87bd5dd:0x9383ebf973e74abb</td>\n",
       "      <td>Florida</td>\n",
       "      <td>2020</td>\n",
       "      <td>NaN</td>\n",
       "    </tr>\n",
       "    <tr>\n",
       "      <th>2</th>\n",
       "      <td>101805010244892834381</td>\n",
       "      <td>Brian Truett</td>\n",
       "      <td>2018-04-05 10:30:53.567</td>\n",
       "      <td>5</td>\n",
       "      <td>Best doctor I've ever had, I never wait to be ...</td>\n",
       "      <td>None</td>\n",
       "      <td>None</td>\n",
       "      <td>0x8893863ea87bd5dd:0x9383ebf973e74abb</td>\n",
       "      <td>Florida</td>\n",
       "      <td>2018</td>\n",
       "      <td>NaN</td>\n",
       "    </tr>\n",
       "    <tr>\n",
       "      <th>3</th>\n",
       "      <td>106344422881493743981</td>\n",
       "      <td>Tina Sun</td>\n",
       "      <td>2016-07-07 16:10:19.586</td>\n",
       "      <td>1</td>\n",
       "      <td>I was told he is a good doctor. I was trying t...</td>\n",
       "      <td>None</td>\n",
       "      <td>None</td>\n",
       "      <td>0x8893863ea87bd5dd:0x9383ebf973e74abb</td>\n",
       "      <td>Florida</td>\n",
       "      <td>2016</td>\n",
       "      <td>NaN</td>\n",
       "    </tr>\n",
       "    <tr>\n",
       "      <th>4</th>\n",
       "      <td>100875113069561776529</td>\n",
       "      <td>James Haynes</td>\n",
       "      <td>2016-12-02 12:56:55.081</td>\n",
       "      <td>5</td>\n",
       "      <td>Takes the time to actually get to know his pat...</td>\n",
       "      <td>None</td>\n",
       "      <td>None</td>\n",
       "      <td>0x8893863ea87bd5dd:0x9383ebf973e74abb</td>\n",
       "      <td>Florida</td>\n",
       "      <td>2016</td>\n",
       "      <td>NaN</td>\n",
       "    </tr>\n",
       "  </tbody>\n",
       "</table>\n",
       "</div>"
      ],
      "text/plain": [
       "                 user_id              name                    time  rating   \n",
       "0  101471856155148729010   Julie A. Gerber 2021-08-03 15:07:30.740       1  \\\n",
       "1  115477234789038326051  Martin Sheffield 2020-07-18 00:13:37.005       5   \n",
       "2  101805010244892834381      Brian Truett 2018-04-05 10:30:53.567       5   \n",
       "3  106344422881493743981          Tina Sun 2016-07-07 16:10:19.586       1   \n",
       "4  100875113069561776529      James Haynes 2016-12-02 12:56:55.081       5   \n",
       "\n",
       "                                                text  pics   \n",
       "0  Update: Their “reply” to my review amounted to...  None  \\\n",
       "1  He's a knowledgeable doctor but the way he run...  None   \n",
       "2  Best doctor I've ever had, I never wait to be ...  None   \n",
       "3  I was told he is a good doctor. I was trying t...  None   \n",
       "4  Takes the time to actually get to know his pat...  None   \n",
       "\n",
       "                                                resp   \n",
       "0  {'text': 'Thank you for the feedback. We would...  \\\n",
       "1  {'text': 'Thank you for reaching out. I’m forw...   \n",
       "2                                               None   \n",
       "3                                               None   \n",
       "4                                               None   \n",
       "\n",
       "                                 gmap_id    state  year category  \n",
       "0  0x8893863ea87bd5dd:0x9383ebf973e74abb  Florida  2021      NaN  \n",
       "1  0x8893863ea87bd5dd:0x9383ebf973e74abb  Florida  2020      NaN  \n",
       "2  0x8893863ea87bd5dd:0x9383ebf973e74abb  Florida  2018      NaN  \n",
       "3  0x8893863ea87bd5dd:0x9383ebf973e74abb  Florida  2016      NaN  \n",
       "4  0x8893863ea87bd5dd:0x9383ebf973e74abb  Florida  2016      NaN  "
      ]
     },
     "execution_count": 58,
     "metadata": {},
     "output_type": "execute_result"
    }
   ],
   "source": [
    "df.head()"
   ]
  },
  {
   "cell_type": "code",
   "execution_count": 59,
   "metadata": {},
   "outputs": [
    {
     "data": {
      "text/plain": [
       "array([nan, 'Restaurant'], dtype=object)"
      ]
     },
     "execution_count": 59,
     "metadata": {},
     "output_type": "execute_result"
    }
   ],
   "source": [
    "df['category'].unique()"
   ]
  },
  {
   "cell_type": "markdown",
   "metadata": {},
   "source": [
    "Como vemos, solo tenemos  categorías restaurants y eliminaremos los registros restantes ya que no aportan información y nos permitirá trabajar mejor con la base de datos."
   ]
  },
  {
   "cell_type": "code",
   "execution_count": 60,
   "metadata": {},
   "outputs": [],
   "source": [
    "df = df[df['category'] == 'Restaurant']"
   ]
  },
  {
   "cell_type": "markdown",
   "metadata": {},
   "source": [
    "A continuación analizamos más en detalle las 2 columnas con texto. Aparentemente la columna text es una reseña que dejan los clientes, y está con formato texto.  \n",
    "Por otro lado la columna resp es la respuesta del local a los comentarios del cliente. Esta columna está como un diccionario con 2 keys, la primera es el texto y la segunda es la fecha de la respuesta. Vamos a proceder a dividir esta columna en 2 para poder analizarla posteriormente y trabajar el dataframe sin complicaciones."
   ]
  },
  {
   "cell_type": "code",
   "execution_count": 61,
   "metadata": {},
   "outputs": [],
   "source": [
    "df[['Texto_respuesta', 'Fecha_respuesta']] = df['resp'].apply(pd.Series)\n",
    "df = df.drop(columns=['resp'],axis=1)"
   ]
  },
  {
   "cell_type": "markdown",
   "metadata": {},
   "source": [
    "### Nulos\n",
    "A continuación, pasamos a analizar los nulos que tenemos por columna tanto en cantidad como en portentaje."
   ]
  },
  {
   "cell_type": "code",
   "execution_count": 62,
   "metadata": {},
   "outputs": [
    {
     "data": {
      "text/html": [
       "<div>\n",
       "<style scoped>\n",
       "    .dataframe tbody tr th:only-of-type {\n",
       "        vertical-align: middle;\n",
       "    }\n",
       "\n",
       "    .dataframe tbody tr th {\n",
       "        vertical-align: top;\n",
       "    }\n",
       "\n",
       "    .dataframe thead th {\n",
       "        text-align: right;\n",
       "    }\n",
       "</style>\n",
       "<table border=\"1\" class=\"dataframe\">\n",
       "  <thead>\n",
       "    <tr style=\"text-align: right;\">\n",
       "      <th></th>\n",
       "      <th>Registros</th>\n",
       "      <th>Nulos</th>\n",
       "      <th>% de Nulos</th>\n",
       "    </tr>\n",
       "  </thead>\n",
       "  <tbody>\n",
       "    <tr>\n",
       "      <th>user_id</th>\n",
       "      <td>24444</td>\n",
       "      <td>0</td>\n",
       "      <td>0.000000</td>\n",
       "    </tr>\n",
       "    <tr>\n",
       "      <th>name</th>\n",
       "      <td>24444</td>\n",
       "      <td>0</td>\n",
       "      <td>0.000000</td>\n",
       "    </tr>\n",
       "    <tr>\n",
       "      <th>time</th>\n",
       "      <td>24444</td>\n",
       "      <td>0</td>\n",
       "      <td>0.000000</td>\n",
       "    </tr>\n",
       "    <tr>\n",
       "      <th>rating</th>\n",
       "      <td>24444</td>\n",
       "      <td>0</td>\n",
       "      <td>0.000000</td>\n",
       "    </tr>\n",
       "    <tr>\n",
       "      <th>text</th>\n",
       "      <td>24444</td>\n",
       "      <td>7301</td>\n",
       "      <td>29.868270</td>\n",
       "    </tr>\n",
       "    <tr>\n",
       "      <th>pics</th>\n",
       "      <td>24444</td>\n",
       "      <td>22153</td>\n",
       "      <td>90.627557</td>\n",
       "    </tr>\n",
       "    <tr>\n",
       "      <th>gmap_id</th>\n",
       "      <td>24444</td>\n",
       "      <td>0</td>\n",
       "      <td>0.000000</td>\n",
       "    </tr>\n",
       "    <tr>\n",
       "      <th>state</th>\n",
       "      <td>24444</td>\n",
       "      <td>0</td>\n",
       "      <td>0.000000</td>\n",
       "    </tr>\n",
       "    <tr>\n",
       "      <th>year</th>\n",
       "      <td>24444</td>\n",
       "      <td>0</td>\n",
       "      <td>0.000000</td>\n",
       "    </tr>\n",
       "    <tr>\n",
       "      <th>category</th>\n",
       "      <td>24444</td>\n",
       "      <td>0</td>\n",
       "      <td>0.000000</td>\n",
       "    </tr>\n",
       "    <tr>\n",
       "      <th>Texto_respuesta</th>\n",
       "      <td>24444</td>\n",
       "      <td>20737</td>\n",
       "      <td>84.834724</td>\n",
       "    </tr>\n",
       "    <tr>\n",
       "      <th>Fecha_respuesta</th>\n",
       "      <td>24444</td>\n",
       "      <td>20737</td>\n",
       "      <td>84.834724</td>\n",
       "    </tr>\n",
       "  </tbody>\n",
       "</table>\n",
       "</div>"
      ],
      "text/plain": [
       "                 Registros  Nulos  % de Nulos\n",
       "user_id              24444      0    0.000000\n",
       "name                 24444      0    0.000000\n",
       "time                 24444      0    0.000000\n",
       "rating               24444      0    0.000000\n",
       "text                 24444   7301   29.868270\n",
       "pics                 24444  22153   90.627557\n",
       "gmap_id              24444      0    0.000000\n",
       "state                24444      0    0.000000\n",
       "year                 24444      0    0.000000\n",
       "category             24444      0    0.000000\n",
       "Texto_respuesta      24444  20737   84.834724\n",
       "Fecha_respuesta      24444  20737   84.834724"
      ]
     },
     "execution_count": 62,
     "metadata": {},
     "output_type": "execute_result"
    }
   ],
   "source": [
    "Nulos = pd.DataFrame({'Registros':len(df),'Nulos': df.isna().sum(),'% de Nulos': 100*df.isna().sum()/len(df)})\n",
    "Nulos"
   ]
  },
  {
   "cell_type": "markdown",
   "metadata": {},
   "source": [
    "Como vemos, el 90 % de los registros de pics son nulos y no es informaión que utilizaremos. Por esto procedemos a eliminar dicha columna y a continuación procedemos a eliminar duplicados"
   ]
  },
  {
   "cell_type": "code",
   "execution_count": 63,
   "metadata": {},
   "outputs": [],
   "source": [
    "df = df.drop(columns=['pics'],axis=1)"
   ]
  },
  {
   "cell_type": "code",
   "execution_count": 64,
   "metadata": {},
   "outputs": [],
   "source": [
    "df=df.drop_duplicates()"
   ]
  },
  {
   "cell_type": "code",
   "execution_count": 65,
   "metadata": {},
   "outputs": [
    {
     "data": {
      "text/html": [
       "<div>\n",
       "<style scoped>\n",
       "    .dataframe tbody tr th:only-of-type {\n",
       "        vertical-align: middle;\n",
       "    }\n",
       "\n",
       "    .dataframe tbody tr th {\n",
       "        vertical-align: top;\n",
       "    }\n",
       "\n",
       "    .dataframe thead th {\n",
       "        text-align: right;\n",
       "    }\n",
       "</style>\n",
       "<table border=\"1\" class=\"dataframe\">\n",
       "  <thead>\n",
       "    <tr style=\"text-align: right;\">\n",
       "      <th></th>\n",
       "      <th>name</th>\n",
       "      <th>address</th>\n",
       "      <th>gmap_id</th>\n",
       "      <th>latitude</th>\n",
       "      <th>longitude</th>\n",
       "      <th>category</th>\n",
       "      <th>avg_rating</th>\n",
       "      <th>num_of_reviews</th>\n",
       "      <th>state</th>\n",
       "    </tr>\n",
       "  </thead>\n",
       "  <tbody>\n",
       "    <tr>\n",
       "      <th>0</th>\n",
       "      <td>Vons Chicken</td>\n",
       "      <td>Vons Chicken, 12740 La Mirada Blvd, La Mirada,...</td>\n",
       "      <td>0x80dd2b4c8555edb7:0xfc33d65c4bdbef42</td>\n",
       "      <td>33.916402</td>\n",
       "      <td>-118.010855</td>\n",
       "      <td>Restaurant</td>\n",
       "      <td>4.5</td>\n",
       "      <td>18</td>\n",
       "      <td>California</td>\n",
       "    </tr>\n",
       "    <tr>\n",
       "      <th>1</th>\n",
       "      <td>Vivi Bubble Tea</td>\n",
       "      <td>Vivi Bubble Tea, 701 S 5th St, Philadelphia, P...</td>\n",
       "      <td>0x89c6c89efcaed69d:0xded973f6033e7dba</td>\n",
       "      <td>39.940293</td>\n",
       "      <td>-75.150923</td>\n",
       "      <td>Restaurant</td>\n",
       "      <td>4.0</td>\n",
       "      <td>8</td>\n",
       "      <td>New Jersey</td>\n",
       "    </tr>\n",
       "    <tr>\n",
       "      <th>2</th>\n",
       "      <td>Hale Pops</td>\n",
       "      <td>Hale Pops, 55-370 Kamehameha Hwy, Laie, HI 96762</td>\n",
       "      <td>0x7c00456eecad3111:0x8217f9600c51f33</td>\n",
       "      <td>21.637796</td>\n",
       "      <td>-157.920714</td>\n",
       "      <td>Restaurant</td>\n",
       "      <td>4.4</td>\n",
       "      <td>18</td>\n",
       "      <td>Hawaii</td>\n",
       "    </tr>\n",
       "  </tbody>\n",
       "</table>\n",
       "</div>"
      ],
      "text/plain": [
       "              name                                            address   \n",
       "0     Vons Chicken  Vons Chicken, 12740 La Mirada Blvd, La Mirada,...  \\\n",
       "1  Vivi Bubble Tea  Vivi Bubble Tea, 701 S 5th St, Philadelphia, P...   \n",
       "2        Hale Pops   Hale Pops, 55-370 Kamehameha Hwy, Laie, HI 96762   \n",
       "\n",
       "                                 gmap_id   latitude   longitude    category   \n",
       "0  0x80dd2b4c8555edb7:0xfc33d65c4bdbef42  33.916402 -118.010855  Restaurant  \\\n",
       "1  0x89c6c89efcaed69d:0xded973f6033e7dba  39.940293  -75.150923  Restaurant   \n",
       "2   0x7c00456eecad3111:0x8217f9600c51f33  21.637796 -157.920714  Restaurant   \n",
       "\n",
       "   avg_rating  num_of_reviews       state  \n",
       "0         4.5              18  California  \n",
       "1         4.0               8  New Jersey  \n",
       "2         4.4              18      Hawaii  "
      ]
     },
     "execution_count": 65,
     "metadata": {},
     "output_type": "execute_result"
    }
   ],
   "source": [
    "df2.head(3)"
   ]
  },
  {
   "cell_type": "markdown",
   "metadata": {},
   "source": [
    "### Análisis vs Google Sitios"
   ]
  },
  {
   "cell_type": "code",
   "execution_count": 66,
   "metadata": {},
   "outputs": [
    {
     "data": {
      "text/plain": [
       "754"
      ]
     },
     "execution_count": 66,
     "metadata": {},
     "output_type": "execute_result"
    }
   ],
   "source": [
    "len(df['gmap_id'].unique())"
   ]
  },
  {
   "cell_type": "code",
   "execution_count": 67,
   "metadata": {},
   "outputs": [
    {
     "data": {
      "text/plain": [
       "2474"
      ]
     },
     "execution_count": 67,
     "metadata": {},
     "output_type": "execute_result"
    }
   ],
   "source": [
    "len(df2[df2['state']=='Florida']['gmap_id'].unique())"
   ]
  },
  {
   "cell_type": "markdown",
   "metadata": {},
   "source": [
    "Comparando la cantidad de registros únicos entre los 2 datasets distintos, vemos que de 2474 restaurants, solo 751 tienen reviews"
   ]
  },
  {
   "cell_type": "code",
   "execution_count": 68,
   "metadata": {},
   "outputs": [
    {
     "name": "stdout",
     "output_type": "stream",
     "text": [
      "<class 'pandas.core.frame.DataFrame'>\n",
      "RangeIndex: 34542 entries, 0 to 34541\n",
      "Data columns (total 9 columns):\n",
      " #   Column          Non-Null Count  Dtype  \n",
      "---  ------          --------------  -----  \n",
      " 0   name            34542 non-null  object \n",
      " 1   address         34542 non-null  object \n",
      " 2   gmap_id         34542 non-null  object \n",
      " 3   latitude        34542 non-null  float64\n",
      " 4   longitude       34542 non-null  float64\n",
      " 5   category        34542 non-null  object \n",
      " 6   avg_rating      34542 non-null  float64\n",
      " 7   num_of_reviews  34542 non-null  int64  \n",
      " 8   state           34542 non-null  object \n",
      "dtypes: float64(3), int64(1), object(5)\n",
      "memory usage: 2.4+ MB\n"
     ]
    }
   ],
   "source": [
    "df2.info()"
   ]
  },
  {
   "cell_type": "markdown",
   "metadata": {},
   "source": [
    "### Análisis de ratings\n",
    "Como podemos ver con los análisis a continuación, vemos que la media de ratings es de 4.4"
   ]
  },
  {
   "cell_type": "code",
   "execution_count": 69,
   "metadata": {},
   "outputs": [
    {
     "data": {
      "text/plain": [
       "count    23729.000000\n",
       "mean         4.402335\n",
       "std          1.094604\n",
       "min          1.000000\n",
       "25%          4.000000\n",
       "50%          5.000000\n",
       "75%          5.000000\n",
       "max          5.000000\n",
       "Name: rating, dtype: float64"
      ]
     },
     "execution_count": 69,
     "metadata": {},
     "output_type": "execute_result"
    }
   ],
   "source": [
    "df['rating'].describe()"
   ]
  },
  {
   "cell_type": "code",
   "execution_count": 70,
   "metadata": {},
   "outputs": [
    {
     "data": {
      "text/plain": [
       "<Axes: xlabel='rating', ylabel='Count'>"
      ]
     },
     "execution_count": 70,
     "metadata": {},
     "output_type": "execute_result"
    },
    {
     "data": {
      "image/png": "[encoded data removed]",
      "text/plain": [
       "<Figure size 640x480 with 1 Axes>"
      ]
     },
     "metadata": {},
     "output_type": "display_data"
    }
   ],
   "source": [
    "sns.histplot(df['rating'], bins=5)  # kde=True agrega una estimación de la densidad\n"
   ]
  },
  {
   "cell_type": "markdown",
   "metadata": {},
   "source": [
    "### Análisis de reviews anual"
   ]
  },
  {
   "cell_type": "code",
   "execution_count": 71,
   "metadata": {},
   "outputs": [
    {
     "name": "stderr",
     "output_type": "stream",
     "text": [
      "C:\\Users\\Mariano\\AppData\\Local\\Temp\\ipykernel_3792\\221598421.py:1: FutureWarning: \n",
      "\n",
      "The `ci` parameter is deprecated. Use `errorbar=None` for the same effect.\n",
      "\n",
      "  sns.lineplot(x='year',y='rating',data = df,ci=None)\n"
     ]
    },
    {
     "data": {
      "text/plain": [
       "<Axes: xlabel='year', ylabel='rating'>"
      ]
     },
     "execution_count": 71,
     "metadata": {},
     "output_type": "execute_result"
    },
    {
     "data": {
      "image/png": "[encoded data removed]",
      "text/plain": [
       "<Figure size 640x480 with 1 Axes>"
      ]
     },
     "metadata": {},
     "output_type": "display_data"
    }
   ],
   "source": [
    "sns.lineplot(x='year',y='rating',data = df,ci=None)"
   ]
  },
  {
   "cell_type": "code",
   "execution_count": 72,
   "metadata": {},
   "outputs": [
    {
     "data": {
      "text/plain": [
       "<Axes: xlabel='year', ylabel='Count'>"
      ]
     },
     "execution_count": 72,
     "metadata": {},
     "output_type": "execute_result"
    },
    {
     "data": {
      "image/png": "[encoded data removed]",
      "text/plain": [
       "<Figure size 640x480 with 1 Axes>"
      ]
     },
     "metadata": {},
     "output_type": "display_data"
    }
   ],
   "source": [
    "sns.histplot(df['year'], bins=11)  # kde=True agrega una estimación de la densidad"
   ]
  },
  {
   "cell_type": "code",
   "execution_count": 73,
   "metadata": {},
   "outputs": [
    {
     "data": {
      "text/plain": [
       "year\n",
       "2021    6371\n",
       "2019    5812\n",
       "2020    5439\n",
       "2018    3154\n",
       "2017    1934\n",
       "2016     692\n",
       "2015     170\n",
       "2013      54\n",
       "2014      43\n",
       "2012      29\n",
       "2011      28\n",
       "2010       3\n",
       "Name: count, dtype: int64"
      ]
     },
     "execution_count": 73,
     "metadata": {},
     "output_type": "execute_result"
    }
   ],
   "source": [
    "df['year'].value_counts()"
   ]
  },
  {
   "cell_type": "markdown",
   "metadata": {},
   "source": [
    "Podemos ver como la puntuación fue subiendo año a año, y como la cantidad de puntuaciones fue creciendo exponencialmente desde el 2015 en adelante, por lo que podríamos optar por trabajar con infromación de este año en adelante."
   ]
  },
  {
   "cell_type": "code",
   "execution_count": 74,
   "metadata": {},
   "outputs": [],
   "source": [
    "df = df[df['year']>2014]"
   ]
  },
  {
   "cell_type": "markdown",
   "metadata": {},
   "source": [
    "### Análisis de reviews por categoría"
   ]
  },
  {
   "cell_type": "code",
   "execution_count": 75,
   "metadata": {},
   "outputs": [
    {
     "data": {
      "text/plain": [
       "<Axes: xlabel='month', ylabel='rating'>"
      ]
     },
     "execution_count": 75,
     "metadata": {},
     "output_type": "execute_result"
    },
    {
     "data": {
      "image/png": "[encoded data removed]",
      "text/plain": [
       "<Figure size 640x480 with 1 Axes>"
      ]
     },
     "metadata": {},
     "output_type": "display_data"
    }
   ],
   "source": [
    "df['month'] = df['time'].dt.month\n",
    "\n",
    "\n",
    "media_mensual = df.groupby([ 'month'])['rating'].mean().reset_index()\n",
    "\n",
    "\n",
    "\n",
    "sns.lineplot(x='month', y='rating', data=media_mensual, marker='o')\n"
   ]
  },
  {
   "cell_type": "code",
   "execution_count": 76,
   "metadata": {},
   "outputs": [
    {
     "data": {
      "text/plain": [
       "Timestamp('2021-09-07 21:31:17.761000')"
      ]
     },
     "execution_count": 76,
     "metadata": {},
     "output_type": "execute_result"
    }
   ],
   "source": [
    "df['time'].max()"
   ]
  }
 ],
 "metadata": {
  "kernelspec": {
   "display_name": "Python 3",
   "language": "python",
   "name": "python3"
  },
  "language_info": {
   "codemirror_mode": {
    "name": "ipython",
    "version": 3
   },
   "file_extension": ".py",
   "mimetype": "text/x-python",
   "name": "python",
   "nbconvert_exporter": "python",
   "pygments_lexer": "ipython3",
   "version": "3.11.1"
  },
  "orig_nbformat": 4
 },
 "nbformat": 4,
 "nbformat_minor": 2
}
